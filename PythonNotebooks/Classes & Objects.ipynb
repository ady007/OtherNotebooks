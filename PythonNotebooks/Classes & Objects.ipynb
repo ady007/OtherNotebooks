{
 "cells": [
  {
   "cell_type": "markdown",
   "metadata": {},
   "source": [
    "# Classes & Objects"
   ]
  },
  {
   "cell_type": "markdown",
   "metadata": {},
   "source": [
    "All values used in a program are objects.An object consists of internal data and methods that perform various kinds of operations involving that data.You have already used objects and methods when working with the built-in types such as strings and lists. For example:"
   ]
  },
  {
   "cell_type": "code",
   "execution_count": 2,
   "metadata": {},
   "outputs": [],
   "source": [
    "items = [37, 42] # Create a list object\n",
    "items.append(73) # Call the append() method"
   ]
  },
  {
   "cell_type": "markdown",
   "metadata": {},
   "source": [
    "The dir() function lists the methods available on an object and is a useful tool for interactive experimentation."
   ]
  },
  {
   "cell_type": "code",
   "execution_count": 3,
   "metadata": {
    "scrolled": true
   },
   "outputs": [
    {
     "data": {
      "text/plain": [
       "['__add__',\n",
       " '__class__',\n",
       " '__contains__',\n",
       " '__delattr__',\n",
       " '__delitem__',\n",
       " '__dir__',\n",
       " '__doc__',\n",
       " '__eq__',\n",
       " '__format__',\n",
       " '__ge__',\n",
       " '__getattribute__',\n",
       " '__getitem__',\n",
       " '__gt__',\n",
       " '__hash__',\n",
       " '__iadd__',\n",
       " '__imul__',\n",
       " '__init__',\n",
       " '__init_subclass__',\n",
       " '__iter__',\n",
       " '__le__',\n",
       " '__len__',\n",
       " '__lt__',\n",
       " '__mul__',\n",
       " '__ne__',\n",
       " '__new__',\n",
       " '__reduce__',\n",
       " '__reduce_ex__',\n",
       " '__repr__',\n",
       " '__reversed__',\n",
       " '__rmul__',\n",
       " '__setattr__',\n",
       " '__setitem__',\n",
       " '__sizeof__',\n",
       " '__str__',\n",
       " '__subclasshook__',\n",
       " 'append',\n",
       " 'clear',\n",
       " 'copy',\n",
       " 'count',\n",
       " 'extend',\n",
       " 'index',\n",
       " 'insert',\n",
       " 'pop',\n",
       " 'remove',\n",
       " 'reverse',\n",
       " 'sort']"
      ]
     },
     "execution_count": 3,
     "metadata": {},
     "output_type": "execute_result"
    }
   ],
   "source": [
    "dir(items)"
   ]
  },
  {
   "cell_type": "markdown",
   "metadata": {},
   "source": [
    "When inspecting objects, you will see familiar methods such as append() and insert() listed. However, you will also see special methods that always begin and end with a double underscore.These methods implement various language operations. For example, the __add__() method implements the + operator:"
   ]
  },
  {
   "cell_type": "code",
   "execution_count": 4,
   "metadata": {
    "scrolled": true
   },
   "outputs": [
    {
     "data": {
      "text/plain": [
       "[37, 42, 73, 73, 101]"
      ]
     },
     "execution_count": 4,
     "metadata": {},
     "output_type": "execute_result"
    }
   ],
   "source": [
    "items.__add__([73,101])"
   ]
  },
  {
   "cell_type": "markdown",
   "metadata": {},
   "source": [
    "The class statement is used to define new types of objects and for object-oriented programming. For example, the following class defines a simple stack with push(), pop(), and length() operations:"
   ]
  },
  {
   "cell_type": "code",
   "execution_count": null,
   "metadata": {},
   "outputs": [],
   "source": [
    "class Stack(object): \n",
    "    def __init__(self):\n",
    "        self.stack = [ ]\n",
    "    def push(self,object):\n",
    "        self.stack.append(object)\n",
    "    def pop(self):\n",
    "        return self.stack.pop()\n",
    "    def length(self):\n",
    "        return len(self.stack)"
   ]
  },
  {
   "cell_type": "markdown",
   "metadata": {},
   "source": [
    "In the first line of the class definition, the statement class Stack(object) declares Stack to be an object.The use of parentheses is how Python specifies inheritance—in this case, Stack inherits from object, which is the root of all Python types. Inside the class definition, methods are defined using the def statement.The first argument in each method always refers to the object itself. By convention, self is the name used for this argument.All operations involving the attributes of an object must explicitly refer to the self variable. Methods with leading and trailing double underscores are special meth- ods. For example,__init__ is used to initialize an object after it’s created.\n",
    "\n",
    "Normally, all of the methods defined within a class apply only to instances of that class (that is, the objects that are created). However, different kinds of methods can be defined such as static methods familiar to C++ and Java programmers."
   ]
  },
  {
   "cell_type": "code",
   "execution_count": null,
   "metadata": {
    "scrolled": true
   },
   "outputs": [],
   "source": [
    "class EventHandler(object):\n",
    "    @staticmethod    #Decorator. Multiple decorators can be used on multiple lines\n",
    "    def dispatcherThread():\n",
    "        while (1):\n",
    "        # Wait for requests"
   ]
  },
  {
   "cell_type": "markdown",
   "metadata": {},
   "source": [
    "The built-in function id() returns the identity of an object as an integer.This integer usually corresponds to the object’s location in memory, although this is specific to the Python implementation and no such interpretation of the identity should be made. The is operator compares the identity of two objects.The built-in function type() returns the type of an object."
   ]
  },
  {
   "cell_type": "code",
   "execution_count": 6,
   "metadata": {
    "scrolled": true
   },
   "outputs": [
    {
     "name": "stdout",
     "output_type": "stream",
     "text": [
      "4507806224\n",
      "<class 'int'>\n"
     ]
    }
   ],
   "source": [
    "a = 42\n",
    "print(id(a))\n",
    "print(type(a))"
   ]
  },
  {
   "cell_type": "markdown",
   "metadata": {},
   "source": [
    "**Comparing Objects**"
   ]
  },
  {
   "cell_type": "code",
   "execution_count": null,
   "metadata": {
    "scrolled": true
   },
   "outputs": [],
   "source": [
    "# Compare two objects \n",
    "def compare(a,b):\n",
    "    if a is b:\n",
    "        # a and b are the same object statements\n",
    "    if a == b:\n",
    "        # a and b have the same value statements\n",
    "    if type(a) is type(b):\n",
    "        # a and b have the same type statements"
   ]
  },
  {
   "cell_type": "markdown",
   "metadata": {},
   "source": [
    "The type of an object is itself an object known as the object’s class.This object is uniquely defined and is always the same for all instances of a given type.Therefore, the type can be compared using the is operator. All type objects are assigned names that can be used to perform type checking. Most of these names are built-ins, such as list, dict, and file."
   ]
  },
  {
   "cell_type": "code",
   "execution_count": null,
   "metadata": {},
   "outputs": [],
   "source": [
    "if type(s) is list: \n",
    "    s.append(item)"
   ]
  },
  {
   "cell_type": "markdown",
   "metadata": {},
   "source": [
    "Because types can be specialized by defining classes, a better way to check types is to use the built-in isinstance(object, type) function."
   ]
  },
  {
   "cell_type": "code",
   "execution_count": null,
   "metadata": {},
   "outputs": [],
   "source": [
    "if isinstance(s,list):\n",
    "    s.append(item)"
   ]
  },
  {
   "cell_type": "markdown",
   "metadata": {},
   "source": [
    "# Reference Counting And Garbage Collection"
   ]
  },
  {
   "cell_type": "markdown",
   "metadata": {},
   "source": [
    "All objects are reference-counted. An object’s reference count is increased whenever it’s assigned to a new name or placed in a container such as a list, tuple, or dictionary, as shown here:"
   ]
  },
  {
   "cell_type": "code",
   "execution_count": 13,
   "metadata": {},
   "outputs": [],
   "source": [
    "a = 5 # Creates an object with value 37 \n",
    "b = a # Increases reference count on 37 \n",
    "c = []\n",
    "c.append(b) # Increases reference count on 37"
   ]
  },
  {
   "cell_type": "markdown",
   "metadata": {},
   "source": [
    "This example creates a single object containing the value 37. a is merely a name that refers to the newly created object. When b is assigned a, b becomes a new name for the same object and the object’s reference count increases. Likewise, when you place b into a list, the object’s reference count increases again. Throughout the example, only one object contains 37. All other operations are simply creating new references to the object. An object’s reference count is decreased by the del statement or whenever a refer- ence goes out of scope (or is reassigned). The current reference count of an object can be obtained using the sys.getrefcount() function."
   ]
  },
  {
   "cell_type": "code",
   "execution_count": 15,
   "metadata": {
    "scrolled": true
   },
   "outputs": [
    {
     "name": "stdout",
     "output_type": "stream",
     "text": [
      "245\n"
     ]
    }
   ],
   "source": [
    "import sys\n",
    "print(sys.getrefcount(a))"
   ]
  },
  {
   "cell_type": "markdown",
   "metadata": {},
   "source": [
    "In many cases, the reference count is much higher than you might guess. For immutable data such as numbers and strings, the interpreter aggressively shares objects between dif- ferent parts of the program in order to conserve memory. When an object’s reference count reaches zero, it is garbage-collected. However, in some cases a circular dependency may exist among a collection of objects that are no longer in use."
   ]
  },
  {
   "cell_type": "code",
   "execution_count": 16,
   "metadata": {},
   "outputs": [],
   "source": [
    "a={}\n",
    "b={}\n",
    "a['b'] = b # a contains reference to b\n",
    "b['a'] = a # b contains reference to a\n",
    "del a\n",
    "del b"
   ]
  },
  {
   "cell_type": "markdown",
   "metadata": {},
   "source": [
    "In this example, the del statements decrease the reference count of a and b and destroy the names used to refer to the underlying objects. However, because each object con- tains a reference to the other, the reference count doesn’t drop to zero and the objects remain allocated (resulting in a memory leak). To address this problem, the interpreter periodically executes a cycle detector that searches for cycles of inaccessible objects and deletes them. The cycle-detection algorithm runs periodically as the interpreter allocates more and more memory during execution. The exact behavior can be fine-tuned and controlled using functions in the gc module."
   ]
  },
  {
   "cell_type": "markdown",
   "metadata": {},
   "source": [
    "# References & Copies"
   ]
  },
  {
   "cell_type": "markdown",
   "metadata": {},
   "source": [
    "When a program makes an assignment such as a = b, a new reference to b is created. For immutable objects such as numbers and strings, this assignment effectively creates a copy of b. However, the behavior is quite different for mutable objects such as lists and dictionaries."
   ]
  },
  {
   "cell_type": "code",
   "execution_count": 18,
   "metadata": {
    "scrolled": true
   },
   "outputs": [
    {
     "name": "stdout",
     "output_type": "stream",
     "text": [
      "True\n",
      "[1, 2, -100, 4]\n"
     ]
    }
   ],
   "source": [
    "a = [1,2,3,4]\n",
    "b = a\n",
    "print(b is a)\n",
    "b[2]= -100\n",
    "print(a)"
   ]
  },
  {
   "cell_type": "markdown",
   "metadata": {},
   "source": [
    "Because a and b refer to the same object in this example, a change made to one of the variables is reflected in the other.To avoid this, you have to create a copy of an object rather than a new reference. Two types of copy operations are applied to container objects such as lists and dic- tionaries: a shallow copy and a deep copy. A shallow copy creates a new object but popu- lates it with references to the items contained in the original object."
   ]
  },
  {
   "cell_type": "code",
   "execution_count": 11,
   "metadata": {
    "scrolled": true
   },
   "outputs": [
    {
     "data": {
      "text/plain": [
       "False"
      ]
     },
     "execution_count": 11,
     "metadata": {},
     "output_type": "execute_result"
    }
   ],
   "source": [
    "a = [1,2,[3,4]]\n",
    "b = list(a)\n",
    "b is a"
   ]
  },
  {
   "cell_type": "code",
   "execution_count": 12,
   "metadata": {
    "scrolled": true
   },
   "outputs": [
    {
     "name": "stdout",
     "output_type": "stream",
     "text": [
      "[1, 2, [3, 4], 100]\n",
      "[1, 2, [3, 4]]\n"
     ]
    }
   ],
   "source": [
    "b.append(100)\n",
    "print(b)\n",
    "print(a)"
   ]
  },
  {
   "cell_type": "code",
   "execution_count": 13,
   "metadata": {
    "scrolled": true
   },
   "outputs": [
    {
     "name": "stdout",
     "output_type": "stream",
     "text": [
      "[1, 2, [-100, 4], 100]\n",
      "[1, 2, [-100, 4]]\n"
     ]
    }
   ],
   "source": [
    "b[2][0] = -100\n",
    "print(b)\n",
    "print(a)"
   ]
  },
  {
   "cell_type": "markdown",
   "metadata": {},
   "source": [
    "In this case, a and b are separate list objects, but the elements they contain are shared. Therefore, a modification to one of the elements of a also modifies an element of b, as shown. A deep copy creates a new object and recursively copies all the objects it contains. There is no built-in operation to create deep copies of objects. However, the copy.deepcopy() function in the standard library can be used, as shown in the following example:"
   ]
  },
  {
   "cell_type": "code",
   "execution_count": 15,
   "metadata": {},
   "outputs": [],
   "source": [
    "import copy\n",
    "a = [1,2,[3,4]]\n",
    "b = copy.deepcopy(a)"
   ]
  },
  {
   "cell_type": "markdown",
   "metadata": {},
   "source": [
    "# First Class Objects"
   ]
  },
  {
   "cell_type": "markdown",
   "metadata": {},
   "source": [
    "All objects in Python are said to be “first class.”This means that all objects that can be named by an identifier have equal status. It also means that all objects that can be named can be treated as data. For example, here is a simple dictionary containing two values:"
   ]
  },
  {
   "cell_type": "code",
   "execution_count": 22,
   "metadata": {},
   "outputs": [],
   "source": [
    "items = { \n",
    "    'number' : 42,\n",
    "    'text' : \"Hello World\"\n",
    "}"
   ]
  },
  {
   "cell_type": "markdown",
   "metadata": {},
   "source": [
    "The first-class nature of objects can be seen by adding some more unusual items to this dictionary."
   ]
  },
  {
   "cell_type": "code",
   "execution_count": 24,
   "metadata": {
    "scrolled": true
   },
   "outputs": [
    {
     "name": "stdout",
     "output_type": "stream",
     "text": [
      "45\n"
     ]
    }
   ],
   "source": [
    "items[\"func\"] = abs\n",
    "print(items[\"func\"](-45))"
   ]
  },
  {
   "cell_type": "markdown",
   "metadata": {},
   "source": [
    "The fact that everything in Python is first-class is often not fully appreciated by new programmers. However, it can be used to write very compact and flexible code. For example, suppose you had a line of text such as \"GOOG,100,490.10\" and you wanted to convert it into a list of fields with appropriate type-conversion. Here’s a clever way that you might do it by creating a list of types (which are first-class objects) and execut- ing a few simple list processing operations:"
   ]
  },
  {
   "cell_type": "code",
   "execution_count": 25,
   "metadata": {},
   "outputs": [
    {
     "name": "stdout",
     "output_type": "stream",
     "text": [
      "['GOOG', 100, 490.1]\n"
     ]
    }
   ],
   "source": [
    "line = \"GOOG,100,490.10\"\n",
    "field_types = [str, int, float]\n",
    "raw_fields = line.split(',')\n",
    "fields = [ty(val) for ty,val in zip(field_types,raw_fields)]\n",
    "print(fields)"
   ]
  },
  {
   "cell_type": "markdown",
   "metadata": {},
   "source": []
  },
  {
   "cell_type": "code",
   "execution_count": 26,
   "metadata": {
    "scrolled": true
   },
   "outputs": [
    {
     "name": "stdout",
     "output_type": "stream",
     "text": [
      "<class 'NoneType'>\n"
     ]
    }
   ],
   "source": [
    "print(type(None))"
   ]
  },
  {
   "cell_type": "markdown",
   "metadata": {},
   "source": [
    "# Classes\n",
    "\n",
    "### (TODO : Not very clear. Requires a lot of work)\n",
    "Reference : Corey Schafer\n",
    "\n",
    "A class in Python is effectively a data type. All the data types built into Python are classes, and Python gives you powerful tools to manipulate every aspect of a class’s behavior.\n",
    "\n",
    "A **class variable** is a variable associated with a class, not an instance of a class, and is accessed by all instances of the class, in order to keep track of some class-level information, such as how many instances of the class have been created at any point in time. Python provides class variables, although using them requires slightly more effort than in most other languages. Also, you need to watch out for an interaction between class and instance variables. They can be invoked by classname.classvariable\n",
    "\n",
    "When Python is looking up an instance variable, if it can’t find an instance variable of that name, it will then try to find and return the value in a class variable of the same name. Only if it can’t find an appropriate class variable will it signal an error. This does make it efficient to implement default values for instance variables; just create a class variable with the same name and appropriate default value, and avoid the time and memory overhead of initializing that instance variable every time a class instance is created. But this also makes it easy to inadvertently refer to an instance variable rather than a class variable, without signaling an error.\n",
    "\n",
    "Just as in Java, you can invoke **static methods** even though no instance of that class has been created, although you can call them using a class instance. To create a static method, use the @staticmethod decorator,\n",
    "\n",
    "**Class methods** are similar to static methods in that they can be invoked before an object of the class has been instantiated or by using an instance of the class. But class methods are implicitly passed the class they belong to as their first parameter, so you can code them more simply,"
   ]
  },
  {
   "cell_type": "code",
   "execution_count": 34,
   "metadata": {},
   "outputs": [
    {
     "name": "stdout",
     "output_type": "stream",
     "text": [
      "hello world\n"
     ]
    }
   ],
   "source": [
    "class SimpleClass:\n",
    "    pass\n",
    "\n",
    "sc = SimpleClass()\n",
    "sc.myattr = \"hello world\"\n",
    "\n",
    "print(sc.myattr)"
   ]
  },
  {
   "cell_type": "code",
   "execution_count": 16,
   "metadata": {},
   "outputs": [],
   "source": [
    "class Account(object):\n",
    "    num_accounts = 0\n",
    "    def __init__(self,name,balance):\n",
    "        self.name = name\n",
    "        self.balance = balance\n",
    "        Account.num_accounts += 1\n",
    "    def __del__(self):\n",
    "        Account.num_accounts -= 1\n",
    "    def deposit(self,amt):\n",
    "        self.balance = self.balance + amt\n",
    "    def withdraw(self,amt):\n",
    "        self.balance = self.balance - amt\n",
    "    def inquiry(self):\n",
    "        return self.balance"
   ]
  },
  {
   "cell_type": "markdown",
   "metadata": {},
   "source": [
    "The values created during the execution of the class body are placed into a class object that serves as a namespace much like a module. For example, the members of the Account class are accessed as follows:"
   ]
  },
  {
   "cell_type": "code",
   "execution_count": 17,
   "metadata": {},
   "outputs": [
    {
     "data": {
      "text/plain": [
       "<function __main__.Account.inquiry(self)>"
      ]
     },
     "execution_count": 17,
     "metadata": {},
     "output_type": "execute_result"
    }
   ],
   "source": [
    "Account.num_accounts\n",
    "Account.__init__\n",
    "Account.__del__\n",
    "Account.deposit\n",
    "Account.withdraw\n",
    "Account.inquiry"
   ]
  },
  {
   "cell_type": "markdown",
   "metadata": {},
   "source": [
    "It’s important to note that a class statement by itself doesn’t create any instances of the class (for example, no accounts are actually created in the preceding example). Rather, a class merely sets up the attributes that will be common to all the instances that will be created later. In this sense, you might think of it as a blueprint. The functions defined inside a class are known as instance methods. An instance method is a function that operates on an instance of the class, which is passed as the first argument. By convention, this argument is called self, although any legal identifier name can be used. In the preceding example, deposit(), withdraw(), and inquiry() are examples of instance methods. Class variables such as num_accounts are values that are shared among all instances of a class (that is, they’re not individually assigned to each instance). In this case, it’s a variable that’s keeping track of how many Account instances are in existence."
   ]
  },
  {
   "cell_type": "markdown",
   "metadata": {},
   "source": [
    "Instances of a class are created by calling a class object as a function. This creates a new instance that is then passed to the __init__() method of the class.The arguments to __init__() consist of the newly created instance self along with the arguments supplied when calling the class object. "
   ]
  },
  {
   "cell_type": "code",
   "execution_count": 32,
   "metadata": {
    "scrolled": false
   },
   "outputs": [
    {
     "name": "stdout",
     "output_type": "stream",
     "text": [
      "<__main__.Account object at 0x1041954a8>\n",
      "<__main__.Account object at 0x104195c18>\n"
     ]
    }
   ],
   "source": [
    "# Create a few accounts\n",
    "a = Account(\"Guido\", 1000.00) # Invokes Account.__init__(a,\"Guido\",1000.00)\n",
    "b = Account(\"Bill\", 10.00)\n",
    "print(a)\n",
    "print(b)"
   ]
  },
  {
   "cell_type": "markdown",
   "metadata": {},
   "source": [
    "Inside __init__(), attributes are saved in the instance by assigning to self. For example, self.name = name is saving a name attribute in the instance. Once the newly created instance has been returned to the user, these attributes as well as attrib- utes of the class are accessed using the dot (.) operator as follows:"
   ]
  },
  {
   "cell_type": "code",
   "execution_count": 22,
   "metadata": {},
   "outputs": [],
   "source": [
    "a.deposit(100.00)\n",
    "b.withdraw(50.00)\n",
    "name = a.name"
   ]
  },
  {
   "cell_type": "markdown",
   "metadata": {},
   "source": [
    "The dot (.) operator is responsible for attribute binding.When you access an attribute, the resulting value may come from several different places. For example, a.name in the previous example returns the name attribute of the instance a. However, a.deposit returns the deposit attribute (a method) of the Account class.When you access an attribute, the instance is checked first and if nothing is known, the search moves to the instance’s class instead.This is the underlying mechanism by which a class shares its attributes with all of its instances.\n",
    "\n",
    "Although classes define a namespace, classes do not create a scope for names used inside the bodies of methods.Therefore, when you’re implementing a class, references to attributes and methods must be fully qualified. For example, in methods you always ref- erence attributes of the instance through self. Thus, in the example you use self.balance, not balance. This also applies if you want to call a method from another method, as shown in the following example:"
   ]
  },
  {
   "cell_type": "code",
   "execution_count": 25,
   "metadata": {},
   "outputs": [],
   "source": [
    "class Foo(object):\n",
    "    def bar(self):\n",
    "        print(\"bar!\")\n",
    "    def spam(self):\n",
    "        bar(self)\n",
    "        self.bar()\n",
    "        Foo.bar(self) # This also works"
   ]
  },
  {
   "cell_type": "markdown",
   "metadata": {},
   "source": [
    "The lack of scoping in classes is one area where Python differs from C++ or Java. If you have used those languages, the self parameter in Python is the same as the this pointer. The explicit use of self is required because Python does not provide a means to explicitly declare variables (that is, a declaration such as int x or float y in C). Without this, there is no way to know whether an assignment to a variable in a method is supposed to be a local variable or if it’s supposed to be saved as an instance attribute. The explicit use of self fixes this—all values stored on self are part of the instance and all other assignments are just local variables.\n",
    "\n",
    "# Inheritance\n",
    "\n",
    "Inheritance is a mechanism for creating a new class that specializes or modifies the behavior of an existing class.The original class is called a base class or a superclass.The new class is called a derived class or a subclass.When a class is created via inheritance, it “inherits” the attributes defined by its base classes. However, a derived class may redefine any of these attributes and add new attributes of its own. Inheritance is specified with a comma-separated list of base-class names in the class statement. If there is no logical base class, a class inherits from object, as has been shown in prior examples. object is a class which is the root of all Python objects and which provides the default implementation of some common methods such as __str__(), which creates a string for use in printing.Inheritance is often used to redefine the behavior of existing methods.As an example, here’s a specialized version of Account that redefines the inquiry() method to periodically overstate the current balance with the hope that someone not paying close attention will overdraw his account and incur a big penalty when making a payment on their subprime mortgage:"
   ]
  },
  {
   "cell_type": "code",
   "execution_count": 26,
   "metadata": {},
   "outputs": [],
   "source": [
    "import random\n",
    "class EvilAccount(Account):\n",
    "    def inquiry(self):\n",
    "        if random.randint(0,4) == 1:\n",
    "            return self.balance * 1.10\n",
    "        else:\n",
    "            return self.balance\n",
    "        \n",
    "# Note: Patent pending idea\n",
    "c = EvilAccount(\"George\", 1000.00)\n",
    "c.deposit(10.0) # Calls Account.deposit(c,10.0) available = c.inquiry() # Calls EvilAccount.inquiry(c)"
   ]
  },
  {
   "cell_type": "markdown",
   "metadata": {},
   "source": [
    "In this example, instances of EvilAccount are identical to instances of Account except for the redefined inquiry() method. Inheritance is implemented with only a slight enhancement of the dot (.) operator. Specifically, if the search for an attribute doesn’t find a match in the instance or the instance’s class, the search moves on to the base class.This process continues until there are no more base classes to search. In the previous example, this explains why c.deposit() calls the implementation of deposit() defined in the Account class. A subclass can add new attributes to the instances by defining its own version of __init__(). For example, this version of EvilAccount adds a new attribute evilfactor:"
   ]
  },
  {
   "cell_type": "code",
   "execution_count": 27,
   "metadata": {},
   "outputs": [],
   "source": [
    "class EvilAccount(Account):\n",
    "    def __init__(self,name,balance,evilfactor):\n",
    "        Account.__init__(self,name,balance) # Initialize Account\n",
    "        self.evilfactor = evilfactor\n",
    "    def inquiry(self):\n",
    "        if random.randint(0,4) == 1:\n",
    "            return self.balance * self.evilfactor\n",
    "        else:\n",
    "            return self.balance"
   ]
  },
  {
   "cell_type": "markdown",
   "metadata": {},
   "source": [
    "When a derived class defines __init__(), the __init__() methods of base classes are not automatically invoked.Therefore, it’s up to a derived class to perform the proper initialization of the base classes by calling their __init__() methods. In the previous example, this is shown in the statement that calls Account.__init__(). If a base class does not define __init__(), this step can be omitted. If you don’t know whether the base class defines __init__(), it is always safe to call it without any arguments because there is always a default implementation that simply does nothing.\n",
    "\n",
    "Occasionally, a derived class will reimplement a method but also want to call the original implementation.To do this, a method can explicitly call the original method in the base class, passing the instance self as the first parameter as shown here:"
   ]
  },
  {
   "cell_type": "code",
   "execution_count": 28,
   "metadata": {},
   "outputs": [],
   "source": [
    "class MoreEvilAccount(EvilAccount):\n",
    "    def deposit(self,amount):\n",
    "        self.withdraw(5.00) # Subtract the \"convenience\" fee \n",
    "        EvilAccount.deposit(self,amount) # Now, make deposit"
   ]
  },
  {
   "cell_type": "markdown",
   "metadata": {},
   "source": [
    "A subtlety in this example is that the class EvilAccount doesn’t actually implement the deposit() method. Instead, it is implemented in the Account class. Although this code works, it might be confusing to someone reading the code (e.g., was EvilAccount sup- posed to implement deposit()?).Therefore, an alternative solution is to use the super() function as follows:"
   ]
  },
  {
   "cell_type": "code",
   "execution_count": 29,
   "metadata": {},
   "outputs": [],
   "source": [
    "class MoreEvilAccount(EvilAccount):\n",
    "    def deposit(self,amount):\n",
    "        self.withdraw(5.00) # Subtract convenience fee\n",
    "        super(MoreEvilAccount,self).deposit(amount) # Now, make deposit"
   ]
  },
  {
   "cell_type": "markdown",
   "metadata": {},
   "source": [
    "super(cls, instance) returns a special object that lets you perform attribute lookups on the base classes. If you use this, Python will search for an attribute using the normal search rules that would have been used on the base classes.This frees you from hard-coding the exact location of a method and more clearly states your intentions (that is, you want to call the previous implementation without regard for which base class defines it). Unfortunately, the syntax of super() leaves much to be desired. If you are using Python 3, you can use the simplified statement super().deposit(amount) to carry out the calculation shown in the example. In Python 2, however, you have to use the more verbose version. Python supports multiple inheritance.This is specified by having a class list multiple base classes. For example, here are a collection of classes:"
   ]
  },
  {
   "cell_type": "code",
   "execution_count": 30,
   "metadata": {},
   "outputs": [],
   "source": [
    "class DepositCharge(object):\n",
    "    fee = 5.00\n",
    "    def deposit_fee(self):\n",
    "        self.withdraw(self.fee)\n",
    "\n",
    "class WithdrawCharge(object):\n",
    "    fee = 2.50\n",
    "    def withdraw_fee(self):\n",
    "        self.withdraw(self.fee)\n",
    "\n",
    "# Class\n",
    "class MostEvilAccount(EvilAccount, DepositCharge, WithdrawCharge):\n",
    "    def deposit(self,amt):\n",
    "        self.deposit_fee()\n",
    "        super(MostEvilAccount,self).deposit(amt)\n",
    "    def withdraw(self,amt):\n",
    "        self.withdraw_fee()\n",
    "        super(MostEvilAcount,self).withdraw(amt)"
   ]
  },
  {
   "cell_type": "markdown",
   "metadata": {},
   "source": [
    "When multiple inheritance is used, attribute resolution becomes considerably more complicated because there are many possible search paths that could be used to bind attributes.To illustrate the possible complexity, consider the following statements"
   ]
  },
  {
   "cell_type": "code",
   "execution_count": null,
   "metadata": {
    "scrolled": true
   },
   "outputs": [],
   "source": [
    "d = MostEvilAccount(\"Dave\",500.00,1.10)\n",
    "d.deposit_fee() # Calls DepositCharge.deposit_fee(). Fee is 5.00\n",
    "d.withdraw_fee() # Calls WithdrawCharge.withdraw_fee(). Fee is 5.00 ??"
   ]
  },
  {
   "cell_type": "markdown",
   "metadata": {},
   "source": [
    "In this example, methods such as deposit_fee() and withdraw_fee() are uniquely named and found in their respective base classes. However, the withdraw_fee() function doesn’t seem to work right because it doesn’t actually use the value of fee that was initialized in its own class. What has happened is that the attribute fee is a class variable defined in two different base classes. One of those values is used, but which one? (Hint: it’s DepositCharge.fee.)"
   ]
  },
  {
   "cell_type": "markdown",
   "metadata": {},
   "source": [
    "# Static Methods"
   ]
  },
  {
   "cell_type": "markdown",
   "metadata": {},
   "source": [
    "In a class definition, all functions are assumed to operate on an instance, which is always passed as the first parameter self. However, there are two other common kinds of methods that can be defined. A static method is an ordinary function that just happens to live in the namespace defined by a class. It does not operate on any kind of instance.To define a static method, use the @staticmethod decorator as shown here:"
   ]
  },
  {
   "cell_type": "code",
   "execution_count": 35,
   "metadata": {},
   "outputs": [],
   "source": [
    "class Foo(object):\n",
    "    @staticmethod\n",
    "    def add(x,y):\n",
    "        return x + y"
   ]
  },
  {
   "cell_type": "code",
   "execution_count": 36,
   "metadata": {},
   "outputs": [
    {
     "data": {
      "text/plain": [
       "5"
      ]
     },
     "execution_count": 36,
     "metadata": {},
     "output_type": "execute_result"
    }
   ],
   "source": [
    "x = Foo.add(2,3)\n",
    "x"
   ]
  },
  {
   "cell_type": "markdown",
   "metadata": {},
   "source": [
    "A common use of static methods is in writing classes where you might have many dif- ferent ways to create new instances. Because there can only be one __init__() func- tion"
   ]
  },
  {
   "cell_type": "markdown",
   "metadata": {},
   "source": [
    "Class methods are methods that operate on the class itself as an object. Defined using the @classmethod decorator, a class method is different than an instance method in that the class is passed as the first argument which is named cls by convention. For example:"
   ]
  },
  {
   "cell_type": "code",
   "execution_count": 42,
   "metadata": {},
   "outputs": [
    {
     "data": {
      "text/plain": [
       "8"
      ]
     },
     "execution_count": 42,
     "metadata": {},
     "output_type": "execute_result"
    }
   ],
   "source": [
    "#In this example, notice how the class TwoTimes is passed to mul() as an object.\n",
    "class Times(object):\n",
    "    factor = 1\n",
    "    @classmethod\n",
    "    def mul(cls,x):\n",
    "        return cls.factor*x\n",
    "\n",
    "class TwoTimes(Times):\n",
    "    factor = 2\n",
    "\n",
    "x = TwoTimes.mul(4)\n",
    "x"
   ]
  },
  {
   "cell_type": "markdown",
   "metadata": {},
   "source": [
    "# Properties"
   ]
  },
  {
   "cell_type": "markdown",
   "metadata": {},
   "source": [
    "Normally, when you access an attribute of an instance or a class, the associated value that is stored is returned.A property is a special kind of attribute that computes its value when accessed. "
   ]
  },
  {
   "cell_type": "code",
   "execution_count": 45,
   "metadata": {},
   "outputs": [
    {
     "data": {
      "text/plain": [
       "25.132741228718345"
      ]
     },
     "execution_count": 45,
     "metadata": {},
     "output_type": "execute_result"
    }
   ],
   "source": [
    "import math\n",
    "class Circle(object):\n",
    "    def __init__(self,radius):\n",
    "        self.radius = radius\n",
    "    # Some additional properties of Circles @property\n",
    "    def area(self):\n",
    "        return math.pi*self.radius**2 \n",
    "    @property\n",
    "    def perimeter(self):\n",
    "        return 2*math.pi*self.radius\n",
    "    \n",
    "c = Circle(4)\n",
    "c.perimeter"
   ]
  }
 ],
 "metadata": {
  "kernelspec": {
   "display_name": "Python 3",
   "language": "python",
   "name": "python3"
  },
  "language_info": {
   "codemirror_mode": {
    "name": "ipython",
    "version": 3
   },
   "file_extension": ".py",
   "mimetype": "text/x-python",
   "name": "python",
   "nbconvert_exporter": "python",
   "pygments_lexer": "ipython3",
   "version": "3.7.3"
  }
 },
 "nbformat": 4,
 "nbformat_minor": 2
}
