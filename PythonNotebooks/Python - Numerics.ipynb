{
 "cells": [
  {
   "cell_type": "markdown",
   "metadata": {
    "collapsed": true
   },
   "source": [
    "The Python documentation and this book use the term object to refer to instances of any Python data type, not just what many other languages would call class instances. This is because all Python objects are instances of one class or another."
   ]
  },
  {
   "cell_type": "code",
   "execution_count": 38,
   "metadata": {},
   "outputs": [
    {
     "name": "stdout",
     "output_type": "stream",
     "text": [
      "<class 'int'>\n",
      "<class 'float'>\n",
      "<class 'complex'>\n",
      "<class 'bool'>\n",
      "<class 'str'>\n",
      "<class 'tuple'>\n",
      "<class 'list'>\n",
      "<class 'set'>\n",
      "<class 'complex'>\n",
      "<class 'NoneType'>\n"
     ]
    }
   ],
   "source": [
    "print(type(3))\n",
    "print(type(3.2))\n",
    "print(type(3+2j))\n",
    "print(type(True))\n",
    "print(type(\"hello world\"))\n",
    "print(type((3,4)))\n",
    "print(type([3,4]))\n",
    "print(type(set([3,4])))\n",
    "print(type(4+3j))\n",
    "print(type(None))"
   ]
  },
  {
   "cell_type": "code",
   "execution_count": 18,
   "metadata": {},
   "outputs": [
    {
     "name": "stdout",
     "output_type": "stream",
     "text": [
      "2.6\n",
      "2\n",
      "<class 'float'>\n",
      "2.0\n",
      "<class 'float'>\n",
      "33.13784737771648\n"
     ]
    }
   ],
   "source": [
    "print(13/5)\n",
    "print(13//5)\n",
    "print(type(13/5))\n",
    "print(4/2)\n",
    "print(type(4/2))\n",
    "print(4.3**2.4)"
   ]
  },
  {
   "cell_type": "markdown",
   "metadata": {},
   "source": [
    "Several built-in functions can operate on numbers. There are also the library module cmath (which contains functions for complex numbers) and the library module math (which contains functions for the other three types):"
   ]
  },
  {
   "cell_type": "code",
   "execution_count": 27,
   "metadata": {},
   "outputs": [
    {
     "name": "stdout",
     "output_type": "stream",
     "text": [
      "33\n",
      "33.138\n"
     ]
    }
   ],
   "source": [
    "print(round(4.3**2.4))\n",
    "print(round(4.3**2.4 , 3))"
   ]
  },
  {
   "cell_type": "markdown",
   "metadata": {},
   "source": [
    "Python provides the following number-related functions as part of its core:  \n",
    "abs, divmod, cmp, coerce, float, hex, int, long, max, min, oct, pow, round\n",
    "\n",
    "The math module provides the following functions and constants:  \n",
    "acos, asin, atan, atan2, ceil, cos, cosh, e, exp, fabs, floor, fmod, frexp, hypot, ldexp, log, log10, mod, pi, pow, sin, sinh, sqrt, tan, tanh"
   ]
  },
  {
   "cell_type": "code",
   "execution_count": 31,
   "metadata": {},
   "outputs": [
    {
     "name": "stdout",
     "output_type": "stream",
     "text": [
      "3\n",
      "2\n"
     ]
    }
   ],
   "source": [
    "from math import *\n",
    "print(ceil(2.3))\n",
    "\n",
    "import math\n",
    "print(math.floor(2.3))"
   ]
  },
  {
   "cell_type": "markdown",
   "metadata": {},
   "source": [
    "Similar functions, which can operate on complex numbers, are provided in the cmath module:  \n",
    "acos, acosh, asin, asinh, atan, atanh, cos, cosh, e, exp, log, log10,pi, sin, sinh, sqrt, tan, tanh."
   ]
  },
  {
   "cell_type": "code",
   "execution_count": 41,
   "metadata": {},
   "outputs": [
    {
     "name": "stdout",
     "output_type": "stream",
     "text": [
      "<class 'complex'>\n",
      "2.4\n",
      "5.6\n"
     ]
    }
   ],
   "source": [
    "m = 2.4 + 5.6j\n",
    "print(type(m))\n",
    "print(m.real)\n",
    "print(m.imag)"
   ]
  },
  {
   "cell_type": "code",
   "execution_count": null,
   "metadata": {
    "collapsed": true
   },
   "outputs": [],
   "source": []
  }
 ],
 "metadata": {
  "kernelspec": {
   "display_name": "Python 3",
   "language": "python",
   "name": "python3"
  },
  "language_info": {
   "codemirror_mode": {
    "name": "ipython",
    "version": 3
   },
   "file_extension": ".py",
   "mimetype": "text/x-python",
   "name": "python",
   "nbconvert_exporter": "python",
   "pygments_lexer": "ipython3",
   "version": "3.6.1"
  }
 },
 "nbformat": 4,
 "nbformat_minor": 2
}
