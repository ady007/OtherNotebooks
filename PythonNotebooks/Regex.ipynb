{
 "cells": [
  {
   "cell_type": "code",
   "execution_count": 2,
   "metadata": {
    "scrolled": true
   },
   "outputs": [
    {
     "name": "stdout",
     "output_type": "stream",
     "text": [
      "<re.Match object; span=(1, 3), match='el'>\n"
     ]
    }
   ],
   "source": [
    "import re\n",
    "\n",
    "sentence = \"Hello\"\n",
    "pattern = re.compile(r'el')\n",
    "matches = pattern.finditer(sentence)\n",
    "\n",
    "for match in matches:\n",
    "    print(match)"
   ]
  },
  {
   "cell_type": "code",
   "execution_count": 4,
   "metadata": {
    "scrolled": true
   },
   "outputs": [],
   "source": [
    "k = \"\"\"\n",
    "\n",
    ".       - Any Character Except New Line\n",
    "\\d      - Digit (0-9)\n",
    "\\D      - Not a Digit (0-9)\n",
    "\\w      - Word Character (a-z, A-Z, 0-9, _)\n",
    "\\W      - Not a Word Character\n",
    "\\s      - Whitespace (space, tab, newline)\n",
    "\\S      - Not Whitespace (space, tab, newline)\n",
    "\n",
    "\\b      - Word Boundary\n",
    "\\B      - Not a Word Boundary\n",
    "^       - Beginning of a String\n",
    "$       - End of a String\n",
    "\n",
    "[]      - Matches Characters in brackets\n",
    "[^ ]    - Matches Characters NOT in brackets\n",
    "|       - Either Or\n",
    "( )     - Group\n",
    "\n",
    "Quantifiers:\n",
    "*       - 0 or More\n",
    "+       - 1 or More\n",
    "?       - 0 or One\n",
    "{3}     - Exact Number\n",
    "{3,4}   - Range of Numbers (Minimum, Maximum)\n",
    "\n",
    "\n",
    "#### Sample Regexs ####\n",
    "\n",
    "[a-zA-Z0-9_.+-]+@[a-zA-Z0-9-]+\\.[a-zA-Z0-9-.]+\n",
    "\"\"\""
   ]
  },
  {
   "cell_type": "code",
   "execution_count": 5,
   "metadata": {
    "scrolled": false
   },
   "outputs": [
    {
     "name": "stdout",
     "output_type": "stream",
     "text": [
      "<re.Match object; span=(0, 1), match='H'>\n",
      "<re.Match object; span=(1, 2), match='e'>\n",
      "<re.Match object; span=(2, 3), match='l'>\n",
      "<re.Match object; span=(3, 4), match='l'>\n",
      "<re.Match object; span=(4, 5), match='o'>\n"
     ]
    }
   ],
   "source": [
    "sentence = \"Hello\"\n",
    "pattern = re.compile(r'.')\n",
    "matches = pattern.finditer(sentence)\n",
    "\n",
    "for match in matches:\n",
    "    print(match)"
   ]
  },
  {
   "cell_type": "code",
   "execution_count": 6,
   "metadata": {
    "scrolled": true
   },
   "outputs": [
    {
     "name": "stdout",
     "output_type": "stream",
     "text": [
      "<re.Match object; span=(3, 4), match='3'>\n"
     ]
    }
   ],
   "source": [
    "sentence = \"Hel3lo\"\n",
    "pattern = re.compile(r'\\d')\n",
    "matches = pattern.finditer(sentence)\n",
    "\n",
    "for match in matches:\n",
    "    print(match)"
   ]
  },
  {
   "cell_type": "code",
   "execution_count": 8,
   "metadata": {
    "scrolled": true
   },
   "outputs": [
    {
     "name": "stdout",
     "output_type": "stream",
     "text": [
      "<re.Match object; span=(0, 1), match='H'>\n",
      "<re.Match object; span=(1, 2), match='e'>\n",
      "<re.Match object; span=(2, 3), match='l'>\n",
      "<re.Match object; span=(3, 4), match='l'>\n",
      "<re.Match object; span=(4, 5), match='o'>\n"
     ]
    }
   ],
   "source": [
    "sentence = \"Hello\"\n",
    "pattern = re.compile(r'\\w')\n",
    "matches = pattern.finditer(sentence)\n",
    "\n",
    "for match in matches:\n",
    "    print(match)"
   ]
  },
  {
   "cell_type": "code",
   "execution_count": 9,
   "metadata": {
    "scrolled": false
   },
   "outputs": [
    {
     "name": "stdout",
     "output_type": "stream",
     "text": [
      "<re.Match object; span=(0, 2), match='Ha'>\n",
      "<re.Match object; span=(3, 5), match='Ha'>\n"
     ]
    }
   ],
   "source": [
    "sentence = \"Ha HaHa\"\n",
    "pattern = re.compile(r'\\bHa')\n",
    "matches = pattern.finditer(sentence)\n",
    "\n",
    "for match in matches:\n",
    "    print(match)"
   ]
  },
  {
   "cell_type": "code",
   "execution_count": 11,
   "metadata": {
    "scrolled": true
   },
   "outputs": [
    {
     "name": "stdout",
     "output_type": "stream",
     "text": [
      "<re.Match object; span=(8, 20), match='112.444.3452'>\n",
      "<re.Match object; span=(34, 46), match='124-566-3456'>\n"
     ]
    }
   ],
   "source": [
    "sentence = \"\"\"\n",
    "kjfjsk\n",
    "112.444.3452\n",
    "222*334*2233\n",
    "124-566-3456\n",
    "dcsdc\n",
    "\"\"\"\n",
    "pattern = re.compile(r'\\d\\d\\d[.-]\\d\\d\\d[.-]\\d\\d\\d\\d')\n",
    "matches = pattern.finditer(sentence)\n",
    "\n",
    "for match in matches:\n",
    "    print(match)"
   ]
  },
  {
   "cell_type": "code",
   "execution_count": 12,
   "metadata": {},
   "outputs": [
    {
     "name": "stdout",
     "output_type": "stream",
     "text": [
      "<re.Match object; span=(47, 59), match='800-733-7383'>\n",
      "<re.Match object; span=(60, 72), match='900-262-2828'>\n"
     ]
    }
   ],
   "source": [
    "#Match only 800 and 900 numbers\n",
    "\n",
    "sentence = \"\"\"\n",
    "kjfjsk\n",
    "112.444.3452\n",
    "222*334*2233\n",
    "124-566-3456\n",
    "800-733-7383\n",
    "900-262-2828\n",
    "dcsdc\n",
    "\"\"\"\n",
    "pattern = re.compile(r'[89]00[.-]\\d\\d\\d[.-]\\d\\d\\d\\d')\n",
    "matches = pattern.finditer(sentence)\n",
    "\n",
    "for match in matches:\n",
    "    print(match)"
   ]
  },
  {
   "cell_type": "code",
   "execution_count": 14,
   "metadata": {
    "scrolled": true
   },
   "outputs": [
    {
     "name": "stdout",
     "output_type": "stream",
     "text": [
      "<re.Match object; span=(32, 34), match='dc'>\n",
      "<re.Match object; span=(35, 37), match='dc'>\n",
      "<re.Match object; span=(40, 42), match='ac'>\n",
      "<re.Match object; span=(51, 53), match='ad'>\n",
      "<re.Match object; span=(61, 63), match='ca'>\n"
     ]
    }
   ],
   "source": [
    "#Match only 800 and 900 numbers\n",
    "\n",
    "sentence = \"\"\"\n",
    "kjfjsk\n",
    "2345232\n",
    "65678677\n",
    "456456\n",
    "dcsdc\n",
    "rwacefg\n",
    "sdfasadeterew\n",
    "scasdfaf\n",
    "\"\"\"\n",
    "pattern = re.compile(r'[a-e][a-e]')\n",
    "matches = pattern.finditer(sentence)\n",
    "\n",
    "for match in matches:\n",
    "    print(match)"
   ]
  },
  {
   "cell_type": "code",
   "execution_count": 16,
   "metadata": {},
   "outputs": [
    {
     "name": "stdout",
     "output_type": "stream",
     "text": [
      "<re.Match object; span=(8, 20), match='112.444.3452'>\n",
      "<re.Match object; span=(34, 46), match='124-566-3456'>\n"
     ]
    }
   ],
   "source": [
    "#Quantifiers\n",
    "\n",
    "sentence = \"\"\"\n",
    "kjfjsk\n",
    "112.444.3452\n",
    "222*334*2233\n",
    "124-566-3456\n",
    "dcsdc\n",
    "\"\"\"\n",
    "pattern = re.compile(r'\\d{3}[.-]\\d{3}[.-]\\d{4}')\n",
    "matches = pattern.finditer(sentence)\n",
    "\n",
    "for match in matches:\n",
    "    print(match)"
   ]
  },
  {
   "cell_type": "code",
   "execution_count": 19,
   "metadata": {},
   "outputs": [],
   "source": [
    "#[aeiouAEIOU]\n",
    "#[^aeiouAEIOU]\n",
    "#[0-9a-zA-Z]\n",
    "#([^aeiou][aeiou])+   sayonara"
   ]
  },
  {
   "cell_type": "code",
   "execution_count": 20,
   "metadata": {},
   "outputs": [
    {
     "name": "stdout",
     "output_type": "stream",
     "text": [
      "<re.Match object; span=(8, 20), match='112.444.3452'>\n"
     ]
    }
   ],
   "source": [
    "sentence = \"\"\"\n",
    "kjfjsk\n",
    "112.444.3452\n",
    "222*334*2233\n",
    "124-566-3456\n",
    "dcsdc\n",
    "\"\"\"\n",
    "\n",
    "print(re.search(r'\\d{3}[.-]\\d{3}[.-]\\d{4}', sentence))"
   ]
  },
  {
   "cell_type": "code",
   "execution_count": null,
   "metadata": {},
   "outputs": [],
   "source": []
  }
 ],
 "metadata": {
  "kernelspec": {
   "display_name": "Python 3",
   "language": "python",
   "name": "python3"
  },
  "language_info": {
   "codemirror_mode": {
    "name": "ipython",
    "version": 3
   },
   "file_extension": ".py",
   "mimetype": "text/x-python",
   "name": "python",
   "nbconvert_exporter": "python",
   "pygments_lexer": "ipython3",
   "version": "3.7.4"
  }
 },
 "nbformat": 4,
 "nbformat_minor": 2
}
