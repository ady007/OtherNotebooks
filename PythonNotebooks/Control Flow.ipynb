{
 "cells": [
  {
   "cell_type": "markdown",
   "metadata": {},
   "source": [
    "# While loop\n",
    "    \n",
    "\n",
    "while condition:  \n",
    "&nbsp;&nbsp;&nbsp;&nbsp;body  \n",
    "else:  \n",
    "&nbsp;&nbsp;&nbsp;&nbsp;post-code  \n",
    "  \n",
    "  \n",
    "condition is an expression that evaluates to a true or false value. As long as it’s True, the body will be executed repeatedly. If it evaluates to False, the while loop will execute the post-code section and then terminate. If the condition starts out by being false, the body won’t be executed at all—just the post-code section. The two special statements break and continue can be used in the body of a while loop. If break is executed, it immediately terminates the while loop, and not even the post-code (if there is an else clause) will be executed. If continue is executed, it causes the remainder of the body to be skipped over; the condition is evaluated again, and the loop proceeds as normal.\n",
    "\n",
    "# If - elif - else  \n",
    "  \n",
    "There is no case (or switch) statement in Python.  \n",
    "  \n",
    "if condition1:  \n",
    "&nbsp;&nbsp;&nbsp;&nbsp;body1  \n",
    "elif condition2:  \n",
    "&nbsp;&nbsp;&nbsp;&nbsp;body2  \n",
    "elif condition3:  \n",
    "&nbsp;&nbsp;&nbsp;&nbsp;body3  \n",
    ".  \n",
    ".  \n",
    ".  \n",
    "elif condition(n-1):  \n",
    "&nbsp;&nbsp;&nbsp;&nbsp;body(n-1)  \n",
    "else:  \n",
    "&nbsp;&nbsp;&nbsp;&nbsp;body(n)  \n",
    "  \n",
    "It says: if condition1 is true, execute body1; otherwise, if condition2 is true, execute body2; otherwise … and so on, until it either finds a condition that evaluates to True or hits the else clause, in which case it executes body(n). Of course, you don’t need all that luggage for every conditional. You can leave out the elif parts, or the else part, or both. If a conditional can’t find any body to execute (no conditions evaluate to True, and there is no else part), it does nothing."
   ]
  },
  {
   "cell_type": "code",
   "execution_count": 2,
   "metadata": {},
   "outputs": [
    {
     "name": "stdout",
     "output_type": "stream",
     "text": [
      "Num1 is good\n"
     ]
    }
   ],
   "source": [
    "# Python program to illustrate \n",
    "# selection statement \n",
    "\n",
    "num1 = 34\n",
    "if(num1>12): \n",
    "    print(\"Num1 is good\") \n",
    "elif(num1>35): \n",
    "    print(\"Num2 is not gooooo....\") \n",
    "else: \n",
    "    print(\"Num2 is great\") "
   ]
  },
  {
   "cell_type": "markdown",
   "metadata": {},
   "source": [
    "# For loop  \n",
    "  \n",
    "A for loop in Python is different from for loops in some other languages. The traditional pattern is to increment and test a variable on each iteration, which is what C for loops usually do. In Python, a for loop iterates over the values returned by any **iterable object—that is, any object that can yield a sequence of values**. For example, a for loop can iterate over every element in a list, a tuple, or a string. But an iterable object can also be a special function called range or a special type of function called **a generator**. This can be quite powerful. The for loop is one of Python’s most powerful language features because you can create custom iterator objects and generator functions that supply it with sequences of values. The general form is  \n",
    "  \n",
    "for item in sequence:  \n",
    "&nbsp;&nbsp;&nbsp;&nbsp;body  \n",
    "else:  \n",
    "&nbsp;&nbsp;&nbsp;&nbsp;post-code  \n",
    "  \n",
    "  \n",
    "The else part is optional. As with the else part of a while loop, it’s rarely used. break and continue do the same thing in a for loop as in a while loop."
   ]
  },
  {
   "cell_type": "code",
   "execution_count": 2,
   "metadata": {
    "scrolled": true
   },
   "outputs": [
    {
     "name": "stdout",
     "output_type": "stream",
     "text": [
      "2 to the 1 power is 2\n",
      "2 to the 2 power is 4\n",
      "2 to the 3 power is 8\n",
      "2 to the 4 power is 16\n",
      "2 to the 5 power is 32\n",
      "2 to the 6 power is 64\n",
      "2 to the 7 power is 128\n",
      "2 to the 8 power is 256\n",
      "2 to the 9 power is 512\n"
     ]
    }
   ],
   "source": [
    "for n in [1,2,3,4,5,6,7,8,9]:\n",
    " print(\"2 to the %d power is %d\" % (n, 2**n))"
   ]
  },
  {
   "cell_type": "markdown",
   "metadata": {},
   "source": [
    "## Iterators\n",
    "\n",
    "Iterator in python is any python type that can be used with a ‘for in loop’. Python lists, tuples, dicts and sets are all examples of inbuilt iterators. These types are iterators because they implement following methods. In fact, any object that wants to be an iterator must implement following methods.\n",
    "\n",
    "__iter__ method that is called on initialization of an iterator. This should return an object that has a next or   __next__ (in Python 3) method.  \n",
    "next ( __next__ in Python 3) The iterator next method should return the next value for the iterable. When an iterator is used with a ‘for in’ loop, the for loop implicitly calls next() on the iterator object. This method should raise a StopIteration to signal the end of the iteration."
   ]
  },
  {
   "cell_type": "markdown",
   "metadata": {},
   "source": [
    "## Alternative switch-case"
   ]
  },
  {
   "cell_type": "markdown",
   "metadata": {},
   "source": [
    "Python doesn't have a switch case. But we can work around it this way using a dictionary"
   ]
  },
  {
   "cell_type": "code",
   "execution_count": 14,
   "metadata": {},
   "outputs": [
    {
     "name": "stdout",
     "output_type": "stream",
     "text": [
      "zero\n"
     ]
    }
   ],
   "source": [
    "# Function to convert number into string. Switcher is dictionary data type here \n",
    "def numbers_to_strings(argument): \n",
    "    switcher = { \n",
    "        0: \"zero\", \n",
    "        1: \"one\", \n",
    "        2: \"two\", \n",
    "    } \n",
    "\n",
    "    # get() method of dictionary data type returns \n",
    "    # value of passed argument if it is present \n",
    "    # in dictionary otherwise second argument will \n",
    "    # be assigned as default value of passed argument \n",
    "    return switcher.get(argument, \"nothing\") \n",
    "\n",
    "# Driver program \n",
    "if __name__ == \"__main__\": \n",
    "    argument=0\n",
    "    print(numbers_to_strings(argument))"
   ]
  },
  {
   "cell_type": "markdown",
   "metadata": {},
   "source": [
    "# The range function\n",
    "\n",
    "Given a number n, range(n) returns a sequence 0, 1, 2, …, n–2, n–1. So, passing it the length of a list (found using len) produces a sequence of the indices for that list’s elements. The range function doesn’t build a Python list of integers—it just appears to. Instead, it creates a range object that produces integers on demand. This is useful when you’re using explicit loops to iterate over really large lists. Instead of building a list with 10 million elements in it, for example, which would take up quite a bit of memory, you can use range(10000000), which takes up only a small amount of memory and generates a sequence of integers from 0 up to 10000000 as needed by the for loop. \n",
    "The for statement is not limited to sequences of integers and can be used to iterate over many kinds of objects including strings, lists, dictionaries, and files. \n",
    "  \n",
    "Sequences returned by range always include the starting value given as an argument to range and never include the ending value given as an argument.  \n",
    "  \n",
    "You can use two variants on the range function to gain more control over the sequence it produces. If you use range with two numeric arguments, the first argument is the starting number for the resulting sequence and the second number is the number the resulting sequence goes up to (but doesn’t include).\n",
    "\n",
    "range() and xrange() are two functions that could be used to iterate a certain number of times in for loops in Python. In Python 3, there is no xrange , but the range function behaves like xrange in Python 2.If you want to write code that will run on both Python 2 and Python 3, you should use range(). The built-in function xrange([i,]j [,stride]) creates an object that represents a range of integers k such that i <= k < j. The first index, i, and the stride are optional and have default values of 0 and 1, respectively. An xrange object calculates its values whenever it’s accessed and although an xrange object looks like a sequence, it is actually somewhat limited. For example, none of the standard slicing operations are supported. This limits the utility of xrange to only a few applications such as iterating in simple loops. It should be noted that in Python 3, xrange() has been renamed to range(). However, it operates in exactly the same manner as described here.\n",
    "\n",
    "range() – This returns a list of numbers created using range() function.  \n",
    "xrange() – This function returns the generator object that can be used to display numbers only by looping. Only particular range is displayed on demand and hence called “lazy evaluation“."
   ]
  },
  {
   "cell_type": "code",
   "execution_count": 5,
   "metadata": {},
   "outputs": [
    {
     "name": "stdout",
     "output_type": "stream",
     "text": [
      "2 to the 1 power is 2\n",
      "2 to the 2 power is 4\n",
      "2 to the 3 power is 8\n",
      "2 to the 4 power is 16\n",
      "2 to the 5 power is 32\n",
      "2 to the 6 power is 64\n",
      "2 to the 7 power is 128\n",
      "2 to the 8 power is 256\n",
      "2 to the 9 power is 512\n"
     ]
    }
   ],
   "source": [
    "for n in range(1,10):\n",
    "  print(\"2 to the %d power is %d\" % (n, 2**n))"
   ]
  },
  {
   "cell_type": "code",
   "execution_count": 3,
   "metadata": {},
   "outputs": [
    {
     "name": "stdout",
     "output_type": "stream",
     "text": [
      "[3, 4, 5, 6]\n",
      "[2, 3, 4, 5, 6, 7, 8, 9]\n",
      "[]\n"
     ]
    }
   ],
   "source": [
    "print(list(range(3, 7)))\n",
    "print(list(range(2, 10)))\n",
    "print(list(range(5, 3)))"
   ]
  },
  {
   "cell_type": "markdown",
   "metadata": {},
   "source": [
    "The range(i,j [,stride]) function creates an object that represents a range of inte- gers with values i to j-1. If the starting value is omitted, it’s taken to be zero. An optional stride can also be given as a third argument. \n",
    "\n",
    "This still doesn’t allow you to count backward, which is why the value of range(5, 3) is an empty list. To count backward, or to count by any amount other than 1, you need to use the optional third argument to range, which gives a step value by which counting proceeds:"
   ]
  },
  {
   "cell_type": "code",
   "execution_count": 4,
   "metadata": {},
   "outputs": [
    {
     "name": "stdout",
     "output_type": "stream",
     "text": [
      "[0, 2, 4, 6, 8]\n",
      "[5, 4, 3, 2, 1]\n"
     ]
    }
   ],
   "source": [
    "print(list(range(0, 10, 2)))\n",
    "print(list(range(5, 0, -1)))"
   ]
  },
  {
   "cell_type": "code",
   "execution_count": 6,
   "metadata": {
    "scrolled": true
   },
   "outputs": [
    {
     "name": "stdout",
     "output_type": "stream",
     "text": [
      "68\n"
     ]
    }
   ],
   "source": [
    "#Tuple unpacking\n",
    "somelist = [(1, 2), (3, 7), (9, 5)]\n",
    "result = 0\n",
    "for x, y in somelist:\n",
    "    result = result + (x * y)\n",
    "print(result)"
   ]
  },
  {
   "cell_type": "markdown",
   "metadata": {},
   "source": [
    "One caution with range() is that in Python 2, the value it creates is a fully populated list with all of the integer values. For extremely large ranges, this can inadvertently consume all available memory.Therefore, in older Python code, you will see programmers using an alternative function xrange(). The object created by xrange() computes the values it represents on demand when lookups are requested. For this reason, it is the preferred way to represent extremely large ranges of integer values. In Python 3, the xrange() function has been renamed to range() and the functionality of the old range() function has been removed."
   ]
  },
  {
   "cell_type": "markdown",
   "metadata": {},
   "source": [
    "# Enumerate function\n",
    "\n",
    "You can combine tuple unpacking with the enumerate function to loop over both the items and their index."
   ]
  },
  {
   "cell_type": "markdown",
   "metadata": {},
   "source": [
    "Using enumerate():  enumerate() is used to loop through the containers printing the index number along with the value present in that particular index. Enumerate is built-in python function that takes input as iterator, list etc and returns a tuple containing index and data at that index in the iterator sequence. For example, enumerate(cars), returns a iterator that will return (0, cars[0]), (1, cars[1]), (2, cars[2]), and so on."
   ]
  },
  {
   "cell_type": "code",
   "execution_count": 7,
   "metadata": {},
   "outputs": [
    {
     "name": "stdout",
     "output_type": "stream",
     "text": [
      "Found a negative number at index  2\n",
      "Found a negative number at index  5\n"
     ]
    }
   ],
   "source": [
    "x = [1, 3, -7, 4, 9, -5, 4]\n",
    "for i, n in enumerate(x):\n",
    "    if n < 0:\n",
    "        print(\"Found a negative number at index \", i)"
   ]
  },
  {
   "cell_type": "code",
   "execution_count": 7,
   "metadata": {
    "scrolled": true
   },
   "outputs": [
    {
     "name": "stdout",
     "output_type": "stream",
     "text": [
      "0 The\n",
      "1 Big\n",
      "2 Bang\n",
      "3 Theory\n"
     ]
    }
   ],
   "source": [
    "# python code to demonstrate working of enumerate() \n",
    "\n",
    "for key, value in enumerate(['The', 'Big', 'Bang', 'Theory']): \n",
    "    print(key, value)"
   ]
  },
  {
   "cell_type": "code",
   "execution_count": 8,
   "metadata": {},
   "outputs": [
    {
     "name": "stdout",
     "output_type": "stream",
     "text": [
      "0 Aston\n",
      "1 Audi\n",
      "2 McLaren \n"
     ]
    }
   ],
   "source": [
    "# Accessing items and indexes enumerate() \n",
    "\n",
    "cars = [\"Aston\" , \"Audi\", \"McLaren \"] \n",
    "for x in enumerate(cars): \n",
    "    print (x[0], x[1])"
   ]
  },
  {
   "cell_type": "code",
   "execution_count": 10,
   "metadata": {},
   "outputs": [
    {
     "name": "stdout",
     "output_type": "stream",
     "text": [
      "<enumerate object at 0x10f30a900>\n"
     ]
    }
   ],
   "source": [
    "# Printing return value of enumerate() \n",
    "\n",
    "cars = [\"Aston\" , \"Audi\", \"McLaren \"] \n",
    "print(enumerate(cars))"
   ]
  },
  {
   "cell_type": "code",
   "execution_count": 11,
   "metadata": {},
   "outputs": [
    {
     "name": "stdout",
     "output_type": "stream",
     "text": [
      "1 Aston\n",
      "2 Audi\n",
      "3 McLaren \n"
     ]
    }
   ],
   "source": [
    "# demonstrating the use of start in enumerate \n",
    "\n",
    "cars = [\"Aston\" , \"Audi\", \"McLaren \"] \n",
    "for x in enumerate(cars, start=1): \n",
    "    print (x[0], x[1])"
   ]
  },
  {
   "cell_type": "markdown",
   "metadata": {},
   "source": [
    "# Zip function\n",
    "\n",
    "Sometimes it’s useful to combine two or more iterables before looping over them. The zip function will take the corresponding elements from one or more iterables and combine them into tuples until it reaches the end of the shortest iterable :"
   ]
  },
  {
   "cell_type": "code",
   "execution_count": 8,
   "metadata": {},
   "outputs": [
    {
     "data": {
      "text/plain": [
       "[(1, 'a'), (2, 'b'), (3, 'c')]"
      ]
     },
     "execution_count": 8,
     "metadata": {},
     "output_type": "execute_result"
    }
   ],
   "source": [
    "x = [1, 2, 3, 4]\n",
    "y = ['a', 'b', 'c']\n",
    "z = zip(x, y)\n",
    "list(z)"
   ]
  },
  {
   "cell_type": "markdown",
   "metadata": {},
   "source": [
    "Using zip(): zip() is used to combine 2 similar containers(list-list or dict-dict) printing the values sequentially. The loop exists only till the smaller container ends."
   ]
  },
  {
   "cell_type": "code",
   "execution_count": 6,
   "metadata": {},
   "outputs": [
    {
     "name": "stdout",
     "output_type": "stream",
     "text": [
      "What is your name? I am apple.\n",
      "What is your colour? I am red.\n",
      "What is your shape? I am a circle.\n"
     ]
    }
   ],
   "source": [
    "# python code to demonstrate working of zip() \n",
    "\n",
    "# initializing list \n",
    "questions = ['name', 'colour', 'shape'] \n",
    "answers = ['apple', 'red', 'a circle'] \n",
    "\n",
    "# using zip() to combine two containers \n",
    "# and print values \n",
    "for question, answer in zip(questions, answers): \n",
    "    print('What is your {0}? I am {1}.'.format(question, answer)) "
   ]
  },
  {
   "cell_type": "markdown",
   "metadata": {},
   "source": [
    "# Truthiness, Falsiness And Relational Operators\n",
    "\n",
    "In addition, Python is similar to C with respect to Boolean values, in that C uses the integer 0 to mean false and any other integer to mean true. Python generalizes this idea; 0 or empty values are False, and any other values are True. In practical terms, this means the following:  \n",
    "  \n",
    "\u0002 The numbers 0, 0.0, and 0+0j are all False; any other number is True.  \n",
    "\u0002 The empty string \"\" is False; any other string is True.  \n",
    "\u0002 The empty list [] is False; any other list is True.  \n",
    "\u0002 The empty dictionary {} is False; any other dictionary is True.  \n",
    "\u0002 The empty set set() is False; any other set is True.  \n",
    "\u0002 The special Python value None is always False.  \n",
    "\n",
    "You can compare objects using normal operators: <, <=, >, >=, and so forth. == is the equality test operator, and either != or <> may be used as the “not equal to” test. There are also in and not in operators to test membership in sequences (lists, tuples, strings, and dictionaries) as well as is and is not operators to test whether two objects\n",
    "are the same. Expressions that return a Boolean value may be combined into more complex expressions using the and, or, and not operators."
   ]
  },
  {
   "cell_type": "code",
   "execution_count": 10,
   "metadata": {},
   "outputs": [
    {
     "data": {
      "text/plain": [
       "[3, 4]"
      ]
     },
     "execution_count": 10,
     "metadata": {},
     "output_type": "execute_result"
    }
   ],
   "source": [
    "#The and operator returns either the first false object (that an expression evaluates to) or the last object.\n",
    "[2] and [3,4]"
   ]
  },
  {
   "cell_type": "code",
   "execution_count": 11,
   "metadata": {},
   "outputs": [
    {
     "data": {
      "text/plain": [
       "[]"
      ]
     },
     "execution_count": 11,
     "metadata": {},
     "output_type": "execute_result"
    }
   ],
   "source": [
    "[] and 5"
   ]
  },
  {
   "cell_type": "code",
   "execution_count": 12,
   "metadata": {},
   "outputs": [
    {
     "data": {
      "text/plain": [
       "[2]"
      ]
     },
     "execution_count": 12,
     "metadata": {},
     "output_type": "execute_result"
    }
   ],
   "source": [
    "#Similarly, the or operator returns either the first true object or the last object.\n",
    "[2] or [3, 4]"
   ]
  },
  {
   "cell_type": "markdown",
   "metadata": {},
   "source": [
    "As with many other languages, evaluation stops as soon as a true expression is found for the or operator or as soon as a false expression is found for the and operator.  \n",
    "  \n",
    "The == and!= operators test to see if their operands contains the same values. They are used in most situations. The is and is not operators test to see if their operands are the same object."
   ]
  },
  {
   "cell_type": "markdown",
   "metadata": {},
   "source": [
    "You also can invoke functions by using keyword arguments and supplying the argu- ments in arbitrary order. However, this requires you to know the names of the argu- ments in the function definition."
   ]
  },
  {
   "cell_type": "markdown",
   "metadata": {},
   "source": [
    "# Modules"
   ]
  },
  {
   "cell_type": "code",
   "execution_count": 10,
   "metadata": {},
   "outputs": [],
   "source": [
    "# file : div.py \n",
    "def divide(a,b):\n",
    "    q = a/b # If a and b are integers, q is an integer r = a - q*b\n",
    "    return (q,r)"
   ]
  },
  {
   "cell_type": "markdown",
   "metadata": {},
   "source": [
    "To use your module in other programs, you can use the import statement:"
   ]
  },
  {
   "cell_type": "code",
   "execution_count": null,
   "metadata": {},
   "outputs": [],
   "source": [
    "import div\n",
    "a, b = div.divide(2305, 29)"
   ]
  },
  {
   "cell_type": "markdown",
   "metadata": {},
   "source": [
    "The import statement creates a new namespace and executes all the statements in the associated .py file within that namespace. To access the contents of the namespace after import, simply use the name of the module as a prefix, as in div.divide() in the pre- ceding example. If you want to import a module using a different name, supply the import statement with an optional as qualifier, as follows:"
   ]
  },
  {
   "cell_type": "code",
   "execution_count": null,
   "metadata": {
    "scrolled": true
   },
   "outputs": [],
   "source": [
    "import div as foo\n",
    "a,b = foo.divide(2305,29)"
   ]
  },
  {
   "cell_type": "markdown",
   "metadata": {},
   "source": [
    "As with objects, the dir() function lists the contents of a module and is a useful tool for interactive experimentation:"
   ]
  },
  {
   "cell_type": "code",
   "execution_count": 13,
   "metadata": {
    "scrolled": false
   },
   "outputs": [
    {
     "data": {
      "text/plain": [
       "['Formatter',\n",
       " 'Template',\n",
       " '_ChainMap',\n",
       " '_TemplateMetaclass',\n",
       " '__all__',\n",
       " '__builtins__',\n",
       " '__cached__',\n",
       " '__doc__',\n",
       " '__file__',\n",
       " '__loader__',\n",
       " '__name__',\n",
       " '__package__',\n",
       " '__spec__',\n",
       " '_re',\n",
       " '_string',\n",
       " 'ascii_letters',\n",
       " 'ascii_lowercase',\n",
       " 'ascii_uppercase',\n",
       " 'capwords',\n",
       " 'digits',\n",
       " 'hexdigits',\n",
       " 'octdigits',\n",
       " 'printable',\n",
       " 'punctuation',\n",
       " 'whitespace']"
      ]
     },
     "execution_count": 13,
     "metadata": {},
     "output_type": "execute_result"
    }
   ],
   "source": [
    "import string\n",
    "dir(string)"
   ]
  },
  {
   "cell_type": "markdown",
   "metadata": {},
   "source": [
    "Since there is no main() function in Python, when the command to run a python program is given to the interpreter, the code that is at level 0 indentation is to be executed. However, before doing that, it will define a few special variables. __name__ is one such special variable. If the source file is executed as the main program, the interpreter sets the __name__ variable to have a value “__main__”. If this file is being imported from another module, __name__ will be set to the module’s name. __name__ is a built-in variable which evaluates to the name of the current module. Thus it can be used to check whether the current script is being run on its own or being imported somewhere else by combining it with if statement, as shown below."
   ]
  },
  {
   "cell_type": "code",
   "execution_count": 4,
   "metadata": {},
   "outputs": [
    {
     "name": "stdout",
     "output_type": "stream",
     "text": [
      "File1 __name__ = __main__\n",
      "File1 is being run directly\n"
     ]
    }
   ],
   "source": [
    "# File1.py \n",
    "\n",
    "print(\"File1 __name__ = %s\" %__name__)\n",
    "\n",
    "if __name__ == \"__main__\": \n",
    "    print(\"File1 is being run directly\")\n",
    "else: \n",
    "    print(\"File1 is being imported\")"
   ]
  },
  {
   "cell_type": "code",
   "execution_count": null,
   "metadata": {},
   "outputs": [],
   "source": []
  }
 ],
 "metadata": {
  "kernelspec": {
   "display_name": "Python 3",
   "language": "python",
   "name": "python3"
  },
  "language_info": {
   "codemirror_mode": {
    "name": "ipython",
    "version": 3
   },
   "file_extension": ".py",
   "mimetype": "text/x-python",
   "name": "python",
   "nbconvert_exporter": "python",
   "pygments_lexer": "ipython3",
   "version": "3.7.3"
  }
 },
 "nbformat": 4,
 "nbformat_minor": 2
}
