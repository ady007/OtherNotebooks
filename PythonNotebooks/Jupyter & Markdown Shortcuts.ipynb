{
 "cells": [
  {
   "cell_type": "markdown",
   "metadata": {},
   "source": [
    "### Jupyter Shortcuts\n",
    "\n",
    "Press Esc key to enter the command mode then arrow keys to switch cells. Enter key to enter the edit mode.  \n",
    "Control + Enter to run cell and stay in the same cell and enter command mode.  \n",
    "Shift + Enter run cell and highlight the next cell.  \n",
    "Option + Enter to run cell and insert new one below.  \n",
    "\n",
    "A - Insert cell above  \n",
    "B - Insert cell below  \n",
    "DD - Delete the current cell  \n",
    "Z - Undo Cell Deletion  \n",
    "C - Copy  \n",
    "V - Paste  \n",
    "X - Cut  \n",
    "Y - Change cell to code mode  \n",
    "M - Change cell to markdown mode  \n",
    "S - Save  \n",
    "H - Shortcut Help  \n",
    "  \n",
    "Command+Shift+P - Open command palette  \n",
    "  \n",
    "### Markdown  \n",
    "1. Double space at the end of the line for a newline  \n",
    "2. Double star (or underscore) at beginning and end for bold __hello__  \n",
    "3. Single star (or underscore) at the beginning and end for italic *italic*  \n",
    "4. Hashes for Headings\n",
    "\n",
    "\n",
    "### Installing Jupyter on Macbook\n",
    "python3 -m pip install --upgrade pip  \n",
    "python3 -m pip install jupyter  \n",
    "jupyter notebook  "
   ]
  }
 ],
 "metadata": {
  "kernelspec": {
   "display_name": "Python 3",
   "language": "python",
   "name": "python3"
  },
  "language_info": {
   "codemirror_mode": {
    "name": "ipython",
    "version": 3
   },
   "file_extension": ".py",
   "mimetype": "text/x-python",
   "name": "python",
   "nbconvert_exporter": "python",
   "pygments_lexer": "ipython3",
   "version": "3.7.1"
  }
 },
 "nbformat": 4,
 "nbformat_minor": 2
}
