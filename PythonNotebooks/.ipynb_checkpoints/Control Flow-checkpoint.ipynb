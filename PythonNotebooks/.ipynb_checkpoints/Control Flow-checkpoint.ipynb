{
 "cells": [
  {
   "cell_type": "markdown",
   "metadata": {},
   "source": [
    "# While loop\n",
    "    \n",
    "\n",
    "while condition:  \n",
    "&nbsp;&nbsp;&nbsp;&nbsp;body  \n",
    "else:  \n",
    "&nbsp;&nbsp;&nbsp;&nbsp;post-code  \n",
    "  \n",
    "  \n",
    "condition is an expression that evaluates to a true or false value. As long as it’s True, the body will be executed repeatedly. If it evaluates to False, the while loop will execute the post-code section and then terminate. If the condition starts out by being false, the body won’t be executed at all—just the post-code section. The two special statements break and continue can be used in the body of a while loop. If break is executed, it immediately terminates the while loop, and not even the post-code (if there is an else clause) will be executed. If continue is executed, it causes the remainder of the body to be skipped over; the condition is evaluated again, and the loop proceeds as normal.\n",
    "\n",
    "# If - elif - else  \n",
    "  \n",
    "There is no case (or switch) statement in Python.  \n",
    "  \n",
    "if condition1:  \n",
    "&nbsp;&nbsp;&nbsp;&nbsp;body1  \n",
    "elif condition2:  \n",
    "&nbsp;&nbsp;&nbsp;&nbsp;body2  \n",
    "elif condition3:  \n",
    "&nbsp;&nbsp;&nbsp;&nbsp;body3  \n",
    ".  \n",
    ".  \n",
    ".  \n",
    "elif condition(n-1):  \n",
    "&nbsp;&nbsp;&nbsp;&nbsp;body(n-1)  \n",
    "else:  \n",
    "&nbsp;&nbsp;&nbsp;&nbsp;body(n)  \n",
    "  \n",
    "It says: if condition1 is true, execute body1; otherwise, if condition2 is true, execute body2; otherwise … and so on, until it either finds a condition that evaluates to True or hits the else clause, in which case it executes body(n). Of course, you don’t need all that luggage for every conditional. You can leave out the elif parts, or the else part, or both. If a conditional can’t find any body to execute (no conditions evaluate to True, and there is no else part), it does nothing."
   ]
  },
  {
   "cell_type": "markdown",
   "metadata": {},
   "source": [
    "# For loop  \n",
    "  \n",
    "A for loop in Python is different from for loops in some other languages. The traditional pattern is to increment and test a variable on each iteration, which is what C for loops usually do. In Python, a for loop iterates over the values returned by any **iterable object—that is, any object that can yield a sequence of values**. For example, a for loop can iterate over every element in a list, a tuple, or a string. But an iterable object can also be a special function called range or a special type of function called **a generator**. This can be quite powerful. The for loop is one of Python’s most powerful language features because you can create custom iterator objects and generator functions that supply it with sequences of values. The general form is  \n",
    "  \n",
    "for item in sequence:  \n",
    "&nbsp;&nbsp;&nbsp;&nbsp;body  \n",
    "else:  \n",
    "&nbsp;&nbsp;&nbsp;&nbsp;post-code  \n",
    "  \n",
    "  \n",
    "The else part is optional. As with the else part of a while loop, it’s rarely used. break and continue do the same thing in a for loop as in a while loop."
   ]
  },
  {
   "cell_type": "code",
   "execution_count": 2,
   "metadata": {},
   "outputs": [
    {
     "name": "stdout",
     "output_type": "stream",
     "text": [
      "2 to the 1 power is 2\n",
      "2 to the 2 power is 4\n",
      "2 to the 3 power is 8\n",
      "2 to the 4 power is 16\n",
      "2 to the 5 power is 32\n",
      "2 to the 6 power is 64\n",
      "2 to the 7 power is 128\n",
      "2 to the 8 power is 256\n",
      "2 to the 9 power is 512\n"
     ]
    }
   ],
   "source": [
    "for n in [1,2,3,4,5,6,7,8,9]:\n",
    " print(\"2 to the %d power is %d\" % (n, 2**n))"
   ]
  },
  {
   "cell_type": "markdown",
   "metadata": {},
   "source": [
    "# The range function\n",
    "\n",
    "Given a number n, range(n) returns a sequence 0, 1, 2, …, n–2, n–1. So, passing it the length of a list (found using len) produces a sequence of the indices for that list’s elements. The range function doesn’t build a Python list of integers—it just appears to. Instead, it creates a range object that produces integers on demand. This is useful when you’re using explicit loops to iterate over really large lists. Instead of building a list with 10 million elements in it, for example, which would take up quite a bit of memory, you can use range(10000000), which takes up only a small amount of memory and generates a sequence of integers from 0 up to 10000000 as needed by the for loop. \n",
    "The for statement is not limited to sequences of integers and can be used to iterate over many kinds of objects including strings, lists, dictionaries, and files. \n",
    "  \n",
    "Sequences returned by range always include the starting value given as an argument to range and never include the ending value given as an argument.  \n",
    "  \n",
    "You can use two variants on the range function to gain more control over the sequence it produces. If you use range with two numeric arguments, the first argument is the starting number for the resulting sequence and the second number is the number the resulting sequence goes up to (but doesn’t include)."
   ]
  },
  {
   "cell_type": "code",
   "execution_count": 5,
   "metadata": {},
   "outputs": [
    {
     "name": "stdout",
     "output_type": "stream",
     "text": [
      "2 to the 1 power is 2\n",
      "2 to the 2 power is 4\n",
      "2 to the 3 power is 8\n",
      "2 to the 4 power is 16\n",
      "2 to the 5 power is 32\n",
      "2 to the 6 power is 64\n",
      "2 to the 7 power is 128\n",
      "2 to the 8 power is 256\n",
      "2 to the 9 power is 512\n"
     ]
    }
   ],
   "source": [
    "for n in range(1,10):\n",
    "  print(\"2 to the %d power is %d\" % (n, 2**n))"
   ]
  },
  {
   "cell_type": "code",
   "execution_count": 3,
   "metadata": {},
   "outputs": [
    {
     "name": "stdout",
     "output_type": "stream",
     "text": [
      "[3, 4, 5, 6]\n",
      "[2, 3, 4, 5, 6, 7, 8, 9]\n",
      "[]\n"
     ]
    }
   ],
   "source": [
    "print(list(range(3, 7)))\n",
    "print(list(range(2, 10)))\n",
    "print(list(range(5, 3)))"
   ]
  },
  {
   "cell_type": "markdown",
   "metadata": {},
   "source": [
    "The range(i,j [,stride]) function creates an object that represents a range of inte- gers with values i to j-1. If the starting value is omitted, it’s taken to be zero. An optional stride can also be given as a third argument. \n",
    "\n",
    "This still doesn’t allow you to count backward, which is why the value of range(5, 3) is an empty list. To count backward, or to count by any amount other than 1, you need to use the optional third argument to range, which gives a step value by which counting proceeds:"
   ]
  },
  {
   "cell_type": "code",
   "execution_count": 4,
   "metadata": {},
   "outputs": [
    {
     "name": "stdout",
     "output_type": "stream",
     "text": [
      "[0, 2, 4, 6, 8]\n",
      "[5, 4, 3, 2, 1]\n"
     ]
    }
   ],
   "source": [
    "print(list(range(0, 10, 2)))\n",
    "print(list(range(5, 0, -1)))"
   ]
  },
  {
   "cell_type": "code",
   "execution_count": 6,
   "metadata": {
    "scrolled": true
   },
   "outputs": [
    {
     "name": "stdout",
     "output_type": "stream",
     "text": [
      "68\n"
     ]
    }
   ],
   "source": [
    "#Tuple unpacking\n",
    "somelist = [(1, 2), (3, 7), (9, 5)]\n",
    "result = 0\n",
    "for x, y in somelist:\n",
    "    result = result + (x * y)\n",
    "print(result)"
   ]
  },
  {
   "cell_type": "markdown",
   "metadata": {},
   "source": [
    "One caution with range() is that in Python 2, the value it creates is a fully populated list with all of the integer values. For extremely large ranges, this can inadvertently con- sume all available memory.Therefore, in older Python code, you will see programmers using an alternative function xrange(). The object created by xrange() computes the values it represents on demand when lookups are requested. For this reason, it is the preferred way to represent extremely large ranges of integer values. In Python 3, the xrange() function has been renamed to range() and the functionality of the old range() function has been removed."
   ]
  },
  {
   "cell_type": "markdown",
   "metadata": {},
   "source": [
    "# Enumerate function\n",
    "\n",
    "You can combine tuple unpacking with the enumerate function to loop over both the items and their index."
   ]
  },
  {
   "cell_type": "code",
   "execution_count": 7,
   "metadata": {},
   "outputs": [
    {
     "name": "stdout",
     "output_type": "stream",
     "text": [
      "Found a negative number at index  2\n",
      "Found a negative number at index  5\n"
     ]
    }
   ],
   "source": [
    "x = [1, 3, -7, 4, 9, -5, 4]\n",
    "for i, n in enumerate(x):\n",
    "    if n < 0:\n",
    "        print(\"Found a negative number at index \", i)"
   ]
  },
  {
   "cell_type": "markdown",
   "metadata": {},
   "source": [
    "# Zip function\n",
    "\n",
    "Sometimes it’s useful to combine two or more iterables before looping over them. The zip function will take the corresponding elements from one or more iterables and combine them into tuples until it reaches the end of the shortest iterable :"
   ]
  },
  {
   "cell_type": "code",
   "execution_count": 8,
   "metadata": {},
   "outputs": [
    {
     "data": {
      "text/plain": [
       "[(1, 'a'), (2, 'b'), (3, 'c')]"
      ]
     },
     "execution_count": 8,
     "metadata": {},
     "output_type": "execute_result"
    }
   ],
   "source": [
    "x = [1, 2, 3, 4]\n",
    "y = ['a', 'b', 'c']\n",
    "z = zip(x, y)\n",
    "list(z)"
   ]
  },
  {
   "cell_type": "markdown",
   "metadata": {},
   "source": [
    "# Truthiness, Falsiness And Relational Operators\n",
    "\n",
    "In addition, Python is similar to C with respect to Boolean values, in that C uses the integer 0 to mean false and any other integer to mean true. Python generalizes this idea; 0 or empty values are False, and any other values are True. In practical terms, this means the following:  \n",
    "  \n",
    "\u0002 The numbers 0, 0.0, and 0+0j are all False; any other number is True.  \n",
    "\u0002 The empty string \"\" is False; any other string is True.  \n",
    "\u0002 The empty list [] is False; any other list is True.  \n",
    "\u0002 The empty dictionary {} is False; any other dictionary is True.  \n",
    "\u0002 The empty set set() is False; any other set is True.  \n",
    "\u0002 The special Python value None is always False.  \n",
    "\n",
    "You can compare objects using normal operators: <, <=, >, >=, and so forth. == is the equality test operator, and either != or <> may be used as the “not equal to” test. There are also in and not in operators to test membership in sequences (lists, tuples, strings, and dictionaries) as well as is and is not operators to test whether two objects\n",
    "are the same. Expressions that return a Boolean value may be combined into more complex expressions using the and, or, and not operators."
   ]
  },
  {
   "cell_type": "code",
   "execution_count": 10,
   "metadata": {},
   "outputs": [
    {
     "data": {
      "text/plain": [
       "[3, 4]"
      ]
     },
     "execution_count": 10,
     "metadata": {},
     "output_type": "execute_result"
    }
   ],
   "source": [
    "#The and operator returns either the first false object (that an expression evaluates to) or the last object.\n",
    "[2] and [3,4]"
   ]
  },
  {
   "cell_type": "code",
   "execution_count": 11,
   "metadata": {},
   "outputs": [
    {
     "data": {
      "text/plain": [
       "[]"
      ]
     },
     "execution_count": 11,
     "metadata": {},
     "output_type": "execute_result"
    }
   ],
   "source": [
    "[] and 5"
   ]
  },
  {
   "cell_type": "code",
   "execution_count": 12,
   "metadata": {},
   "outputs": [
    {
     "data": {
      "text/plain": [
       "[2]"
      ]
     },
     "execution_count": 12,
     "metadata": {},
     "output_type": "execute_result"
    }
   ],
   "source": [
    "#Similarly, the or operator returns either the first true object or the last object.\n",
    "[2] or [3, 4]"
   ]
  },
  {
   "cell_type": "markdown",
   "metadata": {},
   "source": [
    "As with many other languages, evaluation stops as soon as a true expression is found for the or operator or as soon as a false expression is found for the and operator.  \n",
    "  \n",
    "The == and!= operators test to see if their operands contains the same values. They are used in most situations. The is and is not operators test to see if their operands are the same object."
   ]
  },
  {
   "cell_type": "markdown",
   "metadata": {},
   "source": [
    "# Functions\n",
    "\n",
    "To invoke a function, simply use the name of the function followed by its arguments enclosed in parentheses, such as result = remainder(37,15).You can use a tuple to return multiple values from a function, as shown here:"
   ]
  },
  {
   "cell_type": "code",
   "execution_count": 6,
   "metadata": {},
   "outputs": [],
   "source": [
    "#(x,y) = function_call()\n",
    "#Inside the function - \n",
    "#return (2,3)"
   ]
  },
  {
   "cell_type": "markdown",
   "metadata": {},
   "source": [
    "To assign a default value to a function parameter, use assignment:\n",
    "\n",
    "def connect(hostname,port,timeout=300): # Function body"
   ]
  },
  {
   "cell_type": "code",
   "execution_count": null,
   "metadata": {},
   "outputs": [],
   "source": [
    "connect('www.python.org', 80)"
   ]
  },
  {
   "cell_type": "markdown",
   "metadata": {},
   "source": [
    "You also can invoke functions by using keyword arguments and supplying the argu- ments in arbitrary order. However, this requires you to know the names of the argu- ments in the function definition."
   ]
  },
  {
   "cell_type": "markdown",
   "metadata": {},
   "source": [
    "**By position** The simplest way to pass parameters to a function in Python is by position. This method requires that the number of parameters used by the calling code exactly match the number of parameters in the function definition, or a TypeError exception will be raised:\n",
    "  \n",
    "def fun(arg1, arg2=default2, arg3=default3, . . .)  \n",
    "\n",
    "Any number of parameters can be given default values. Parameters with default values must be defined as the last parameters in the parameter list.  \n",
    "  \n",
    "**By name** You can also pass arguments into a function using the name of the corresponding function parameter, rather than its position.\n",
    "\n",
    "Keyword passing:  \n",
    "  \n",
    "def list_file_info(size=False, create_date=False, mod_date=False, ...):  \n",
    "\n",
    "fileinfo = list_file_info(size=True, mod_date=True)  \n",
    "  \n",
    "**DEALING WITH AN INDEFINITE NUMBER OF POSITIONAL ARGUMENTS**\n",
    "\n",
    "Prefixing the final parameter name of the function with a * causes all excess nonkeyword arguments in a call of a function (that is, those positional arguments not assigned to another parameter) to be collected together and assigned as a tuple to the given parameter.\n",
    "\n",
    "**DEALING WITH AN INDEFINITE NUMBER OF ARGUMENTS PASSED BY KEYWORD**\n",
    "\n",
    "An arbitrary number of keyword arguments can also be handled. If the final parameter in the parameter list is prefixed with * * , it will collect all excess keyword-passed arguments into a dictionary. The index for each entry in the dictionary will be the keyword (parameter name) for the excess argument.\n",
    "\n"
   ]
  },
  {
   "cell_type": "code",
   "execution_count": 13,
   "metadata": {},
   "outputs": [
    {
     "name": "stdout",
     "output_type": "stream",
     "text": [
      "{'name': 'aditya', 'age': 21, 'gender': 'M'}\n"
     ]
    }
   ],
   "source": [
    "def example_function(**kwargs):\n",
    "    print(kwargs)\n",
    "    \n",
    "example_function(name=\"aditya\", age=21, gender=\"M\")"
   ]
  },
  {
   "cell_type": "markdown",
   "metadata": {},
   "source": [
    "#### Arguments are passed in by object reference. The parameter becomes a new reference to the object. For immutable objects (such as tuples, strings, and numbers), what is done with a parameter has no effect outside the function. But if you pass in a mutable object (for example, a list, dictionary, or class instance), any change made to the object will change what the argument is referencing outside the function."
   ]
  },
  {
   "cell_type": "code",
   "execution_count": 14,
   "metadata": {},
   "outputs": [
    {
     "name": "stdout",
     "output_type": "stream",
     "text": [
      "5 [1, 2, 3, 3] [6, 7, 9]\n"
     ]
    }
   ],
   "source": [
    "def f(n, list1, list2):\n",
    "    list1.append(3)\n",
    "    list2 = [4, 5, 6]\n",
    "    n = n + 1\n",
    "\n",
    "x = 5\n",
    "y = [1,2,3]\n",
    "z = [6,7,9]\n",
    "f(x,y,z)\n",
    "print(x,y,z)"
   ]
  },
  {
   "cell_type": "markdown",
   "metadata": {},
   "source": [
    "The variable x isn’t changed because it’s immutable. Instead, the function parameter n is set to refer to the new value of 6. Likewise, variable z is unchanged because inside function f, its corresponding parameter list2 was set to refer to a new object, [4, 5, 6]. Only y sees a change because the actual list it points to was changed."
   ]
  },
  {
   "cell_type": "markdown",
   "metadata": {},
   "source": [
    "# Functions in variables"
   ]
  },
  {
   "cell_type": "code",
   "execution_count": 4,
   "metadata": {},
   "outputs": [
    {
     "name": "stdout",
     "output_type": "stream",
     "text": [
      "<class 'function'>\n"
     ]
    }
   ],
   "source": [
    "print(type(outside))"
   ]
  },
  {
   "cell_type": "code",
   "execution_count": 5,
   "metadata": {},
   "outputs": [
    {
     "name": "stdout",
     "output_type": "stream",
     "text": [
      "Inside!\n",
      "Inside!\n"
     ]
    }
   ],
   "source": [
    "y = outside\n",
    "y()"
   ]
  },
  {
   "cell_type": "code",
   "execution_count": 6,
   "metadata": {},
   "outputs": [
    {
     "name": "stdout",
     "output_type": "stream",
     "text": [
      "Inside!\n",
      "Inside!\n"
     ]
    }
   ],
   "source": [
    "#Can assign functions to dictionary items and call them\n",
    "k = {}\n",
    "k[\"myfunc\"] = y\n",
    "k['myfunc']()"
   ]
  },
  {
   "cell_type": "markdown",
   "metadata": {},
   "source": [
    "**lambda expressions are anonymous little functions that you can quickly define inline.**  \n",
    "  \n",
    "lambda param1, param2, param3: expression"
   ]
  },
  {
   "cell_type": "code",
   "execution_count": 7,
   "metadata": {},
   "outputs": [
    {
     "name": "stdout",
     "output_type": "stream",
     "text": [
      "<class 'function'>\n"
     ]
    }
   ],
   "source": [
    "myfunc = lambda x: x*x\n",
    "print(type(myfunc))"
   ]
  },
  {
   "cell_type": "code",
   "execution_count": 8,
   "metadata": {},
   "outputs": [
    {
     "data": {
      "text/plain": [
       "4"
      ]
     },
     "execution_count": 8,
     "metadata": {},
     "output_type": "execute_result"
    }
   ],
   "source": [
    "myfunc(2)"
   ]
  },
  {
   "cell_type": "markdown",
   "metadata": {},
   "source": [
    "# Exceptions"
   ]
  },
  {
   "cell_type": "markdown",
   "metadata": {},
   "source": [
    "If an error occurs in your program, an exception is raised and a traceback message such as the following appears:\n",
    "\n",
    "Traceback (most recent call last): File \"foo.py\", line 12, in <module>\n",
    "IOError: [Errno 2] No such file or directory: 'file.txt'\n",
    "    \n",
    "The traceback message indicates the type of error that occurred, along with its location. Normally, errors cause a program to terminate. However, you can catch and handle exceptions using try and except statements, like this:\n"
   ]
  },
  {
   "cell_type": "code",
   "execution_count": null,
   "metadata": {
    "scrolled": true
   },
   "outputs": [],
   "source": [
    "try:\n",
    "    f = open(\"file.txt\",\"r\")\n",
    "except IOError as e: \n",
    "    print e"
   ]
  },
  {
   "cell_type": "markdown",
   "metadata": {},
   "source": [
    "If an IOError occurs, details concerning the cause of the error are placed in e and con- trol passes to the code in the except block. If some other kind of exception is raised, it’s passed to the enclosing code block (if any). If no errors occur, the code in the except block is ignored.When an exception is handled, program execution resumes with the statement that immediately follows the last except block.The program does not return to the location where the exception occurred The raise statement is used to signal an exception. When raising an exception, you can use one of the built-in exceptions, like this:\n",
    "\n",
    "raise RuntimeError(\"Computer says no\")\n",
    "\n",
    "Proper management of system resources such as locks, files, and network connections is often a tricky problem when combined with exception handling.To simplify such programming, you can use the with statement with certain kinds of objects. Here is an example of writing code that uses a mutex lock:\n"
   ]
  },
  {
   "cell_type": "markdown",
   "metadata": {},
   "source": [
    "As your programs grow in size, you will want to break them into multiple files for easi- er maintenance.To do this, Python allows you to put definitions in a file and use them as a module that can be imported into other programs and scripts.To create a module, put the relevant statements and definitions into a file that has the same name as the module."
   ]
  },
  {
   "cell_type": "markdown",
   "metadata": {},
   "source": [
    "# Modules"
   ]
  },
  {
   "cell_type": "code",
   "execution_count": 10,
   "metadata": {},
   "outputs": [],
   "source": [
    "# file : div.py \n",
    "def divide(a,b):\n",
    "    q = a/b # If a and b are integers, q is an integer r = a - q*b\n",
    "    return (q,r)"
   ]
  },
  {
   "cell_type": "markdown",
   "metadata": {},
   "source": [
    "To use your module in other programs, you can use the import statement:"
   ]
  },
  {
   "cell_type": "code",
   "execution_count": null,
   "metadata": {},
   "outputs": [],
   "source": [
    "import div\n",
    "a, b = div.divide(2305, 29)"
   ]
  },
  {
   "cell_type": "markdown",
   "metadata": {},
   "source": [
    "The import statement creates a new namespace and executes all the statements in the associated .py file within that namespace. To access the contents of the namespace after import, simply use the name of the module as a prefix, as in div.divide() in the pre- ceding example. If you want to import a module using a different name, supply the import statement with an optional as qualifier, as follows:"
   ]
  },
  {
   "cell_type": "code",
   "execution_count": null,
   "metadata": {
    "scrolled": true
   },
   "outputs": [],
   "source": [
    "import div as foo\n",
    "a,b = foo.divide(2305,29)"
   ]
  },
  {
   "cell_type": "markdown",
   "metadata": {},
   "source": [
    "As with objects, the dir() function lists the contents of a module and is a useful tool for interactive experimentation:"
   ]
  },
  {
   "cell_type": "code",
   "execution_count": 13,
   "metadata": {
    "scrolled": false
   },
   "outputs": [
    {
     "data": {
      "text/plain": [
       "['Formatter',\n",
       " 'Template',\n",
       " '_ChainMap',\n",
       " '_TemplateMetaclass',\n",
       " '__all__',\n",
       " '__builtins__',\n",
       " '__cached__',\n",
       " '__doc__',\n",
       " '__file__',\n",
       " '__loader__',\n",
       " '__name__',\n",
       " '__package__',\n",
       " '__spec__',\n",
       " '_re',\n",
       " '_string',\n",
       " 'ascii_letters',\n",
       " 'ascii_lowercase',\n",
       " 'ascii_uppercase',\n",
       " 'capwords',\n",
       " 'digits',\n",
       " 'hexdigits',\n",
       " 'octdigits',\n",
       " 'printable',\n",
       " 'punctuation',\n",
       " 'whitespace']"
      ]
     },
     "execution_count": 13,
     "metadata": {},
     "output_type": "execute_result"
    }
   ],
   "source": [
    "import string\n",
    "dir(string)"
   ]
  },
  {
   "cell_type": "code",
   "execution_count": null,
   "metadata": {},
   "outputs": [],
   "source": []
  }
 ],
 "metadata": {
  "kernelspec": {
   "display_name": "Python 3",
   "language": "python",
   "name": "python3"
  },
  "language_info": {
   "codemirror_mode": {
    "name": "ipython",
    "version": 3
   },
   "file_extension": ".py",
   "mimetype": "text/x-python",
   "name": "python",
   "nbconvert_exporter": "python",
   "pygments_lexer": "ipython3",
   "version": "3.7.3"
  }
 },
 "nbformat": 4,
 "nbformat_minor": 2
}
