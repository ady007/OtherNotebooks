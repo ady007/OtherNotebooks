{
 "cells": [
  {
   "cell_type": "markdown",
   "metadata": {},
   "source": [
    "Functions are defined with the def statement. The order and number of arguments must match those given in the function definition. If a mismatch exists, a TypeError exception is raised. When a function defines a parameter with a default value, that parameter and all the parameters that follow are optional. If values are not assigned to all the optional parame- ters in the function definition, a SyntaxError exception is raised.\n",
    "\n",
    "Default parameter values are always set to the objects that were supplied as values when the function was defined. "
   ]
  },
  {
   "cell_type": "code",
   "execution_count": 2,
   "metadata": {},
   "outputs": [
    {
     "data": {
      "text/plain": [
       "10"
      ]
     },
     "execution_count": 2,
     "metadata": {},
     "output_type": "execute_result"
    }
   ],
   "source": [
    "a = 10\n",
    "def foo(x=a):\n",
    "    return x\n",
    "\n",
    "a = 5 # Reassign 'a'.\n",
    "foo()"
   ]
  },
  {
   "cell_type": "markdown",
   "metadata": {},
   "source": [
    "In addition, the use of mutable objects as default values may lead to unintended behavior"
   ]
  },
  {
   "cell_type": "code",
   "execution_count": 3,
   "metadata": {},
   "outputs": [
    {
     "data": {
      "text/plain": [
       "[1, 2, 3]"
      ]
     },
     "execution_count": 3,
     "metadata": {},
     "output_type": "execute_result"
    }
   ],
   "source": [
    "def foo(x, items=[]):\n",
    "    items.append(x)\n",
    "    return items\n",
    "\n",
    "foo(1)\n",
    "foo(2)\n",
    "foo(3)"
   ]
  },
  {
   "cell_type": "markdown",
   "metadata": {},
   "source": [
    "Notice how the default argument retains modifications made from previous invocations. To prevent this, it is better to use None and add a check as follows:"
   ]
  },
  {
   "cell_type": "code",
   "execution_count": 4,
   "metadata": {},
   "outputs": [],
   "source": [
    "def foo(x, items=None):\n",
    "    if items is None:\n",
    "        items = []\n",
    "    items.append(x)\n",
    "    return items"
   ]
  },
  {
   "cell_type": "markdown",
   "metadata": {},
   "source": [
    "A function can accept a variable number of parameters if an asterisk (*) is added to the last parameter name. In this case, all the remaining arguments are placed into the args variable as a tuple. To pass a tuple args to a function as if they were parameters, the *args syntax can be used in a function call.\n",
    "\n",
    "If the last argument of a function definition begins with \\**, all the additional keyword arguments (those that don’t match any of the other parameter names) are placed in a dictionary and passed to the function.This can be a useful way to write functions that accept a large number of potentially open-ended configuration options that would be too unwieldy to list as parameters."
   ]
  },
  {
   "cell_type": "code",
   "execution_count": null,
   "metadata": {},
   "outputs": [],
   "source": [
    "def fprintf(file, fmt, *args):\n",
    "    file.write(fmt % args)\n",
    "\n",
    "# Use fprintf. args gets (42,\"hello world\", 3.45) \n",
    "fprintf(out,\"%d %s %f\", 42, \"hello world\", 3.45)"
   ]
  },
  {
   "cell_type": "markdown",
   "metadata": {},
   "source": [
    "Function arguments can also be supplied by explicitly naming each parameter and spec- ifying a value.These are known as keyword arguments.\n",
    "\n",
    "def foo(w,x,y,z):\n",
    "    statements\n",
    "\n",
    "Keyword argument invocation \n",
    "\n",
    "foo(x=3, y=22, w='hello', z=[1,2])\n",
    "\n",
    "With keyword arguments, the order of the parameters doesn’t matter. However, unless there are default values, you must explicitly name all of the required function parame- ters. If you omit any of the required parameters or if the name of a keyword doesn’t match any of the parameter names in the function definition, a TypeError exception is raised. Also, since any Python function can be called using the keyword calling style, it is generally a good idea to define functions with descriptive argument names. Positional arguments and keyword arguments can appear in the same function call, provided that all the positional arguments appear first, values are provided for all non- optional arguments, and no argument value is defined more than once. Here’s an example:\n",
    "\n",
    "foo('hello', 3, z=[1,2], y=22)  \n",
    "foo(3, 22, w='hello', z=[1,2]) # TypeError. Multiple values for w"
   ]
  },
  {
   "cell_type": "code",
   "execution_count": 7,
   "metadata": {},
   "outputs": [],
   "source": [
    "# Accept variable number of positional or keyword arguments \n",
    "def spam(*args, **kwargs):\n",
    "    pass\n",
    "# args is a tuple of positional args # kwargs is dictionary of keyword args"
   ]
  },
  {
   "cell_type": "markdown",
   "metadata": {},
   "source": [
    "When a function is invoked, the function parameters are simply names that refer to the passed input objects.The underlying semantics of parameter passing doesn’t neatly fit into any single style, such as “pass by value” or “pass by reference,” that you might know about from other programming languages. For example, if you pass an immutable value, the argument effectively looks like it was passed by value. However, if a mutable object (such as a list or dictionary) is passed to a function where it’s then modified, those changes will be reflected in the original object."
   ]
  },
  {
   "cell_type": "code",
   "execution_count": 8,
   "metadata": {},
   "outputs": [
    {
     "name": "stdout",
     "output_type": "stream",
     "text": [
      "[1, 4, 9, 16, 25]\n"
     ]
    }
   ],
   "source": [
    "a = [1, 2, 3, 4, 5] \n",
    "def square(items):\n",
    "    for i,x in enumerate(items):\n",
    "        items[i] = x * x # Modify items in-place\n",
    "\n",
    "square(a) # Changes a to [1, 4, 9, 16, 25]\n",
    "print(a)"
   ]
  },
  {
   "cell_type": "markdown",
   "metadata": {},
   "source": [
    "Functions that mutate their input values or change the state of other parts of the pro- gram behind the scenes like this are said to have side effects. As a general rule, this is a programming style that is best avoided because such functions can become a source of subtle programming errors as programs grow in size and complexity (for example, it’s not obvious from reading a function call if a function has side effects). Such functions interact poorly with programs involving threads and concurrency because side effects typically need to be protected by locks.\n",
    "\n",
    "The return statement returns a value from a function. If no value is specified or you omit the return statement, the None object is returned.To return multiple values, place them in a tuple."
   ]
  },
  {
   "cell_type": "markdown",
   "metadata": {},
   "source": [
    "# Scoping"
   ]
  },
  {
   "cell_type": "markdown",
   "metadata": {},
   "source": [
    "Each time a function executes, a new local namespace is created.This namespace repre- sents a local environment that contains the names of the function parameters, as well as the names of variables that are assigned inside the function body.When resolving names, the interpreter first searches the local namespace. If no match exists, it searches the glob- al namespace.The global namespace for a function is always the module in which the function was defined. If the interpreter finds no match in the global namespace, it makes a final check in the built-in namespace. If this fails, a NameError exception is raised.\n",
    "\n",
    "Inside a function, you can explicitly make a variable global by declaring it so before the variable is used, using the global statement."
   ]
  },
  {
   "cell_type": "code",
   "execution_count": 9,
   "metadata": {},
   "outputs": [
    {
     "name": "stdout",
     "output_type": "stream",
     "text": [
      "1 two\n"
     ]
    }
   ],
   "source": [
    "def fun():\n",
    "    global a\n",
    "    a = 1\n",
    "    b = 2\n",
    "    \n",
    "a = \"one\"\n",
    "b = \"two\"\n",
    "fun()\n",
    "print(a,b)"
   ]
  },
  {
   "cell_type": "markdown",
   "metadata": {},
   "source": [
    "Python 3 introduced the **nonlocal** keyword that allows you to assign to variables in an outer, but non-global, scope. An example will illustrate what I mean."
   ]
  },
  {
   "cell_type": "code",
   "execution_count": 10,
   "metadata": {},
   "outputs": [
    {
     "name": "stdout",
     "output_type": "stream",
     "text": [
      "Inside!\n",
      "Outside!\n"
     ]
    }
   ],
   "source": [
    "def outside():\n",
    "    msg = \"Outside!\"\n",
    "    def inside():\n",
    "        msg = \"Inside!\"\n",
    "        print(msg)\n",
    "    inside()\n",
    "    print(msg)\n",
    "    \n",
    "outside()"
   ]
  },
  {
   "cell_type": "code",
   "execution_count": 11,
   "metadata": {},
   "outputs": [
    {
     "name": "stdout",
     "output_type": "stream",
     "text": [
      "Inside!\n",
      "Inside!\n"
     ]
    }
   ],
   "source": [
    "def outside():\n",
    "    msg = \"Outside!\"\n",
    "    def inside():\n",
    "        nonlocal msg\n",
    "        msg = \"Inside!\"\n",
    "        print(msg)\n",
    "    inside()\n",
    "    print(msg)\n",
    "outside()"
   ]
  },
  {
   "cell_type": "markdown",
   "metadata": {},
   "source": [
    "# Functions As Objects And Closures"
   ]
  },
  {
   "cell_type": "markdown",
   "metadata": {},
   "source": [
    "Functions are first-class objects in Python.This means that they can be passed as argu- ments to other functions, placed in data structures, and returned by a function as a result."
   ]
  },
  {
   "cell_type": "code",
   "execution_count": 12,
   "metadata": {},
   "outputs": [
    {
     "name": "stdout",
     "output_type": "stream",
     "text": [
      "Hello world!\n"
     ]
    }
   ],
   "source": [
    "def callf(func):\n",
    "    func()\n",
    "\n",
    "def helloworld():\n",
    "    print(\"Hello world!\")\n",
    "\n",
    "callf(helloworld)"
   ]
  },
  {
   "cell_type": "markdown",
   "metadata": {},
   "source": [
    "When a function is handled as data, it implicitly carries information related to the sur- rounding environment where the function was defined.This affects how free variables in the function are bound."
   ]
  },
  {
   "cell_type": "code",
   "execution_count": 15,
   "metadata": {},
   "outputs": [],
   "source": [
    "# foo.py\n",
    "x = 42\n",
    "def callf(func):\n",
    "    return func()"
   ]
  },
  {
   "cell_type": "code",
   "execution_count": null,
   "metadata": {
    "scrolled": true
   },
   "outputs": [],
   "source": [
    "import foo\n",
    "x = 37\n",
    "\n",
    "def helloworld():\n",
    "    print(x)\n",
    "\n",
    "foo.callf(helloworld)\n",
    "#Output - 37"
   ]
  },
  {
   "cell_type": "markdown",
   "metadata": {},
   "source": [
    "In this example, notice how the function helloworld() uses the value of x that’s defined in the same environment as where helloworld() was defined. Thus, even though there is also an x defined in foo.py and that’s where helloworld() is actually being called, that value of x is not the one that’s used when helloworld() executes. When the statements that make up a function are packaged together with the envi- ronment in which they execute, the resulting object is known as a closure.The behavior of the previous example is explained by the fact that all functions have a __globals__ attribute that points to the global namespace in which the function was defined.This always corresponds to the enclosing module in which a function was defined.\n",
    "\n",
    "When nested functions are used, closures capture the entire environment needed for the inner function to execute."
   ]
  },
  {
   "cell_type": "code",
   "execution_count": null,
   "metadata": {},
   "outputs": [],
   "source": [
    "import foo \n",
    "def bar():\n",
    "    x = 13\n",
    "    def helloworld():\n",
    "        print(x)\n",
    "        \n",
    "    foo.callf(helloworld)\n",
    "##Output - 13"
   ]
  },
  {
   "cell_type": "markdown",
   "metadata": {},
   "source": [
    "Closures and nested functions are especially useful if you want to write code based on the concept of lazy or delayed evaluation."
   ]
  },
  {
   "cell_type": "code",
   "execution_count": 17,
   "metadata": {},
   "outputs": [],
   "source": [
    "from urllib.request import urlopen\n",
    "def page(url):\n",
    "    def get():\n",
    "        return urlopen(url).read()\n",
    "    return get"
   ]
  },
  {
   "cell_type": "markdown",
   "metadata": {},
   "source": [
    "In this example, the page() function doesn’t actually carry out any interesting compu- tation. Instead, it merely creates and returns a function get() that will fetch the con- tents of a web page when it is called.Thus, the computation carried out in get() is actually delayed until some later point in a program when get() is evaluated. "
   ]
  },
  {
   "cell_type": "code",
   "execution_count": 24,
   "metadata": {},
   "outputs": [],
   "source": [
    "python = page(\"http://www.python.org\")\n",
    "jython = page(\"http://www.jython.org\")"
   ]
  },
  {
   "cell_type": "code",
   "execution_count": 25,
   "metadata": {},
   "outputs": [
    {
     "data": {
      "text/plain": [
       "<function __main__.page.<locals>.get()>"
      ]
     },
     "execution_count": 25,
     "metadata": {},
     "output_type": "execute_result"
    }
   ],
   "source": [
    "python"
   ]
  },
  {
   "cell_type": "code",
   "execution_count": 31,
   "metadata": {},
   "outputs": [
    {
     "data": {
      "text/plain": [
       "<function __main__.page.<locals>.get()>"
      ]
     },
     "execution_count": 31,
     "metadata": {},
     "output_type": "execute_result"
    }
   ],
   "source": [
    "jython"
   ]
  },
  {
   "cell_type": "code",
   "execution_count": 32,
   "metadata": {},
   "outputs": [],
   "source": [
    "#pydata = python()\n",
    "#jydata = jython()"
   ]
  },
  {
   "cell_type": "markdown",
   "metadata": {},
   "source": [
    "In this example, the two variables python and jython are actually two different ver- sions of the get() function. Even though the page() function that created these values is no longer executing, both get() functions implicitly carry the values of the outer variables that were defined when the get() function was created. Thus, when get() executes, it calls urlopen(url) with the value of url that was originally supplied to page(). With a little inspection, you can view the contents of variables that are carried along in a closure."
   ]
  },
  {
   "cell_type": "code",
   "execution_count": 33,
   "metadata": {},
   "outputs": [
    {
     "data": {
      "text/plain": [
       "(<cell at 0x10a124618: str object at 0x10a695d68>,)"
      ]
     },
     "execution_count": 33,
     "metadata": {},
     "output_type": "execute_result"
    }
   ],
   "source": [
    "python.__closure__"
   ]
  },
  {
   "cell_type": "code",
   "execution_count": 34,
   "metadata": {},
   "outputs": [
    {
     "data": {
      "text/plain": [
       "'http://www.python.org'"
      ]
     },
     "execution_count": 34,
     "metadata": {},
     "output_type": "execute_result"
    }
   ],
   "source": [
    "python.__closure__[0].cell_contents"
   ]
  },
  {
   "cell_type": "markdown",
   "metadata": {},
   "source": [
    "A closure can be a highly efficient way to preserve state across a series of function calls. For example, consider this code that runs a simple counter"
   ]
  },
  {
   "cell_type": "code",
   "execution_count": 36,
   "metadata": {},
   "outputs": [
    {
     "name": "stdout",
     "output_type": "stream",
     "text": [
      "10\n",
      "9\n",
      "8\n",
      "7\n",
      "6\n",
      "5\n",
      "4\n",
      "3\n",
      "2\n",
      "1\n"
     ]
    }
   ],
   "source": [
    "def countdown(n): \n",
    "    def next():\n",
    "        nonlocal n\n",
    "        r=n\n",
    "        n -= 1\n",
    "        return r\n",
    "    return next\n",
    "\n",
    "# Example use\n",
    "next = countdown(10)\n",
    "while True:\n",
    "    v = next()\n",
    "    if not v:\n",
    "        break\n",
    "    else:\n",
    "        print(v)"
   ]
  },
  {
   "cell_type": "markdown",
   "metadata": {},
   "source": [
    "In this code, a closure is being used to store the internal counter value n.The inner function next() updates and returns the previous value of this counter variable each time it is called. Programmers not familiar with closures might be inclined to imple- ment similar functionality using a class such as this:"
   ]
  },
  {
   "cell_type": "code",
   "execution_count": 41,
   "metadata": {},
   "outputs": [
    {
     "name": "stdout",
     "output_type": "stream",
     "text": [
      "10\n",
      "9\n",
      "8\n",
      "7\n",
      "6\n",
      "5\n",
      "4\n",
      "3\n",
      "2\n",
      "1\n"
     ]
    }
   ],
   "source": [
    "class Countdown(object):\n",
    "    def __init__(self,n):\n",
    "        self.n = n\n",
    "    def next(self):\n",
    "        r = self.n\n",
    "        self.n -= 1\n",
    "        return r\n",
    "    \n",
    "# Example use\n",
    "c = Countdown(10) \n",
    "while True:\n",
    "    v = c.next()\n",
    "    if not v:\n",
    "        break\n",
    "    else:\n",
    "        print(v)"
   ]
  },
  {
   "cell_type": "markdown",
   "metadata": {},
   "source": [
    "However, if you increase the starting value of the countdown and perform a simple timing benchmark, you will find that that the version using closures runs much faster (almost a 50% speedup). The fact that closures capture the environment of inner functions also make them useful for applications where you want to wrap existing functions in order to add extra capabilities."
   ]
  },
  {
   "cell_type": "markdown",
   "metadata": {},
   "source": [
    "# Decorators"
   ]
  },
  {
   "cell_type": "markdown",
   "metadata": {},
   "source": [
    "A decorator is a function whose primary purpose is to wrap another function or class. The primary purpose of this wrapping is to transparently alter or enhance the behavior of the object being wrapped."
   ]
  },
  {
   "cell_type": "code",
   "execution_count": null,
   "metadata": {},
   "outputs": [],
   "source": [
    "@trace\n",
    "def square(x):\n",
    "    return x*x"
   ]
  },
  {
   "cell_type": "markdown",
   "metadata": {},
   "source": [
    "The above is a short hand for the following"
   ]
  },
  {
   "cell_type": "code",
   "execution_count": null,
   "metadata": {
    "scrolled": true
   },
   "outputs": [],
   "source": [
    "def square(x):\n",
    "    return x*x\n",
    "square = trace(square)"
   ]
  },
  {
   "cell_type": "markdown",
   "metadata": {},
   "source": [
    "In the example, a function square() is defined. However, immediately after its defini- tion, the function object itself is passed to the function trace(), which returns an object that replaces the original square."
   ]
  },
  {
   "cell_type": "code",
   "execution_count": 70,
   "metadata": {},
   "outputs": [
    {
     "name": "stdout",
     "output_type": "stream",
     "text": [
      "Decorating function: myfunction\n",
      "Executing function: myfunction\n",
      "hello world\n"
     ]
    }
   ],
   "source": [
    "def decorate(func):\n",
    "    print(\"Decorating function: \" + func.__name__)\n",
    "    def wrapper_func(*args):\n",
    "        print(\"Executing function: \" + func.__name__)\n",
    "        return func(*args)\n",
    "    return wrapper_func\n",
    "\n",
    "@decorate\n",
    "def myfunction(param):\n",
    "    print(param)\n",
    "    \n",
    "myfunction(\"hello world\")"
   ]
  },
  {
   "cell_type": "markdown",
   "metadata": {},
   "source": [
    "# Generators & Coroutines"
   ]
  },
  {
   "cell_type": "markdown",
   "metadata": {},
   "source": [
    "If a function uses the yield keyword, it defines an object known as a generator. A gener- ator is a function that produces a sequence of values for use in iteration. Here’s an example:"
   ]
  },
  {
   "cell_type": "code",
   "execution_count": 46,
   "metadata": {},
   "outputs": [],
   "source": [
    "def countdown(n):\n",
    "    print(\"Counting down from %d\" % n)\n",
    "    while n > 0:\n",
    "        yield n\n",
    "        n -= 1\n",
    "    return"
   ]
  },
  {
   "cell_type": "markdown",
   "metadata": {},
   "source": [
    "If you call this function, you will find that none of its code starts executing. Instead, a generator object is returned.The generator object, in turn, executes the func- tion whenever next() is called (or __next__() in Python 3)"
   ]
  },
  {
   "cell_type": "code",
   "execution_count": 47,
   "metadata": {},
   "outputs": [],
   "source": [
    "k = countdown(10)"
   ]
  },
  {
   "cell_type": "code",
   "execution_count": 48,
   "metadata": {},
   "outputs": [
    {
     "data": {
      "text/plain": [
       "<generator object countdown at 0x10a6b2930>"
      ]
     },
     "execution_count": 48,
     "metadata": {},
     "output_type": "execute_result"
    }
   ],
   "source": [
    "k"
   ]
  },
  {
   "cell_type": "code",
   "execution_count": 50,
   "metadata": {},
   "outputs": [
    {
     "name": "stdout",
     "output_type": "stream",
     "text": [
      "Counting down from 10\n"
     ]
    },
    {
     "data": {
      "text/plain": [
       "10"
      ]
     },
     "execution_count": 50,
     "metadata": {},
     "output_type": "execute_result"
    }
   ],
   "source": [
    "k.__next__()"
   ]
  },
  {
   "cell_type": "code",
   "execution_count": 51,
   "metadata": {},
   "outputs": [
    {
     "data": {
      "text/plain": [
       "9"
      ]
     },
     "execution_count": 51,
     "metadata": {},
     "output_type": "execute_result"
    }
   ],
   "source": [
    "k.__next__()"
   ]
  },
  {
   "cell_type": "code",
   "execution_count": 52,
   "metadata": {},
   "outputs": [
    {
     "data": {
      "text/plain": [
       "8"
      ]
     },
     "execution_count": 52,
     "metadata": {},
     "output_type": "execute_result"
    }
   ],
   "source": [
    "k.__next__()"
   ]
  },
  {
   "cell_type": "markdown",
   "metadata": {},
   "source": [
    "When next() is invoked, the generator function executes statements until it reaches a yield statement. The yield statement produces a result at which point execution of the function stops until next() is invoked again. Execution then resumes with the statement following yield. You normally don’t call next() directly on a generator but use it with the for statement, sum(), or some other operation that consumes a sequence."
   ]
  },
  {
   "cell_type": "code",
   "execution_count": 55,
   "metadata": {},
   "outputs": [
    {
     "name": "stdout",
     "output_type": "stream",
     "text": [
      "Counting down from 10\n"
     ]
    }
   ],
   "source": [
    "for n in countdown(10):\n",
    "    pass\n",
    "    #statements"
   ]
  },
  {
   "cell_type": "code",
   "execution_count": 56,
   "metadata": {},
   "outputs": [
    {
     "name": "stdout",
     "output_type": "stream",
     "text": [
      "Counting down from 10\n"
     ]
    }
   ],
   "source": [
    "a = sum(countdown(10))"
   ]
  },
  {
   "cell_type": "code",
   "execution_count": 57,
   "metadata": {},
   "outputs": [
    {
     "data": {
      "text/plain": [
       "55"
      ]
     },
     "execution_count": 57,
     "metadata": {},
     "output_type": "execute_result"
    }
   ],
   "source": [
    "a"
   ]
  },
  {
   "cell_type": "markdown",
   "metadata": {},
   "source": [
    "A generator function signals completion by returning or raising StopIteration, at which point iteration stops. It is never legal for a generator to return a value other than None upon completion. A subtle problem with generators concerns the case where a generator function is only partially consumed. For example, consider this code:"
   ]
  },
  {
   "cell_type": "code",
   "execution_count": 58,
   "metadata": {},
   "outputs": [
    {
     "name": "stdout",
     "output_type": "stream",
     "text": [
      "Counting down from 10\n"
     ]
    }
   ],
   "source": [
    "for n in countdown(10):\n",
    "    if n == 2: \n",
    "        break"
   ]
  },
  {
   "cell_type": "markdown",
   "metadata": {},
   "source": [
    "In this example, the for loop aborts by calling break, and the associated generator never runs to full completion.To handle this case, generator objects have a method close() that is used to signal a shutdown.When a generator is no longer used or deleted, close() is called. Normally it is not necessary to call close(), but you can also call it manually"
   ]
  },
  {
   "cell_type": "code",
   "execution_count": 60,
   "metadata": {},
   "outputs": [],
   "source": [
    "def countdown(n):\n",
    "    print(\"Counting down from %d\" % n)\n",
    "    try:\n",
    "        while n > 0: \n",
    "            yield n\n",
    "            n=n-1\n",
    "    except GeneratorExit:\n",
    "        print(\"Only made it to %d\" % n)"
   ]
  },
  {
   "cell_type": "markdown",
   "metadata": {},
   "source": [
    "Although it is possible to catch GeneratorExit, it is illegal for a generator function to handle the exception and produce another output value using yield. Moreover, if a program is currently iterating on generator, you should not call close() asynchronous- ly on that generator from a separate thread of execution or from a signal handler.\n",
    "\n",
    "Inside a function, the yield statement can also be used as an expression that appears on the right side of an assignment operator."
   ]
  },
  {
   "cell_type": "code",
   "execution_count": 61,
   "metadata": {},
   "outputs": [],
   "source": [
    "def receiver():\n",
    "    print(\"Ready to receive\")\n",
    "    while True:\n",
    "        n = (yield)\n",
    "        print(\"Got %s\" % n)"
   ]
  },
  {
   "cell_type": "code",
   "execution_count": 63,
   "metadata": {},
   "outputs": [],
   "source": [
    "r = receiver()"
   ]
  },
  {
   "cell_type": "code",
   "execution_count": 64,
   "metadata": {},
   "outputs": [
    {
     "name": "stdout",
     "output_type": "stream",
     "text": [
      "Ready to receive\n"
     ]
    }
   ],
   "source": [
    "r.__next__()"
   ]
  },
  {
   "cell_type": "code",
   "execution_count": 65,
   "metadata": {},
   "outputs": [
    {
     "name": "stdout",
     "output_type": "stream",
     "text": [
      "Got 3\n"
     ]
    }
   ],
   "source": [
    "r.send(3)"
   ]
  },
  {
   "cell_type": "code",
   "execution_count": 66,
   "metadata": {},
   "outputs": [
    {
     "name": "stdout",
     "output_type": "stream",
     "text": [
      "Got Aditya\n"
     ]
    }
   ],
   "source": [
    "r.send(\"Aditya\")"
   ]
  },
  {
   "cell_type": "code",
   "execution_count": 67,
   "metadata": {},
   "outputs": [],
   "source": [
    "r.close()"
   ]
  },
  {
   "cell_type": "code",
   "execution_count": 68,
   "metadata": {},
   "outputs": [
    {
     "ename": "StopIteration",
     "evalue": "",
     "output_type": "error",
     "traceback": [
      "\u001b[0;31m---------------------------------------------------------------------------\u001b[0m",
      "\u001b[0;31mStopIteration\u001b[0m                             Traceback (most recent call last)",
      "\u001b[0;32m<ipython-input-68-e7372d3a5afb>\u001b[0m in \u001b[0;36m<module>\u001b[0;34m\u001b[0m\n\u001b[0;32m----> 1\u001b[0;31m \u001b[0mr\u001b[0m\u001b[0;34m.\u001b[0m\u001b[0msend\u001b[0m\u001b[0;34m(\u001b[0m\u001b[0;36m8\u001b[0m\u001b[0;34m)\u001b[0m\u001b[0;34m\u001b[0m\u001b[0;34m\u001b[0m\u001b[0m\n\u001b[0m",
      "\u001b[0;31mStopIteration\u001b[0m: "
     ]
    }
   ],
   "source": [
    "r.send(8)"
   ]
  },
  {
   "cell_type": "markdown",
   "metadata": {},
   "source": [
    "In this example, the initial call to next() is necessary so that the coroutine executes statements leading to the first yield expression. At this point, the coroutine suspends, waiting for a value to be sent to it using the send() method of the associated generator object r.The value passed to send() is returned by the (yield) expression in the coroutine. Upon receiving a value, a coroutine executes statements until the next yield statement is encountered.\n",
    "\n",
    "The requirement of first calling next() on a coroutine is easily overlooked and a common source of errors.Therefore, it is recommended that coroutines be wrapped with a decorator that automatically takes care of this step."
   ]
  },
  {
   "cell_type": "code",
   "execution_count": 69,
   "metadata": {},
   "outputs": [],
   "source": [
    "def coroutine(func):\n",
    "    def start(*args,**kwargs):\n",
    "        g = func(*args,**kwargs)\n",
    "        g.next()\n",
    "        return g\n",
    "    return start\n",
    "\n",
    "@coroutine\n",
    "def coroutinefunc():\n",
    "    pass"
   ]
  },
  {
   "cell_type": "code",
   "execution_count": null,
   "metadata": {},
   "outputs": [],
   "source": []
  }
 ],
 "metadata": {
  "kernelspec": {
   "display_name": "Python 3",
   "language": "python",
   "name": "python3"
  },
  "language_info": {
   "codemirror_mode": {
    "name": "ipython",
    "version": 3
   },
   "file_extension": ".py",
   "mimetype": "text/x-python",
   "name": "python",
   "nbconvert_exporter": "python",
   "pygments_lexer": "ipython3",
   "version": "3.7.3"
  }
 },
 "nbformat": 4,
 "nbformat_minor": 2
}
