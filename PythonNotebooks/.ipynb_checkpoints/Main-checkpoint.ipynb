{
 "cells": [
  {
   "cell_type": "markdown",
   "metadata": {},
   "source": [
    "# Overview"
   ]
  },
  {
   "cell_type": "code",
   "execution_count": 2,
   "metadata": {
    "scrolled": true
   },
   "outputs": [
    {
     "data": {
      "text/plain": [
       "True"
      ]
     },
     "execution_count": 2,
     "metadata": {},
     "output_type": "execute_result"
    }
   ],
   "source": [
    "isinstance(2.5, float) "
   ]
  },
  {
   "cell_type": "code",
   "execution_count": 2,
   "metadata": {},
   "outputs": [
    {
     "data": {
      "text/plain": [
       "5"
      ]
     },
     "execution_count": 2,
     "metadata": {},
     "output_type": "execute_result"
    }
   ],
   "source": [
    "2 + 3"
   ]
  },
  {
   "cell_type": "markdown",
   "metadata": {},
   "source": [
    "_ is a special variable in the python shell which holds the result of the last operation"
   ]
  },
  {
   "cell_type": "code",
   "execution_count": 5,
   "metadata": {
    "scrolled": true
   },
   "outputs": [
    {
     "data": {
      "text/plain": [
       "5"
      ]
     },
     "execution_count": 5,
     "metadata": {},
     "output_type": "execute_result"
    }
   ],
   "source": [
    "_"
   ]
  },
  {
   "cell_type": "code",
   "execution_count": 11,
   "metadata": {
    "scrolled": true
   },
   "outputs": [
    {
     "data": {
      "text/plain": [
       "True"
      ]
     },
     "execution_count": 11,
     "metadata": {},
     "output_type": "execute_result"
    }
   ],
   "source": [
    "import keyword\n",
    "keyword.iskeyword(\"elif\")"
   ]
  },
  {
   "cell_type": "markdown",
   "metadata": {},
   "source": [
    "**Keywords**\n",
    "\n",
    "False  \n",
    "True  \n",
    "None  \n",
    "class  \n",
    "finally  \n",
    "is  \n",
    "return  \n",
    "continue  \n",
    "for  \n",
    "lambda  \n",
    "try  \n",
    "def  \n",
    "from  \n",
    "nonlocal  \n",
    "while  \n",
    "and  \n",
    "del  \n",
    "global  \n",
    "not  \n",
    "with  \n",
    "as  \n",
    "elif  \n",
    "if  \n",
    "or  \n",
    "yield  \n",
    "assert  \n",
    "else  \n",
    "import  \n",
    "pass   \n",
    "break  \n",
    "except  \n",
    "in  \n",
    "raise  "
   ]
  },
  {
   "cell_type": "markdown",
   "metadata": {},
   "source": [
    "**Printing without newline**"
   ]
  },
  {
   "cell_type": "code",
   "execution_count": 12,
   "metadata": {},
   "outputs": [
    {
     "name": "stdout",
     "output_type": "stream",
     "text": [
      "aditya aditya\n",
      "1 2 3 4 "
     ]
    }
   ],
   "source": [
    "# Python 3 code for printing on the same line printing \n",
    "\n",
    "print(\"aditya\", end =\" \") \n",
    "print(\"aditya\") \n",
    "\n",
    "# array \n",
    "a = [1, 2, 3, 4] \n",
    "\n",
    "# printing a element in same \n",
    "# line \n",
    "for i in range(4): \n",
    "    print(a[i], end =\" \") "
   ]
  },
  {
   "cell_type": "markdown",
   "metadata": {},
   "source": [
    "**Dynamic Typing** : Python is a dynamically typed language where variable names are bound to different values, possibly of varying types, during program execution.The assignment operator simply creates an association between a name and a value. Although each value has an associated type such as an integer or string, variable names are untyped and can be made to refer to any type of data during execution.This is different from C, for example, in which a name represents a fixed type, size, and location in memory into which a value is stored.\n",
    "\n",
    "Every piece of data stored in a program is an object. Each object has an identity, a type (which is also known as its class), and a value. For example, when you write a = 42, an integer object is created with the value of 42. You can view the identity of an object as a pointer to its location in memory. a is a name that refers to this specific location. The type of an object, also known as the object’s class, describes the internal representation of the object as well as the methods and operations that it supports. When an object of a particular type is created, that object is sometimes called an instance of that type. After an instance is created, its identity and type cannot be changed. If an object’s value can be modified, the object is said to be mutable. If the value cannot be modified, the object is said to be immutable. An object that contains references to other objects is said to be a container or collection. Most objects are characterized by a number of data attributes and methods. An attribute is a value associated with an object. A method is a function that performs some sort of operation on an object when the method is invoked as a function.\n",
    "\n",
    "# Built-In Types\n",
    "\n",
    "There are approximately a dozen built-in data types that are used to represent most of the data used in programs. These are grouped into a few major categories as shown below. (NoneType, Numeric Types, Strings and Sequence Types)\n",
    "\n",
    "### None Type\n",
    "\n",
    "The None type denotes a null object (an object with no value). Python provides exactly one null object, which is written as None in a program. This object is returned by functions that don’t explicitly return a value. None is frequently used as the default value of optional arguments, so that the function can detect whether the caller has actually passed a value for that argument. None has no attributes and evaluates to False in Boolean expressions."
   ]
  },
  {
   "cell_type": "code",
   "execution_count": 63,
   "metadata": {
    "scrolled": true
   },
   "outputs": [
    {
     "name": "stdout",
     "output_type": "stream",
     "text": [
      "<class 'int'>\n",
      "<class 'float'>\n",
      "<class 'complex'>\n",
      "<class 'bool'>\n",
      "<class 'str'>\n",
      "<class 'tuple'>\n",
      "<class 'list'>\n",
      "<class 'set'>\n",
      "<class 'frozenset'>\n",
      "<class 'NoneType'>\n"
     ]
    }
   ],
   "source": [
    "print(type(4))\n",
    "print(type(3.2))\n",
    "print(type(3+2j))\n",
    "print(type(True))\n",
    "print(type(\"hello world\"))\n",
    "print(type((3,4)))\n",
    "print(type([3,4]))\n",
    "print(type(set([3,4])))\n",
    "print(type(frozenset([3,4,5,6])))\n",
    "print(type(None))"
   ]
  },
  {
   "cell_type": "markdown",
   "metadata": {},
   "source": [
    "**Mutable objects:**  \n",
    "list  \n",
    "dict  \n",
    "set  \n",
    "byte array  \n",
    "  \n",
    "**Immutable objects:**  \n",
    "int  \n",
    "float  \n",
    "complex  \n",
    "string  \n",
    "tuple  \n",
    "frozen set  \n",
    "bytes  \n",
    "range  \n",
    "bool  \n",
    "\n",
    "Custom classes are generally mutable. To simulate immutability in a class, one should override attribute setting and deletion to raise exceptions."
   ]
  },
  {
   "cell_type": "code",
   "execution_count": 8,
   "metadata": {
    "scrolled": true
   },
   "outputs": [
    {
     "name": "stdout",
     "output_type": "stream",
     "text": [
      "4546224000\n",
      "4546223664\n"
     ]
    }
   ],
   "source": [
    "a = \"hello\"\n",
    "print(id(a))\n",
    "\n",
    "a = \"world\"\n",
    "print(id(a))"
   ]
  },
  {
   "cell_type": "code",
   "execution_count": 9,
   "metadata": {},
   "outputs": [
    {
     "name": "stdout",
     "output_type": "stream",
     "text": [
      "4546257480\n",
      "4546257480\n"
     ]
    }
   ],
   "source": [
    "a = [2,3,4]\n",
    "print(id(a))\n",
    "\n",
    "a.append(7)\n",
    "print(id(a))"
   ]
  },
  {
   "cell_type": "markdown",
   "metadata": {},
   "source": [
    "### Numeric Types\n",
    "\n",
    "The identifiers True and False are interpreted as Boolean values with the integer values of 1 and 0, respectively. A number such as 1234 is interpreted as a decimal integer. To specify an integer using octal, hexadecimal, or binary notation, precede the value with 0, 0x, or 0b, respectively (for example, 0644, 0x100fea8, or 0b11101010). Integers in Python can have an arbitrary number of digits, so if you want to specify a really large integer, just write out all of the digits, as in 12345678901234567890. However, you might see large numbers written with a trailing l (lowercase L) or L character, as in 12345678901234567890L. This trailing L is related to the fact that Python internally represents integers as either a fixed-precision machine integer or an arbitrary precision long integer type depending on the magnitude of the value. Numbers such as 123.34 and 1.2334e+02 are interpreted as floating-point numbers. An integer or floating-point number with a trailing j or J, such as 12.34J, is an imaginary number. You can create complex numbers with real and imaginary parts by adding a real number and an imaginary number, as in 1.2 + 12.34J.\n",
    "\n",
    "Python uses five numeric types: Booleans, integers, long integers, floating-point numbers, and complex numbers. Except for Booleans, all numeric objects are signed. All numeric types are immutable. Booleans are represented by two values: True and False. The names True and False are respectively mapped to the numerical values of 1 and 0. Integers represent whole numbers in the range of –2147483648 to 2147483647 (the range may be larger on some machines). Long integers represent whole numbers of unlimited range (limited only by available memory). Although there are two integer types, Python tries to make the distinction seamless (in fact, in Python 3, the two types have been unified into a single integer type).\n",
    "\n",
    "### Sequence Types\n",
    "\n",
    "Sequences represent ordered sets of objects indexed by non-negative integers and include strings, lists, and tuples. Strings are sequences of characters, and lists and tuples are sequences of arbitrary Python objects. Strings and tuples are immutable; lists allow insertion, deletion, and substitution of elements. All sequences support iteration.\n",
    "\n",
    "Operators and methods that you can apply to all sequence types. Element i of sequence s is selected using the indexing operator s[i], and subsequences are selected using the slicing operator s[i:j] or extended slicing operator s[i:j:stride] The length of any sequence is returned using the built-in len(s) function.You can find the minimum and maximum values of a sequence by using the built-in min(s) and max(s) functions. However, these functions only work for sequences in which the elements can be ordered (typically numbers and strings). sum(s) sums items in s but only works for numeric data.\n",
    "\n",
    "![title](https://i.ibb.co/9Zw5kT5/sequence.png)\n",
    "\n",
    "**Operators applicable to Mutable sequences**\n",
    "\n",
    "![title](https://i.ibb.co/qk9XG8r/mutablesequences.png)\n",
    "\n",
    "### Mapping Types\n",
    "\n",
    "A mapping object represents an arbitrary collection of objects that are indexed by another collection of nearly arbitrary key values. Unlike a sequence, a mapping object is unordered and can be indexed by numbers, strings, and other objects. Mappings are mutable. Dictionaries are the only built-in mapping type and are Python’s version of a hash table or associative array. You can use any immutable object as a dictionary key value (strings, numbers, tuples, and so on). Lists, dictionaries, and tuples containing mutable objects cannot be used as keys (the dictionary type requires key values to remain con- stant). To select an item in a mapping object, use the key index operator m[k], where k is a key value. If the key is not found, a KeyError exception is raised. The len(m) function returns the number of items contained in a mapping object.\n",
    "\n",
    "(more on dictionaries later ....)"
   ]
  },
  {
   "cell_type": "markdown",
   "metadata": {},
   "source": [
    "If the first statement of a module, class, or function definition is a string, that string becomes a documentation string for the associated object, as in the following example:"
   ]
  },
  {
   "cell_type": "code",
   "execution_count": 60,
   "metadata": {},
   "outputs": [],
   "source": [
    "def fact(n):\n",
    "    \"This function computes a factorial\"\n",
    "    if (n <= 1): \n",
    "        return 1\n",
    "    else:\n",
    "        return n * fact(n - 1)"
   ]
  },
  {
   "cell_type": "code",
   "execution_count": 61,
   "metadata": {},
   "outputs": [
    {
     "name": "stdout",
     "output_type": "stream",
     "text": [
      "This function computes a factorial\n"
     ]
    }
   ],
   "source": [
    "print(fact.__doc__)"
   ]
  },
  {
   "cell_type": "code",
   "execution_count": 6,
   "metadata": {},
   "outputs": [
    {
     "name": "stdout",
     "output_type": "stream",
     "text": [
      "  1 1000.00\n"
     ]
    }
   ],
   "source": [
    "year = 1\n",
    "principal = 1000\n",
    "print(\"%3d %0.2f\" % (year, principal)) #Python 3"
   ]
  },
  {
   "cell_type": "markdown",
   "metadata": {},
   "source": [
    "A newline terminates each statement. However, you can use a semicolon to separate statements on the same line"
   ]
  },
  {
   "cell_type": "markdown",
   "metadata": {},
   "source": [
    "print(format(year,\"3d\"),format(principal,\"0.2f\"))"
   ]
  },
  {
   "cell_type": "code",
   "execution_count": 11,
   "metadata": {},
   "outputs": [
    {
     "name": "stdout",
     "output_type": "stream",
     "text": [
      "Computer says Yes\n"
     ]
    }
   ],
   "source": [
    "a = 4\n",
    "b = 5\n",
    "if a < b:\n",
    "  print(\"Computer says Yes\")\n",
    "else:\n",
    "  print(\"Computer says No\")\n",
    "\n",
    "#To create an empty clause, use the pass statement"
   ]
  },
  {
   "cell_type": "markdown",
   "metadata": {},
   "source": [
    "Python does not have a special switch or case statement for testing values. To handle multiple-test cases, use the elif statement, like this:"
   ]
  },
  {
   "cell_type": "code",
   "execution_count": 15,
   "metadata": {},
   "outputs": [],
   "source": [
    "suffix = \".htm\"\n",
    "if suffix == \".htm\": \n",
    "    content = \"text/html\"\n",
    "elif suffix == \".jpg\": \n",
    "    content = \"image/jpeg\"\n",
    "elif suffix == \".png\": \n",
    "    content = \"image/png\"\n",
    "else:\n",
    "    raise RuntimeError(\"Unknown content type\")"
   ]
  },
  {
   "cell_type": "markdown",
   "metadata": {},
   "source": [
    "To denote truth values, use the Boolean values True and False. All relational operators such as < and > return True or False as results."
   ]
  },
  {
   "cell_type": "code",
   "execution_count": 18,
   "metadata": {},
   "outputs": [],
   "source": [
    "s = ['spam', 'hey']\n",
    "if 'spam' in s:\n",
    "    has_spam = True\n",
    "else:\n",
    "    has_spam = False"
   ]
  },
  {
   "cell_type": "markdown",
   "metadata": {},
   "source": [
    "The in operator used in this example is commonly used to check whether a value is contained inside of another object such as a string, list, or dictionary. It also returns True or False, so the preceding example could be shortened to this:"
   ]
  },
  {
   "cell_type": "code",
   "execution_count": 20,
   "metadata": {},
   "outputs": [],
   "source": [
    "has_spam = 'spam' in s"
   ]
  },
  {
   "cell_type": "markdown",
   "metadata": {},
   "source": [
    "The following program opens a file and reads its contents line by line. The open() function returns a new file object. By invoking methods on this object, you can perform various file operations.The readline() method reads a single line of input, including the terminating newline. The empty string is returned at the end of the file."
   ]
  },
  {
   "cell_type": "code",
   "execution_count": null,
   "metadata": {},
   "outputs": [],
   "source": [
    "f = open(\"foo.txt\")\n",
    "line = f.readline()\n",
    "while line:\n",
    "    print(line)\n",
    "    line = f.readline()\n",
    "f.close()\n",
    "#lines = f.readlines() # Read all lines into a list"
   ]
  },
  {
   "cell_type": "markdown",
   "metadata": {},
   "source": [
    "The program is simply looping over all the lines in the file foo.txt. Whenever a program loops over a collection of data like this (for instance input lines, numbers, strings, etc.), it is commonly known as iteration. Because iteration is such a common operation, Python provides a dedicated statement, for, that is used to iterate over items. For instance, the same program can be written much more succinctly as follows:"
   ]
  },
  {
   "cell_type": "code",
   "execution_count": null,
   "metadata": {
    "scrolled": true
   },
   "outputs": [],
   "source": [
    "for line in open(\"foo.txt\"):\n",
    "    print(line)"
   ]
  },
  {
   "cell_type": "markdown",
   "metadata": {},
   "source": [
    "To make the output of a program go to a file"
   ]
  },
  {
   "cell_type": "code",
   "execution_count": null,
   "metadata": {},
   "outputs": [],
   "source": [
    "f = open(\"out\",\"w\")\n",
    "print(\"%3d %0.2f\" % (year,principal),file=f)\n",
    "#OR\n",
    "f.write(\"%3d %0.2f\\n\" % (year,principal))"
   ]
  },
  {
   "cell_type": "markdown",
   "metadata": {},
   "source": [
    "Although these examples have worked with files, the same techniques apply to the standard output and input streams of the interpreter. For example, if you wanted to read user input interactively, you can read from the file sys.stdin. If you want to write data to the screen, you can write to sys.stdout, which is the same file used to output data produced by the print statement."
   ]
  },
  {
   "cell_type": "code",
   "execution_count": 29,
   "metadata": {},
   "outputs": [
    {
     "name": "stdout",
     "output_type": "stream",
     "text": [
      "Enter your name :"
     ]
    }
   ],
   "source": [
    "import sys\n",
    "sys.stdout.write(\"Enter your name :\")\n",
    "name = sys.stdin.readline()"
   ]
  },
  {
   "cell_type": "markdown",
   "metadata": {},
   "source": [
    "In Python 3, the raw_input() function is called input(), but it works in exactly the same manner. It returns a string. If you want to read integer, convert the input value using int(). int() will throw a ValueError if a non-number input is given."
   ]
  },
  {
   "cell_type": "code",
   "execution_count": 31,
   "metadata": {
    "scrolled": true
   },
   "outputs": [
    {
     "name": "stdout",
     "output_type": "stream",
     "text": [
      "Enter your name :aditya\n"
     ]
    }
   ],
   "source": [
    "name = input(\"Enter your name :\")"
   ]
  },
  {
   "cell_type": "code",
   "execution_count": 10,
   "metadata": {},
   "outputs": [
    {
     "name": "stdout",
     "output_type": "stream",
     "text": [
      "hola\n"
     ]
    },
    {
     "ename": "ValueError",
     "evalue": "invalid literal for int() with base 10: 'hola'",
     "output_type": "error",
     "traceback": [
      "\u001b[0;31m---------------------------------------------------------------------------\u001b[0m",
      "\u001b[0;31mValueError\u001b[0m                                Traceback (most recent call last)",
      "\u001b[0;32m<ipython-input-10-b18148c418c0>\u001b[0m in \u001b[0;36m<module>\u001b[0;34m\u001b[0m\n\u001b[0;32m----> 1\u001b[0;31m \u001b[0mx\u001b[0m \u001b[0;34m=\u001b[0m \u001b[0mint\u001b[0m\u001b[0;34m(\u001b[0m\u001b[0minput\u001b[0m\u001b[0;34m(\u001b[0m\u001b[0;34m)\u001b[0m\u001b[0;34m)\u001b[0m\u001b[0;34m\u001b[0m\u001b[0;34m\u001b[0m\u001b[0m\n\u001b[0m",
      "\u001b[0;31mValueError\u001b[0m: invalid literal for int() with base 10: 'hola'"
     ]
    }
   ],
   "source": [
    "x = int(input())"
   ]
  },
  {
   "cell_type": "markdown",
   "metadata": {},
   "source": [
    "Identifiers starting or ending with underscores often have special meanings. For example, identifiers starting with a single underscore such as _foo are not imported by the from module import * statement. Identifiers with leading and trailing double underscores such as __init__ are reserved for special methods, and identifiers with leading double underscores such as __bar are used to implement private class members."
   ]
  },
  {
   "cell_type": "markdown",
   "metadata": {},
   "source": [
    "**Type conversions**\n",
    "\n",
    "int(a,base) : This function converts any data type to integer. ‘Base’ specifies the base in which string is if data type is string  \n",
    "float() : This function is used to convert any data type to a floating point number  \n",
    "ord() : This function is used to convert a character to integer  \n",
    "hex() : This function is to convert integer to hexadecimal string  \n",
    "oct() : This function is to convert integer to octal string  \n",
    "tuple() : This function is used to convert to a tuple  \n",
    "set() : This function returns the type after converting to set  \n",
    "list() : This function is used to convert any data type to a list type  \n",
    "dict() : This function is used to convert a tuple of order (key,value) into a dictionary  \n",
    "str() : Used to convert integer into a string  \n",
    "complex(real,imag) : This function converts real numbers to complex(real,imag) number  "
   ]
  },
  {
   "cell_type": "markdown",
   "metadata": {},
   "source": [
    "# Python Lists"
   ]
  },
  {
   "cell_type": "markdown",
   "metadata": {},
   "source": [
    "Lists are sequences of arbitrary objects.You create a list by enclosing values in square brackets, as follows. Lists can contain any kind of Python object, including other lists. The built-in function list(s) converts any iterable type to a list. If s is already a list, this function constructs a new list that’s a shallow copy of s. The s.append(x) method appends a new element, x, to the end of the list.The s.index(x) method searches the list for the first occurrence of x. If no such element is found, a ValueError exception is raised. Similarly, the s.remove(x) method removes the first occurrence of x from the list or raises ValueError if no such item exists. The s.extend(t) method extends the list s by appending the elements in sequence t.\n",
    "\n",
    "Lists supports many methods like append, extend, count, index, insert, pop, remove, reverse, sort. The built-in function list(s) converts any iterable type to a list. If s is already a list, this function constructs a new list that’s a shallow copy of s. The s.append(x) method appends a new element, x, to the end of the list.The s.index(x) method searches the list for the first occurrence of x. If no such element is found, a ValueError exception is raised. Similarly, the s.remove(x) method removes the first occurrence of x from the list or raises ValueError if no such item exists. The s.extend(t) method extends the list s by appending the elements in sequence t.\n",
    "\n",
    "![title](http://i.ibb.co/k2KrRP8/listmethods.png)"
   ]
  },
  {
   "cell_type": "code",
   "execution_count": 39,
   "metadata": {},
   "outputs": [],
   "source": [
    "mylist = [ \"Dave\", \"Mark\", \"Ann\", \"Phil\" ]"
   ]
  },
  {
   "cell_type": "code",
   "execution_count": 40,
   "metadata": {},
   "outputs": [
    {
     "name": "stdout",
     "output_type": "stream",
     "text": [
      "[2, 3, 5, 7, 11, 13, 17]\n"
     ]
    }
   ],
   "source": [
    "mylist = [2,3,5,7,11,13]\n",
    "mylist.append(17)\n",
    "print(mylist)\n",
    "\n",
    "#List assignment index out of range exception\n",
    "#mylist[7]=10"
   ]
  },
  {
   "cell_type": "markdown",
   "metadata": {},
   "source": [
    "**Lists have a 0 based index. But when you go below 0, python again goes to the end of the list. But you can wrap around the list only once.**"
   ]
  },
  {
   "cell_type": "code",
   "execution_count": 3,
   "metadata": {},
   "outputs": [
    {
     "data": {
      "text/plain": [
       "13"
      ]
     },
     "execution_count": 3,
     "metadata": {},
     "output_type": "execute_result"
    }
   ],
   "source": [
    "mylist[-2]"
   ]
  },
  {
   "cell_type": "code",
   "execution_count": 4,
   "metadata": {},
   "outputs": [
    {
     "name": "stdout",
     "output_type": "stream",
     "text": [
      "[5, 7, 11]\n",
      "[2, 3, 5, 7, 11]\n",
      "[11, 13, 17]\n"
     ]
    }
   ],
   "source": [
    "print(mylist[2:5])\n",
    "print(mylist[:5]) #Slice index 0 to 5\n",
    "print(mylist[4:]) #Slice from 4(inclusive) to the end of the list\n",
    "\n",
    "test_list = mylist[:] #Copy the list and return a new one"
   ]
  },
  {
   "cell_type": "markdown",
   "metadata": {},
   "source": [
    "**You can also replace a range within a list**"
   ]
  },
  {
   "cell_type": "code",
   "execution_count": 5,
   "metadata": {},
   "outputs": [
    {
     "name": "stdout",
     "output_type": "stream",
     "text": [
      "[2, 3, 'python', 'java', 'c++', 11, 13, 17]\n",
      "[2, 3, 'java', 'c++', 11, 13, 17]\n"
     ]
    }
   ],
   "source": [
    "#Slice assignment. Replace a part of the list with a new list\n",
    "mylist[2:4] = [\"python\", \"java\",\"c++\"]\n",
    "print(mylist)\n",
    "\n",
    "#Deleting item at a particular location\n",
    "del mylist[2]\n",
    "print(mylist)"
   ]
  },
  {
   "cell_type": "markdown",
   "metadata": {},
   "source": [
    "**You can slice a list by using [x:y]. It will return a new list starting from element with index x upto element with index y-1**"
   ]
  },
  {
   "cell_type": "code",
   "execution_count": 6,
   "metadata": {},
   "outputs": [
    {
     "data": {
      "text/plain": [
       "[1, 2, 3, 'a', 'b', 'c']"
      ]
     },
     "execution_count": 6,
     "metadata": {},
     "output_type": "execute_result"
    }
   ],
   "source": [
    "#Concatenation\n",
    "[1,2,3] + ['a','b','c']"
   ]
  },
  {
   "cell_type": "code",
   "execution_count": 7,
   "metadata": {},
   "outputs": [
    {
     "name": "stdout",
     "output_type": "stream",
     "text": [
      "[2, 2, 2, 2]\n",
      "['a', 'b', 'a', 'b', 'a', 'b']\n"
     ]
    }
   ],
   "source": [
    "#Repetition\n",
    "print([2]*4)\n",
    "print([\"a\",\"b\"]*3)"
   ]
  },
  {
   "cell_type": "code",
   "execution_count": 8,
   "metadata": {},
   "outputs": [
    {
     "data": {
      "text/plain": [
       "True"
      ]
     },
     "execution_count": 8,
     "metadata": {},
     "output_type": "execute_result"
    }
   ],
   "source": [
    "#Membership\n",
    "\"aditya\" in [\"hello\",\"aditya\",2.4,\"world\"]"
   ]
  },
  {
   "cell_type": "markdown",
   "metadata": {},
   "source": [
    "# Builtin List Functions"
   ]
  },
  {
   "cell_type": "code",
   "execution_count": 9,
   "metadata": {},
   "outputs": [
    {
     "name": "stdout",
     "output_type": "stream",
     "text": [
      "3\n",
      "3\n",
      "singh\n"
     ]
    }
   ],
   "source": [
    "print(len([2,3,4]))\n",
    "print(max([1,2,3,-4,-5]))\n",
    "print(max([\"aditya\",\"singh\",\"c\"]))\n",
    "# max/min should all be strings or numbers, otherwise it will throw an error"
   ]
  },
  {
   "cell_type": "code",
   "execution_count": 10,
   "metadata": {
    "scrolled": false
   },
   "outputs": [
    {
     "name": "stdout",
     "output_type": "stream",
     "text": [
      "[0, 2, 3, 3, 5, 5, 6, 8, 8]\n",
      "[6, 8, 2, 5, 3, 8, 3, 5, 0]\n",
      "[8, 8, 6, 5, 5, 3, 3, 2, 0]\n"
     ]
    }
   ],
   "source": [
    "k = [6,8,2,5,3,8,3,5,0]\n",
    "#Returns a new list with sorted items. Unlike the sort() list method which sorts the list in-place\n",
    "print(sorted(k))\n",
    "print(k)\n",
    "print(sorted(k, reverse=True))"
   ]
  },
  {
   "cell_type": "code",
   "execution_count": 15,
   "metadata": {
    "scrolled": true
   },
   "outputs": [
    {
     "name": "stdout",
     "output_type": "stream",
     "text": [
      "The list in sorted order is : \n",
      "1 1 2 3 3 5 6 \r\n",
      "The list in sorted order (without duplicates) is : \n",
      "1 2 3 5 6 "
     ]
    }
   ],
   "source": [
    "# python code to demonstrate working of sorted() \n",
    "\n",
    "# initializing list \n",
    "lis = [ 1 , 3, 5, 6, 2, 1, 3 ] \n",
    "\n",
    "# using sorted() to print the list in sorted order \n",
    "print (\"The list in sorted order is : \") \n",
    "for i in sorted(lis) : \n",
    "    print (i,end=\" \") \n",
    "    \n",
    "print (\"\\r\") \n",
    "    \n",
    "# using sorted() and set() to print the list in sorted order \n",
    "# use of set() removes duplicates. \n",
    "print (\"The list in sorted order (without duplicates) is : \") \n",
    "for i in sorted(set(lis)) : \n",
    "    print (i,end=\" \") "
   ]
  },
  {
   "cell_type": "markdown",
   "metadata": {},
   "source": [
    "Using reversed(): reversed() is used to print the values of container in the descending order as declared."
   ]
  },
  {
   "cell_type": "code",
   "execution_count": 16,
   "metadata": {},
   "outputs": [
    {
     "name": "stdout",
     "output_type": "stream",
     "text": [
      "The list in reversed order is : \n",
      "3 1 2 6 5 3 1 "
     ]
    }
   ],
   "source": [
    "# python code to demonstrate working of reversed() \n",
    "\n",
    "# initializing list \n",
    "lis = [ 1 , 3, 5, 6, 2, 1, 3 ] \n",
    "\n",
    "\n",
    "# using revered() to print the list in reversed order \n",
    "print (\"The list in reversed order is : \") \n",
    "for i in reversed(lis) : \n",
    "    print (i,end=\" \")"
   ]
  },
  {
   "cell_type": "markdown",
   "metadata": {},
   "source": [
    "For more complex custom sorting, sorted() takes an optional \"key=\" specifying a \"key\" function that transforms each element before comparison. The key function takes in 1 value and returns 1 value, and the returned \"proxy\" value is used for the comparisons within the sort. For example with a list of strings, specifying key=len (the built in len() function) sorts the strings by length, from shortest to longest. The sort calls len() for each string to get the list of proxy length values, and then sorts with those proxy values."
   ]
  },
  {
   "cell_type": "code",
   "execution_count": 11,
   "metadata": {},
   "outputs": [
    {
     "name": "stdout",
     "output_type": "stream",
     "text": [
      "['d', 'bb', 'ccc', 'aaaa']\n"
     ]
    }
   ],
   "source": [
    "strs = ['ccc', 'aaaa', 'd', 'bb']\n",
    "print(sorted(strs, key=len))"
   ]
  },
  {
   "cell_type": "markdown",
   "metadata": {},
   "source": [
    "![title](https://developers.google.com/edu/python/images/sorted-key.png)"
   ]
  },
  {
   "cell_type": "code",
   "execution_count": 12,
   "metadata": {},
   "outputs": [
    {
     "name": "stdout",
     "output_type": "stream",
     "text": [
      "4\n"
     ]
    }
   ],
   "source": [
    "#Max and min method similar to sort - list must have objects of same type\n",
    "\n",
    "print(min([4,5,6,7]))\n",
    "\n",
    "#Will throw exception\n",
    "#print(max([4,8,\"two\"]))"
   ]
  },
  {
   "cell_type": "code",
   "execution_count": 4,
   "metadata": {
    "scrolled": true
   },
   "outputs": [
    {
     "name": "stdout",
     "output_type": "stream",
     "text": [
      "[7, 6, 5, 4, 3, 2, 1]\n"
     ]
    }
   ],
   "source": [
    "#Reverse the list in-place\n",
    "testlist = [1,2,3,4,5,6,7]\n",
    "testlist.reverse()\n",
    "print(testlist)"
   ]
  },
  {
   "cell_type": "markdown",
   "metadata": {},
   "source": [
    "# List Methods"
   ]
  },
  {
   "cell_type": "code",
   "execution_count": 13,
   "metadata": {},
   "outputs": [
    {
     "name": "stdout",
     "output_type": "stream",
     "text": [
      "[2, 3, 4, [4, 5]]\n",
      "[2, 3, 4, 4, 5]\n"
     ]
    }
   ],
   "source": [
    "#append() vs extend()\n",
    "lista = [2,3,4]\n",
    "lista.append([4,5])\n",
    "print(lista)\n",
    "\n",
    "lista = [2,3,4]\n",
    "lista.extend([4,5])\n",
    "print(lista)"
   ]
  },
  {
   "cell_type": "code",
   "execution_count": 14,
   "metadata": {
    "scrolled": false
   },
   "outputs": [
    {
     "name": "stdout",
     "output_type": "stream",
     "text": [
      "[2, 3, 'java', 'c++', 11, 13, 17]\n",
      "[2, 3, 'java', 'c++', 'new_element', 11, 13, 17]\n",
      "[2, 3, 'java', 'c++', 'new_element', 11, 13, 17, 6, 7]\n"
     ]
    }
   ],
   "source": [
    "print(mylist)\n",
    "#new_element is becomes element at index 4, all elements are pushed to the right. Insert can handle negative indices\n",
    "mylist.insert(4,\"new_element\")\n",
    "print(mylist)\n",
    "\n",
    "#extend is concatenation function similar to + operator\n",
    "mylist.extend([6,7])\n",
    "print(mylist)"
   ]
  },
  {
   "cell_type": "code",
   "execution_count": 15,
   "metadata": {},
   "outputs": [
    {
     "name": "stdout",
     "output_type": "stream",
     "text": [
      "1\n",
      "[2, 3, 'c++', 'new_element', 11, 13, 17, 6, 7]\n"
     ]
    }
   ],
   "source": [
    "#Returns index of the item if it exists, otherwise throws ValueError. \n",
    "#If multiple elements exist, it returns the index first occurrance\n",
    "lista = [\"java\",\"c++\",\"python\",\"perl\",\"golang\",\"javascript\",\"c++\"]\n",
    "print(lista.index(\"c++\"))\n",
    "\n",
    "\n",
    "#Removes the first instance of the element if found, else throws ValueError\n",
    "mylist.remove(\"java\")\n",
    "print(mylist)"
   ]
  },
  {
   "cell_type": "markdown",
   "metadata": {},
   "source": [
    "The s.sort() method sorts the elements of a list and optionally accepts a key function and reverse flag, both of which must be specified as keyword arguments.The key function is a function that is applied to each element prior to comparison during sorting. If given, this function should take a single item as input and return the value that will be used to perform the comparison while sorting. Specifying a key function is useful if you want to perform special kinds of sorting operations such as sorting a list of strings, but with case insensitivity.The s.reverse() method reverses the order of the items in the list. Both the sort() and reverse() methods operate on the list elements in place and return None."
   ]
  },
  {
   "cell_type": "code",
   "execution_count": 16,
   "metadata": {},
   "outputs": [
    {
     "name": "stdout",
     "output_type": "stream",
     "text": [
      "None\n",
      "[0, 2, 3, 4, 5, 5, 7, 7, 8]\n",
      "[8, 7, 7, 5, 5, 4, 3, 2, 0]\n"
     ]
    }
   ],
   "source": [
    "#Sorts the list in place (does not return it)\n",
    "newlist = [4,7,0,2,5,8,3,5,7]\n",
    "#The sort() method returns None. So don't try to use it directly\n",
    "print(newlist.sort())\n",
    "print(newlist)\n",
    "\n",
    "#Reverses the list in place (does not return it)\n",
    "newlist.reverse()\n",
    "print(newlist)"
   ]
  },
  {
   "cell_type": "markdown",
   "metadata": {},
   "source": [
    "The default key method used by sort requires that all items in the list be of comparable types. That means that using the sort method on a list containing both numbers and strings will raise an exception"
   ]
  },
  {
   "cell_type": "code",
   "execution_count": 17,
   "metadata": {},
   "outputs": [
    {
     "name": "stdout",
     "output_type": "stream",
     "text": [
      "5\n",
      "[8, 7, 7, 5, 4, 3, 2, 0]\n",
      "0\n",
      "[8, 7, 7, 5, 4, 3, 2]\n",
      "2\n"
     ]
    }
   ],
   "source": [
    "#Pops the element at the index and returns it.\n",
    "print(newlist.pop(3))\n",
    "print(newlist)\n",
    "\n",
    "print(newlist.pop())\n",
    "print(newlist)\n",
    "\n",
    "#Count returns the number of times a specific element occurs in a list\n",
    "print(newlist.count(7))"
   ]
  },
  {
   "cell_type": "code",
   "execution_count": 18,
   "metadata": {},
   "outputs": [
    {
     "name": "stdout",
     "output_type": "stream",
     "text": [
      "[8, 7, 7, 5, 4, 3, 2]\n",
      "2\n"
     ]
    }
   ],
   "source": [
    "#Create a copy of the list and return the new list\n",
    "copiedlist = newlist.copy()\n",
    "print(copiedlist)\n",
    "\n",
    "#Number of times a given element appears in a list\n",
    "print(copiedlist.count(7))"
   ]
  },
  {
   "cell_type": "code",
   "execution_count": 19,
   "metadata": {},
   "outputs": [
    {
     "name": "stdout",
     "output_type": "stream",
     "text": [
      "True\n",
      "False\n"
     ]
    }
   ],
   "source": [
    "#Check membership\n",
    "\n",
    "print(3 in [4,5,3])\n",
    "print(3 in [\"one\", \"two\", \"three\"])"
   ]
  },
  {
   "cell_type": "markdown",
   "metadata": {},
   "source": [
    "# Strings\n",
    "\n",
    "Strings are also **immutable**. The operators and functions that work with them return new strings derived from the original. The operators (in, +, and * ) and built-in functions (len, max, and min) operate on strings as they do on lists and tuples. Index and slice notation works the same for obtaining elements or slices but can’t be used to\n",
    "add, remove, or replace elements.\n",
    "\n",
    "Strings support many methods - capitalize, center, count, decode, encode, endswith, expandtabs, find, format, index, isalnum, isalpha, isdigit, islower, isspace, istitle, isupper, join, ljust, lower, lstrip, partition, replace, rfind, rindex, rjust, rpartition, rsplit, rstrip, split, splitlines, startswith, strip, swapcase, title, translate, upper, zfill. Although these methods operate on string instances, none of these methods actually modifies the underlying string data. Thus, methods such as s.capitalize(), s.center(), and s.expandtabs() always return a new string as opposed to modifying the string s. Character tests such as s.isalnum() and s.isupper() return True or False if all the characters in the string s satisfy the test. Furthermore, these tests always return False if the length of the string is zero.\n",
    "\n",
    "The s.find(), s.index(), s.rfind(), and s.rindex() methods are used to search s for a substring. All these functions return an integer index to the substring in s. In addition, the find() method returns -1 if the substring isn’t found, whereas the index() method raises a ValueError exception. The s.replace() method is used to replace a substring with replacement text. It is important to emphasize that all of these methods only work with simple substrings. Regular expression pattern matching and searching is handled by functions in the re library module.\n",
    "\n",
    "The s.split() and s.rsplit() methods split a string into a list of fields separated by a delimiter. The s.partition() and s.rpartition() methods search for a separator substring and partition s into three parts corresponding to text before the separator, the separator itself, and text after the separator.\n",
    "\n",
    "Many of the string methods accept optional start and end parameters, which are integer values specifying the starting and ending indices in s. In most cases, these values may be given negative values, in which case the index is taken from the end of the string.\n",
    "\n",
    "The s.format() method is used to perform string formatting. As arguments, it accepts any combination of positional and keyword arguments. Placeholders in s denot- ed by {item} are replaced by the appropriate argument. Positional arguments can be referenced using placeholders such as {0} and {1}. Keyword arguments are referenced using a placeholder with a name such as {name}. Here is an example:"
   ]
  },
  {
   "cell_type": "code",
   "execution_count": 64,
   "metadata": {
    "scrolled": true
   },
   "outputs": [
    {
     "data": {
      "text/plain": [
       "'Your name is Mike and your age is 40'"
      ]
     },
     "execution_count": 64,
     "metadata": {},
     "output_type": "execute_result"
    }
   ],
   "source": [
    "a = \"Your name is {0} and your age is {age}\"\n",
    "a.format(\"Mike\", age=40)"
   ]
  },
  {
   "cell_type": "markdown",
   "metadata": {},
   "source": [
    "![title](https://i.ibb.co/j6Q79PR/strings1.png)\n",
    "![title](https://i.ibb.co/gvCg0Wx/strings2.png)\n",
    "![title](https://i.ibb.co/9WBHhB2/strings3.png)"
   ]
  },
  {
   "cell_type": "markdown",
   "metadata": {},
   "source": [
    "To loop over characters in a string , use the in keyword just like a list\n",
    "\"in\" can also be used to check substring"
   ]
  },
  {
   "cell_type": "code",
   "execution_count": 20,
   "metadata": {
    "scrolled": true
   },
   "outputs": [
    {
     "data": {
      "text/plain": [
       "['the', 'quick', 'brown', 'fox', 'jumps', 'over', 'the', 'lazy', 'dog']"
      ]
     },
     "execution_count": 20,
     "metadata": {},
     "output_type": "execute_result"
    }
   ],
   "source": [
    "x = \"the quick brown fox jumps over the lazy dog\"\n",
    "x.split()"
   ]
  },
  {
   "cell_type": "code",
   "execution_count": 3,
   "metadata": {},
   "outputs": [
    {
     "data": {
      "text/plain": [
       "2"
      ]
     },
     "execution_count": 3,
     "metadata": {},
     "output_type": "execute_result"
    }
   ],
   "source": [
    "# find the index of a \"c\" in a string \"abcde\"\n",
    "\"abcde\".index(\"c\")"
   ]
  },
  {
   "cell_type": "code",
   "execution_count": 97,
   "metadata": {},
   "outputs": [
    {
     "data": {
      "text/plain": [
       "['sdsdgfgdfgdf', 'sdfsdfsdf']"
      ]
     },
     "execution_count": 97,
     "metadata": {},
     "output_type": "execute_result"
    }
   ],
   "source": [
    "y = \"sdsdgfgdfgdf_sdfsdfsdf\"\n",
    "y.split('_')"
   ]
  },
  {
   "cell_type": "code",
   "execution_count": 98,
   "metadata": {},
   "outputs": [
    {
     "data": {
      "text/plain": [
       "'sdsdgfg*g*_s*s*s*'"
      ]
     },
     "execution_count": 98,
     "metadata": {},
     "output_type": "execute_result"
    }
   ],
   "source": [
    "#Returns a new string\n",
    "y.replace('df','*')"
   ]
  },
  {
   "cell_type": "code",
   "execution_count": 100,
   "metadata": {},
   "outputs": [
    {
     "data": {
      "text/plain": [
       "'d'"
      ]
     },
     "execution_count": 100,
     "metadata": {},
     "output_type": "execute_result"
    }
   ],
   "source": [
    "y[3]"
   ]
  },
  {
   "cell_type": "code",
   "execution_count": 102,
   "metadata": {},
   "outputs": [],
   "source": [
    "#Will throw exception because strings are immutable\n",
    "#y[3]=\"k\""
   ]
  },
  {
   "cell_type": "markdown",
   "metadata": {},
   "source": [
    "The [ ] syntax and the len() function actually work on any sequence type -- strings, lists, etc.."
   ]
  },
  {
   "cell_type": "markdown",
   "metadata": {},
   "source": [
    "# Other Common String Methods"
   ]
  },
  {
   "cell_type": "markdown",
   "metadata": {},
   "source": [
    "Check for substrings"
   ]
  },
  {
   "cell_type": "code",
   "execution_count": 7,
   "metadata": {},
   "outputs": [
    {
     "data": {
      "text/plain": [
       "True"
      ]
     },
     "execution_count": 7,
     "metadata": {},
     "output_type": "execute_result"
    }
   ],
   "source": [
    "a = \"jdfksjdfiwjriwejrsdkf\"\n",
    "\"fiw\" in a"
   ]
  },
  {
   "cell_type": "markdown",
   "metadata": {},
   "source": [
    "Strings are stored as sequences of characters indexed by integers, starting at zero.To extract a single character, use the indexing operator s[i] like this:"
   ]
  },
  {
   "cell_type": "code",
   "execution_count": 32,
   "metadata": {},
   "outputs": [],
   "source": [
    "a = \"Hello World\"\n",
    "b = a[4] # b = 'o'"
   ]
  },
  {
   "cell_type": "markdown",
   "metadata": {},
   "source": [
    "To extract a substring, use the slicing operator s[i:j].This extracts all characters from s whose index k is in the range i <= k < j. If either index is omitted, the beginning or end of the string is assumed, respectively:"
   ]
  },
  {
   "cell_type": "code",
   "execution_count": 34,
   "metadata": {},
   "outputs": [],
   "source": [
    "c = a[:5]\n",
    "d = a[6:]\n",
    "e = a[3:8]\n",
    "# c = \"Hello\" # d = \"World\" # e = \"lo Wo\""
   ]
  },
  {
   "cell_type": "markdown",
   "metadata": {},
   "source": [
    "Strings are concatenated with the plus (+) operator:\n",
    "    \n",
    "Python never implicitly interprets the contents of a string as numerical data (i.e., as in other languages such as Perl or PHP). For example, + always concatenates strings:\n",
    "\n",
    "To perform mathematical calculations, strings first have to be converted into a numeric value using a function such as int() or float(). For example:"
   ]
  },
  {
   "cell_type": "code",
   "execution_count": 36,
   "metadata": {},
   "outputs": [],
   "source": [
    "g = a + \" This is a test\"\n",
    "\n",
    "x = \"37\"\n",
    "y = \"42\"\n",
    "z = x + y # z = \"3742\" (String Concatenation)\n",
    "\n",
    "z = int(x) + int(y) # z = 79 (Integer +)"
   ]
  },
  {
   "cell_type": "markdown",
   "metadata": {},
   "source": [
    "Non-string values can be converted into a string representation by using the str(),\n",
    "repr(), or format() function."
   ]
  },
  {
   "cell_type": "code",
   "execution_count": null,
   "metadata": {},
   "outputs": [],
   "source": [
    "s = \"The value of x is \" + str(x)\n",
    "s = \"The value of x is \" + repr(x)\n",
    "s = \"The value of x is \" + format(x,\"4d\")"
   ]
  },
  {
   "cell_type": "code",
   "execution_count": 55,
   "metadata": {},
   "outputs": [
    {
     "name": "stdout",
     "output_type": "stream",
     "text": [
      "  sdfaafserfdsf   \n",
      "  SDFAAFSERFDSF   \n",
      "sdfAAFSERfdsf\n",
      "sdfAAFSERfdsf   \n",
      "  sdfAAFSERfdsf   \n"
     ]
    }
   ],
   "source": [
    "k =\"  sdfAAFSERfdsf   \"\n",
    "print(k.lower())\n",
    "print(k.upper())\n",
    "print(k.strip())\n",
    "print(k.lstrip())\n",
    "print(k)"
   ]
  },
  {
   "cell_type": "code",
   "execution_count": 67,
   "metadata": {},
   "outputs": [
    {
     "name": "stdout",
     "output_type": "stream",
     "text": [
      "True\n",
      "True\n",
      "True\n",
      "False\n",
      "False\n",
      "True\n"
     ]
    }
   ],
   "source": [
    "print(\"   \".isspace())\n",
    "print(\"abc\".isalpha())\n",
    "print(\"hello \".islower())\n",
    "print(\"helLo \".islower())\n",
    "print(\"helLo \".isupper())\n",
    "print(\"HELLO\".isupper())"
   ]
  },
  {
   "cell_type": "code",
   "execution_count": 26,
   "metadata": {},
   "outputs": [
    {
     "data": {
      "text/plain": [
       "True"
      ]
     },
     "execution_count": 26,
     "metadata": {},
     "output_type": "execute_result"
    }
   ],
   "source": [
    "m = \"323432\"\n",
    "m.isdigit()"
   ]
  },
  {
   "cell_type": "code",
   "execution_count": 27,
   "metadata": {},
   "outputs": [
    {
     "name": "stdout",
     "output_type": "stream",
     "text": [
      "True\n",
      "True\n"
     ]
    }
   ],
   "source": [
    "print(m.startswith(\"32\"))\n",
    "print(m.endswith(\"32\"))"
   ]
  },
  {
   "cell_type": "code",
   "execution_count": 28,
   "metadata": {},
   "outputs": [
    {
     "name": "stdout",
     "output_type": "stream",
     "text": [
      "-1\n",
      "3\n",
      "334Singh34_\n"
     ]
    }
   ],
   "source": [
    "a = \"334Aditya34_\"\n",
    "print(a.find(\"42\"))\n",
    "print(a.find(\"Aditya\"))\n",
    "print(a.replace(\"Aditya\",\"Singh\"))"
   ]
  },
  {
   "cell_type": "code",
   "execution_count": 29,
   "metadata": {},
   "outputs": [
    {
     "data": {
      "text/plain": [
       "'Aditya_Singh_Hello_World'"
      ]
     },
     "execution_count": 29,
     "metadata": {},
     "output_type": "execute_result"
    }
   ],
   "source": [
    "k = [\"Aditya\",\"Singh\",\"Hello\",\"World\"]\n",
    "g = \"_\"\n",
    "g.join(k)"
   ]
  },
  {
   "cell_type": "code",
   "execution_count": 30,
   "metadata": {},
   "outputs": [
    {
     "data": {
      "text/plain": [
       "'a_b'"
      ]
     },
     "execution_count": 30,
     "metadata": {},
     "output_type": "execute_result"
    }
   ],
   "source": [
    "\"_\".join([\"a\",\"b\"])"
   ]
  },
  {
   "cell_type": "code",
   "execution_count": 31,
   "metadata": {},
   "outputs": [
    {
     "data": {
      "text/plain": [
       "3"
      ]
     },
     "execution_count": 31,
     "metadata": {},
     "output_type": "execute_result"
    }
   ],
   "source": [
    "k=\"fjfhshellosuweyriwriehellodfkdfkhello\"\n",
    "k.count(\"hello\")"
   ]
  },
  {
   "cell_type": "code",
   "execution_count": 32,
   "metadata": {},
   "outputs": [
    {
     "data": {
      "text/plain": [
       "5"
      ]
     },
     "execution_count": 32,
     "metadata": {},
     "output_type": "execute_result"
    }
   ],
   "source": [
    "k.index(\"hello\")"
   ]
  },
  {
   "cell_type": "code",
   "execution_count": 33,
   "metadata": {},
   "outputs": [
    {
     "name": "stdout",
     "output_type": "stream",
     "text": [
      "5\n",
      "-1\n"
     ]
    }
   ],
   "source": [
    "print(k.find(\"hello\"))\n",
    "print(k.find(\"world\"))"
   ]
  },
  {
   "cell_type": "code",
   "execution_count": 34,
   "metadata": {},
   "outputs": [
    {
     "data": {
      "text/plain": [
       "['h', 'e', 'l', 'l', 'o', ',', ' ', 'w', 'o', 'r', 'l', 'd']"
      ]
     },
     "execution_count": 34,
     "metadata": {},
     "output_type": "execute_result"
    }
   ],
   "source": [
    "list(\"hello, world\")"
   ]
  },
  {
   "cell_type": "code",
   "execution_count": 69,
   "metadata": {},
   "outputs": [
    {
     "name": "stdout",
     "output_type": "stream",
     "text": [
      "aytidA\n"
     ]
    }
   ],
   "source": [
    "k = list(\"Aditya\")\n",
    "k.reverse()\n",
    "print(\"\".join(k))"
   ]
  },
  {
   "cell_type": "code",
   "execution_count": 71,
   "metadata": {},
   "outputs": [
    {
     "data": {
      "text/plain": [
       "'Ambrosia is the food of the gods'"
      ]
     },
     "execution_count": 71,
     "metadata": {},
     "output_type": "execute_result"
    }
   ],
   "source": [
    "\"{0} is the {1} of {2}\".format(\"Ambrosia\", \"food\", \"the gods\")"
   ]
  },
  {
   "cell_type": "code",
   "execution_count": 6,
   "metadata": {},
   "outputs": [
    {
     "data": {
      "text/plain": [
       "'Ambrosia is the food of the gods'"
      ]
     },
     "execution_count": 6,
     "metadata": {},
     "output_type": "execute_result"
    }
   ],
   "source": [
    "#printf style formatting\n",
    "\"%s is the %s of %s\" % (\"Ambrosia\", \"food\", \"the gods\")"
   ]
  },
  {
   "cell_type": "markdown",
   "metadata": {},
   "source": [
    "# Tuples\n",
    "\n",
    "Tuples are like lists that can’t be modified—you can think of them as a restricted type of list or as a basic record type. **Tuples are immutable** To create a tuple, just list the values within parenthesis separated by commas. The \"empty\" tuple is just an empty pair of parenthesis. Accessing the elements in a tuple is just like a list -- len(), [ ], for, in, etc. all work the same. Although tuples support most of the same operations as lists (such as indexing, slicing, and concatenation), the contents of a tuple cannot be modified after creation (that is, you cannot replace, delete, or append new elements to an existing tuple).This reflects the fact that a tuple is best viewed as a single object consisting of several parts, not as a collection of distinct objects to which you might insert or remove items. Because there is so much overlap between tuples and lists, some programmers are inclined to ignore tuples altogether and simply use lists because they seem to be more flexible. Although this works, it wastes memory if your program is going to create a large number of small lists (that is, each containing fewer than a dozen items).This is because lists slightly overallocate memory to optimize the performance of operations that add new items. Because tuples are immutable, they use a more compact representation where there is no extra space.\n",
    "\n",
    "To create a size-1 tuple, the lone element must be followed by a comma."
   ]
  },
  {
   "cell_type": "markdown",
   "metadata": {},
   "source": [
    "Tuples and lists are often used together to represent data. For example, this program shows how you might read a file consisting of different columns of data separated by commas. The split() method of strings splits a string into a list of fields separated by the given delimiter character.The resulting portfolio data structure created by this program looks like a two-dimension array of rows and columns. Each row is represented by a tuple and can be accessed as follows:"
   ]
  },
  {
   "cell_type": "code",
   "execution_count": null,
   "metadata": {},
   "outputs": [],
   "source": [
    "# File containing lines of the form \"name,shares,price\" \n",
    "filename = \"portfolio.csv\"\n",
    "portfolio = []\n",
    "for line in open(filename):\n",
    "    fields = line.split(\",\")\n",
    "    name = fields[0]\n",
    "    shares = int(fields[1])\n",
    "    price = float(fields[2])\n",
    "    stock = (name,shares,price)\n",
    "    portfolio.append(stock)\n",
    "#portfolio[0]\n",
    "#('GOOG', 100, 490.10)\n",
    "\n",
    "#Here’s an easy way to loop over all of the records and expand fields into a set of variables:\n",
    "\n",
    "total = 0.0\n",
    "for name, shares, price in portfolio:\n",
    "    total += shares * price"
   ]
  },
  {
   "cell_type": "code",
   "execution_count": 36,
   "metadata": {},
   "outputs": [
    {
     "name": "stdout",
     "output_type": "stream",
     "text": [
      "3\n",
      "hi\n"
     ]
    }
   ],
   "source": [
    "t = (1, 2, 'hi')\n",
    "print(len(t))\n",
    "print(t[2])\n",
    "t = (1, 2, 'bye')\n",
    "\n",
    "#This will throw an error\n",
    "#tuple[2] = 'bye'"
   ]
  },
  {
   "cell_type": "code",
   "execution_count": 37,
   "metadata": {},
   "outputs": [
    {
     "name": "stdout",
     "output_type": "stream",
     "text": [
      "Hello\n",
      "<class 'str'>\n",
      "World\n",
      "<class 'str'>\n"
     ]
    }
   ],
   "source": [
    "(x,y,z) = (\"Hello\",\"World\",\"Python\")\n",
    "print(x)\n",
    "print(type(x))\n",
    "\n",
    "#Works for lists too\n",
    "[a,b,c]=[\"Hello\",\"World\",\"Python\"]\n",
    "print(b)\n",
    "print(type(b))\n",
    "\n",
    "#If they are not of the same size, it will throw an error"
   ]
  },
  {
   "cell_type": "code",
   "execution_count": 38,
   "metadata": {},
   "outputs": [
    {
     "name": "stdout",
     "output_type": "stream",
     "text": [
      "2 3\n"
     ]
    }
   ],
   "source": [
    "#Swapping variables\n",
    "var1 = 3\n",
    "var2 = 2\n",
    "var1, var2 = var2, var1\n",
    "print(var1, var2)"
   ]
  },
  {
   "cell_type": "code",
   "execution_count": 39,
   "metadata": {},
   "outputs": [
    {
     "name": "stdout",
     "output_type": "stream",
     "text": [
      "[1, 2, 3, 4]\n",
      "(1, 2, 3, 4)\n"
     ]
    }
   ],
   "source": [
    "#Creating a list from a tuple and tuple from a list\n",
    "print(list((1, 2, 3, 4)))\n",
    "print(tuple([1, 2, 3, 4]))"
   ]
  },
  {
   "cell_type": "markdown",
   "metadata": {},
   "source": [
    "# Packing & Unpacking\n",
    "\n",
    "To make things even more convenient, Python 3 has an extended unpacking feature, allowing an element marked with a * to absorb any number elements not matching the other elements. Again, some examples will make this clearer:\n",
    "\n",
    "--> x = (1, 2, 3, 4)  \n",
    "--> a, b, *c = x  \n",
    "--> a, b, c  \n",
    "(1, 2, [3, 4])  \n",
    "--> a, *b, c = x  \n",
    "--> a, b, c  \n",
    "(1, [2, 3], 4)  \n",
    "--> *a, b, c = x  \n",
    "--> a, b, c  \n",
    "([1, 2], 3, 4)  \n",
    "--> a, b, c, d, *e = x  \n",
    "--> a, b, c, d, e  \n",
    "(1, 2, 3, 4, [])  \n",
    "  \n",
    "Note that the starred element receives all the surplus items as a list, and that if there are no surplus elements, it receives an empty list. \n",
    "  \n",
    "Packing and unpacking can be performed using list delimiters as well:  \n",
    "  \n",
    "--> [a, b] = [1, 2]  \n",
    "--> [c, d] = 3, 4  \n",
    "--> [e, f] = (5, 6)  \n",
    "--> (g, h) = 7, 8  \n",
    "--> i, j = [9, 10]  \n",
    "--> k, l = (11, 12)  \n",
    "--> a  \n",
    "1  \n",
    "--> [b, c, d]  \n",
    "[2, 3, 4]  \n",
    "--> (e, f, g)  \n",
    "(5, 6, 7)  \n",
    "--> h, i, j, k, l  \n",
    "(8, 9, 10, 11, 12)  "
   ]
  },
  {
   "cell_type": "code",
   "execution_count": 13,
   "metadata": {},
   "outputs": [
    {
     "name": "stdout",
     "output_type": "stream",
     "text": [
      "1 2 3 4\n"
     ]
    }
   ],
   "source": [
    "# A sample function that takes 4 arguments \n",
    "# and prints the, \n",
    "def fun(a, b, c, d): \n",
    "    print(a, b, c, d) \n",
    "\n",
    "# Driver Code \n",
    "my_list = [1, 2, 3, 4] \n",
    "\n",
    "# Unpacking list into four arguments \n",
    "fun(*my_list) "
   ]
  },
  {
   "cell_type": "code",
   "execution_count": 14,
   "metadata": {},
   "outputs": [
    {
     "name": "stdout",
     "output_type": "stream",
     "text": [
      "15\n",
      "30\n"
     ]
    }
   ],
   "source": [
    "# A Python program to demonstrate use \n",
    "# of packing \n",
    "\n",
    "# This function uses packing to sum \n",
    "# unknown number of arguments \n",
    "def mySum(*args): \n",
    "    sum = 0\n",
    "    for i in range(0, len(args)): \n",
    "        sum = sum + args[i] \n",
    "    return sum\n",
    "\n",
    "# Driver code \n",
    "print(mySum(1, 2, 3, 4, 5)) \n",
    "print(mySum(10, 20)) "
   ]
  },
  {
   "cell_type": "markdown",
   "metadata": {},
   "source": [
    "# List Comprehensions\n",
    "\n",
    "The syntax is [ expr for var in list ] -- the for var in list looks like a regular for-loop, but without the colon (:). The expr to its left is evaluated once for each element to give the values for the new list. Here is an example with strings, where each string is changed to upper case with '!!!' appended:\n",
    "  \n",
    "new_list = [expression for variable in old_list if expression]  "
   ]
  },
  {
   "cell_type": "code",
   "execution_count": null,
   "metadata": {},
   "outputs": [],
   "source": [
    "# Convert all of the input values from strings to floats \n",
    "fvalues = [float(line) for line in lines]"
   ]
  },
  {
   "cell_type": "code",
   "execution_count": 40,
   "metadata": {
    "scrolled": true
   },
   "outputs": [
    {
     "name": "stdout",
     "output_type": "stream",
     "text": [
      "[1, 4, 9, 16]\n"
     ]
    }
   ],
   "source": [
    "nums = [1, 2, 3, 4]\n",
    "squares = [ n * n for n in nums ]\n",
    "print(squares)"
   ]
  },
  {
   "cell_type": "code",
   "execution_count": 41,
   "metadata": {},
   "outputs": [
    {
     "name": "stdout",
     "output_type": "stream",
     "text": [
      "['HELLO!!!', 'AND!!!', 'GOODBYE!!!']\n"
     ]
    }
   ],
   "source": [
    "strs = ['hello', 'and', 'goodbye']\n",
    "shouting = [ s.upper() + '!!!' for s in strs ]\n",
    "print(shouting)"
   ]
  },
  {
   "cell_type": "markdown",
   "metadata": {},
   "source": [
    "You can add an if test to the right of the for-loop to narrow the result. The if test is evaluated for each element, including only the elements where the test is true."
   ]
  },
  {
   "cell_type": "code",
   "execution_count": 42,
   "metadata": {
    "scrolled": true
   },
   "outputs": [
    {
     "name": "stdout",
     "output_type": "stream",
     "text": [
      "[2, 1]\n"
     ]
    }
   ],
   "source": [
    "nums = [2, 8, 1, 6]\n",
    "small = [ n for n in nums if n <= 2 ]\n",
    "print(small)"
   ]
  },
  {
   "cell_type": "code",
   "execution_count": 3,
   "metadata": {
    "scrolled": true
   },
   "outputs": [
    {
     "data": {
      "text/plain": [
       "[2, 5, 8]"
      ]
     },
     "execution_count": 3,
     "metadata": {},
     "output_type": "execute_result"
    }
   ],
   "source": [
    "M = [\n",
    "    [1,2,3],\n",
    "    [4,5,6],\n",
    "    [7,8,9]\n",
    "]\n",
    "\n",
    "#Get the second column into a list\n",
    "\n",
    "col2 = [row[1] for row in M]\n",
    "col2"
   ]
  },
  {
   "cell_type": "markdown",
   "metadata": {},
   "source": [
    "# Dictionaries\n",
    "\n",
    "A dictionary is an associative array or hash table that contains objects indexed by keys. Strings, numbers, and tuples work as keys, and any type can be a value. Other types may or may not work correctly as keys (strings and tuples work cleanly since they are immutable). Looking up a value which is not in the dict throws a KeyError -- use \"in\" to check if the key is in the dict, or use dict.get(key) which returns the value or None if the key is not present (or get(key, not-found) allows you to specify what value to return in the not-found case).\n",
    "\n",
    "![title](https://i.ibb.co/hRGX14g/dictionarymethods.png)\n",
    "\n",
    "\n",
    "Most of the methods in table are used to manipulate or retrieve the contents of a dictionary.The m.clear() method removes all items.The m.update(b) method updates the current mapping object by inserting all the (key,value) pairs found in the mapping object b.The m.get(k [,v]) method retrieves an object but allows for an optional default value,v, that’s returned if no such key exists.The m.setdefault(k [,v]) method is similar to m.get(), except that in addition to returning v if no object exists, it sets m[k] = v. If v is omitted, it defaults to None. The m.pop() method returns an item from a dictionary and removes it at the same time. The m.popitem() method is used to iteratively destroy the contents of a dictionary.\n",
    "\n",
    "The m.copy() method makes a shallow copy of the items contained in a mapping object and places them in a new mapping object. The m.fromkeys(s [,value]) method creates a new mapping with keys all taken from a sequence s. The type of the resulting mapping will be the same as m. The value associated with all of these keys is set to None unless an alternative value is given with the optional value parameter.The fromkeys() method is defined as a class method, so an alternative way to invoke it would be to use the class name such as dict.fromkeys().\n",
    "\n",
    "The m.items() method returns a sequence containing (key,value) pairs.The m.keys() method returns a sequence with all the key values, and the m.values() method returns a sequence with all the values. For these methods, you should assume that the only safe operation that can be performed on the result is iteration. In Python 2 the result is a list, but in Python 3 the result is an iterator that iterates over the current contents of the mapping. If you write code that simply assumes it is an iterator, it will be generally compatible with both versions of Python. If you need to store the result of these methods as data, make a copy by storing it in a list. For example, items = list(m.items()). If you simply want a list of all keys, use keys = list(m)."
   ]
  },
  {
   "cell_type": "code",
   "execution_count": 53,
   "metadata": {},
   "outputs": [
    {
     "name": "stdout",
     "output_type": "stream",
     "text": [
      "<class 'dict'>\n",
      "2\n",
      "hello\n"
     ]
    }
   ],
   "source": [
    "mydict = {}\n",
    "mydict = dict()\n",
    "print(type(mydict))\n",
    "\n",
    "mydict = {\"hello\":2, \"world\":1}\n",
    "print(mydict[\"hello\"])\n",
    "\n",
    "mynewdict = {2:\"hello\",3:\"world\"}\n",
    "print(mynewdict[2])"
   ]
  },
  {
   "cell_type": "markdown",
   "metadata": {},
   "source": [
    "Dictionary membership is tested with the in operator, as in the following example:"
   ]
  },
  {
   "cell_type": "code",
   "execution_count": 54,
   "metadata": {},
   "outputs": [
    {
     "name": "stdout",
     "output_type": "stream",
     "text": [
      "0.0\n"
     ]
    }
   ],
   "source": [
    "prices = {\n",
    "    \"GOOG\" : 490.10,\n",
    "    \"AAPL\" : 123.50,\n",
    "    \"IBM\" : 91.50,\n",
    "    \"MSFT\" : 52.13\n",
    "}\n",
    "\n",
    "if \"SCOX\" in prices:\n",
    "    p = prices[\"SCOX\"]\n",
    "else:\n",
    "    p = 0.0\n",
    "\n",
    "#This particular sequence of steps can also be performed more compactly as follows:\n",
    "#p = prices.get(\"SCOX\",0.0)\n",
    "\n",
    "print(p)"
   ]
  },
  {
   "cell_type": "code",
   "execution_count": 57,
   "metadata": {},
   "outputs": [
    {
     "name": "stdout",
     "output_type": "stream",
     "text": [
      "{2: 'aditya', 3: 'world'}\n"
     ]
    }
   ],
   "source": [
    "mynewdict[2]=\"aditya\"\n",
    "print(mynewdict)"
   ]
  },
  {
   "cell_type": "code",
   "execution_count": 58,
   "metadata": {},
   "outputs": [
    {
     "data": {
      "text/plain": [
       "dict_keys([2, 3])"
      ]
     },
     "execution_count": 58,
     "metadata": {},
     "output_type": "execute_result"
    }
   ],
   "source": [
    "mynewdict.keys()"
   ]
  },
  {
   "cell_type": "code",
   "execution_count": 59,
   "metadata": {},
   "outputs": [
    {
     "name": "stdout",
     "output_type": "stream",
     "text": [
      "[2, 3]\n"
     ]
    }
   ],
   "source": [
    "#To obtain a list of dictionary keys, convert a dictionary to a list:\n",
    "syms = list(mynewdict)\n",
    "print(syms)"
   ]
  },
  {
   "cell_type": "code",
   "execution_count": 46,
   "metadata": {},
   "outputs": [
    {
     "data": {
      "text/plain": [
       "dict_values(['aditya', 'world'])"
      ]
     },
     "execution_count": 46,
     "metadata": {},
     "output_type": "execute_result"
    }
   ],
   "source": [
    "mynewdict.values()"
   ]
  },
  {
   "cell_type": "markdown",
   "metadata": {},
   "source": [
    "Use the del statement to remove an element of a dictionary:\n",
    "\n",
    "del prices[\"MSFT\"]"
   ]
  },
  {
   "cell_type": "code",
   "execution_count": 81,
   "metadata": {},
   "outputs": [
    {
     "name": "stdout",
     "output_type": "stream",
     "text": [
      "(2, 'hello')\n",
      "(3, 'world')\n"
     ]
    }
   ],
   "source": [
    "#items() returns a iterable which returns a list of key-value tuples\n",
    "for item in mynewdict.items():\n",
    "    print(item)"
   ]
  },
  {
   "cell_type": "code",
   "execution_count": 82,
   "metadata": {
    "scrolled": true
   },
   "outputs": [
    {
     "data": {
      "text/plain": [
       "[(2, 'hello'), (3, 'world')]"
      ]
     },
     "execution_count": 82,
     "metadata": {},
     "output_type": "execute_result"
    }
   ],
   "source": [
    "list(mynewdict.items())"
   ]
  },
  {
   "cell_type": "markdown",
   "metadata": {},
   "source": [
    "Note: iteritems() has been removed from the python 3.x it only works in python 2.x.Instead use dict.items().  \n",
    "  \n",
    "Using iteritem(): iteritems() is used to loop through the dictionary printing the dictionary key-value pair sequentially.  \n",
    "  \n",
    "Using items():  items() performs the similar task on dictionary as iteritems() but have certain disadvantages when compared with iteritems(). It is very time consuming. Calling it on large dictionaries consumes quite a lot of time. It takes a lot of memory. Sometimes takes double the memory when called on dictionary."
   ]
  },
  {
   "cell_type": "code",
   "execution_count": 83,
   "metadata": {},
   "outputs": [
    {
     "name": "stdout",
     "output_type": "stream",
     "text": [
      "{3: 'hello', 4: 'world'}\n"
     ]
    }
   ],
   "source": [
    "testdict = {}\n",
    "testdict[3] = \"hello\"\n",
    "testdict[4] = \"world\"\n",
    "print(testdict)"
   ]
  },
  {
   "cell_type": "code",
   "execution_count": 85,
   "metadata": {},
   "outputs": [
    {
     "data": {
      "text/plain": [
       "True"
      ]
     },
     "execution_count": 85,
     "metadata": {},
     "output_type": "execute_result"
    }
   ],
   "source": [
    "#you can test the dictionary for the presence of a key with the in keyword\n",
    "3 in testdict"
   ]
  },
  {
   "cell_type": "code",
   "execution_count": 87,
   "metadata": {},
   "outputs": [
    {
     "data": {
      "text/plain": [
       "'No such key in dictionary'"
      ]
     },
     "execution_count": 87,
     "metadata": {},
     "output_type": "execute_result"
    }
   ],
   "source": [
    "testdict.get(5, \"No such key in dictionary\")"
   ]
  },
  {
   "cell_type": "code",
   "execution_count": 90,
   "metadata": {},
   "outputs": [
    {
     "name": "stdout",
     "output_type": "stream",
     "text": [
      "No translation\n"
     ]
    }
   ],
   "source": [
    "#Similarly, if you want to safely get a key’s value and make sure it’s set to a default \n",
    "#in the dictionary, you can use the setdefault method:\n",
    "print(testdict.setdefault(5, 'No translation'))"
   ]
  },
  {
   "cell_type": "code",
   "execution_count": 92,
   "metadata": {},
   "outputs": [
    {
     "name": "stdout",
     "output_type": "stream",
     "text": [
      "{3: 'hello', 4: 'world', 5: 'No translation'}\n"
     ]
    }
   ],
   "source": [
    "print(testdict)"
   ]
  },
  {
   "cell_type": "markdown",
   "metadata": {},
   "source": [
    "You can obtain a copy of a dictionary using the copy method. This makes a shallow copy of the dictionary. This will likely be all you need in most situations. For dictionaries that contain any modifiable objects as values (that is, lists or other dictionaries), you may want to make a deep copy using the copy.deepcopy function."
   ]
  },
  {
   "cell_type": "code",
   "execution_count": 94,
   "metadata": {},
   "outputs": [
    {
     "name": "stdout",
     "output_type": "stream",
     "text": [
      "{0: 'zero', 1: 'One', 2: 'Two'}\n"
     ]
    }
   ],
   "source": [
    "#The update method updates a first dictionary with all the key/value pairs of a second dictionary. \n",
    "#For keys that are common to both, the values from the second dictionary override those of the first:\n",
    "z = {1: 'One', 2: 'Two'}\n",
    "x = {0: 'zero', 1: 'one'}\n",
    "x.update(z)\n",
    "print(x)"
   ]
  },
  {
   "cell_type": "code",
   "execution_count": 103,
   "metadata": {},
   "outputs": [
    {
     "name": "stdout",
     "output_type": "stream",
     "text": [
      "The word To occurs 1 times in the string\n",
      "The word be occurs 2 times in the string\n",
      "The word or occurs 1 times in the string\n",
      "The word not occurs 1 times in the string\n",
      "The word to occurs 1 times in the string\n"
     ]
    }
   ],
   "source": [
    "#Count the number of times every word occurs in a string\n",
    "sample_string = \"To be or not to be\"\n",
    "occurrences = {}\n",
    "for word in sample_string.split():\n",
    "    occurrences[word] = occurrences.get(word, 0) + 1\n",
    "for word in occurrences:\n",
    "    print(\"The word\", word, \"occurs\", occurrences[word], \"times in the string\")"
   ]
  },
  {
   "cell_type": "markdown",
   "metadata": {},
   "source": [
    "Any Python object that is immutable and hashable can be used as a key to a dictionary.Unfortunately, the requirement that keys be immutable and hashable means that lists can’t be used as dictionary keys. But there are many instances when it would be convenient to have a listlike key. Python solves this difficulty by providing tuples, which are basically immutable lists—they’re created and used similar to lists, except that when you have them, you can’t modify them. But there’s one further restriction: keys must also be hashable, which takes things a step further than just immutable. To be hashable, a value must have a hash value (provided by a __hash__ method) that never changes throughout the life of the value. That means that tuples containing mutable values, although they themselves are immutable, aren’t hashable. Only tuples that don’t contain any mutable objects nested within them are hashable and valid to use as keys for dictionaries.\n",
    "\n",
    "![title](https://preview.ibb.co/frdsjH/Screen_Shot_2018_04_29_at_2_27_36_AM.png)"
   ]
  },
  {
   "cell_type": "code",
   "execution_count": 109,
   "metadata": {},
   "outputs": [
    {
     "name": "stdout",
     "output_type": "stream",
     "text": [
      "{('a', 'b'): 4}\n"
     ]
    }
   ],
   "source": [
    "mydict = {}\n",
    "mydict[(\"a\",\"b\")] = 4\n",
    "\n",
    "# TypeError: unhashable type: 'list'\n",
    "# mydict[(\"b\",[1,2])] = 4\n",
    "\n",
    "print(mydict)"
   ]
  },
  {
   "cell_type": "markdown",
   "metadata": {},
   "source": [
    "You can also use the get method to retrieve the values in a dict. The only difference is that in the get method, you can set a default value. In direct referencing, if the key is not present, the interpreter throws KeyError.\n",
    "\n",
    "print(alphabets.get(1))\n",
    "print(alphabets.get(2, \"default\"))\n",
    "\n",
    "**Looping over a dictionary items\n",
    "\n",
    "for key, value in person1_information.items():"
   ]
  },
  {
   "cell_type": "code",
   "execution_count": 6,
   "metadata": {},
   "outputs": [],
   "source": [
    "#Delete items from a dictionary\n",
    "\n",
    "#initialise a dictionary with the keys “city”, “name”, “food”\n",
    "\n",
    "person1_information = {'city': 'San Francisco', 'name': 'Sam', \"food\": \"shrimps\"}\n",
    "del person1_information[\"food\"]"
   ]
  },
  {
   "cell_type": "markdown",
   "metadata": {},
   "source": [
    "A disadvantage is that it gives KeyError if you try to delete a nonexistent key. So, instead of the del statement you can use the pop method. This method takes in the key as the parameter. As a second argument, you can pass the default value if the key is not present.\n",
    "\n",
    "print(person1_information.pop(\"food\", None))\n",
    "\n",
    "You can test the presence of a key using the has_key method.\n",
    "\n",
    "A dictionary in Python doesn't preserve the order."
   ]
  },
  {
   "cell_type": "markdown",
   "metadata": {},
   "source": [
    "# Dictionary comprehension"
   ]
  },
  {
   "cell_type": "markdown",
   "metadata": {},
   "source": [
    "new_dict = {expression:expression for variable in list if expression}"
   ]
  },
  {
   "cell_type": "markdown",
   "metadata": {},
   "source": [
    "# Sets\n",
    "\n",
    "\n",
    "https://www.hackerearth.com/practice/python/working-with-data/set/tutorial/\n",
    "\n",
    "\n",
    "A set in Python is an unordered collection of objects used in situations where membership and uniqueness in the set are main things you need to know about that object. Just as with dictionary keys, the items in a set must be immutable and hashable. This means that ints, floats, strings, and tuples can be members of a set, but lists, dictionaries, and sets themselves can’t. Unlike sequences, sets provide no indexing or slicing operations.They are also unlike dictionaries in that there are no key values associated with the objects.The items placed into a set must be immutable.Two different set types are available: set is a mutable set, and frozenset is an immutable set. Both set() and frozenset() populate the set by iterating over the supplied argument. The s.difference(t), s.intersection(t), s.symmetric_difference(t), and s.union(t) methods provide the standard mathematical operations on sets.The returned value has the same type as s (set or frozenset).The parameter t can be any Python object that supports iteration.This includes sets, lists, tuples, and strings.\n",
    "\n",
    "![title](https://i.ibb.co/6WtgcFP/set.png)\n",
    "  \n",
    "In addition to the operations that apply to collections in general, like in, len, and being able to use a for loop to iterate over all of their elements, sets also have several set-specific operations:\n",
    "\n",
    "Sets support a standard collection of operations, including union, intersection, difference, and symmetric difference. Here’s an example:\n",
    "\n",
    "a = t | s #Union of t and s  \n",
    "b = t & s #Intersection of t and s  \n",
    "c = t – s #Set difference (items in t, but not in s)  \n",
    "d = t ^ s #Symmetric difference (items in t or s, but not both)  "
   ]
  },
  {
   "cell_type": "code",
   "execution_count": 2,
   "metadata": {},
   "outputs": [],
   "source": [
    "myset = {4,6,7,7,7,8}"
   ]
  },
  {
   "cell_type": "code",
   "execution_count": 3,
   "metadata": {},
   "outputs": [
    {
     "data": {
      "text/plain": [
       "{4, 6, 7, 8}"
      ]
     },
     "execution_count": 3,
     "metadata": {},
     "output_type": "execute_result"
    }
   ],
   "source": [
    "myset"
   ]
  },
  {
   "cell_type": "code",
   "execution_count": 5,
   "metadata": {},
   "outputs": [
    {
     "name": "stdout",
     "output_type": "stream",
     "text": [
      "<class 'set'>\n"
     ]
    }
   ],
   "source": [
    "print(type(myset))"
   ]
  },
  {
   "cell_type": "code",
   "execution_count": 49,
   "metadata": {},
   "outputs": [
    {
     "name": "stdout",
     "output_type": "stream",
     "text": [
      "{3, 4, 5, 7, 8}\n",
      "<class 'set'>\n"
     ]
    }
   ],
   "source": [
    "#When a sequence is made into a set, duplicates are removed\n",
    "x = set([4,4,7,3,5,8])\n",
    "print(x)\n",
    "print(type(x))"
   ]
  },
  {
   "cell_type": "code",
   "execution_count": 52,
   "metadata": {
    "scrolled": true
   },
   "outputs": [
    {
     "name": "stdout",
     "output_type": "stream",
     "text": [
      "{3, 4, 5, 7, 8, 'world', 'hello'}\n",
      "{3, 4, 5, 8, 'world', 'hello'}\n",
      "False\n",
      "True\n"
     ]
    }
   ],
   "source": [
    "x.add(\"hello\")\n",
    "x.update([\"world\",\"aditya\"])\n",
    "x.remove(\"aditya\")\n",
    "print(x)\n",
    "x.remove(7)\n",
    "print(x)\n",
    "print(1 in x)\n",
    "print(4 in x)"
   ]
  },
  {
   "cell_type": "code",
   "execution_count": 50,
   "metadata": {
    "scrolled": false
   },
   "outputs": [
    {
     "name": "stdout",
     "output_type": "stream",
     "text": [
      "{3, 4, 5, 6, 7, 8, 9}\n",
      "{6}\n",
      "{3, 4, 5, 7, 8, 9}\n"
     ]
    }
   ],
   "source": [
    "x = set([3,4,5,6])\n",
    "y = set([6,7,8,9])\n",
    "\n",
    "#Set Union\n",
    "print(x | y)\n",
    "\n",
    "#Set Intersection\n",
    "print(x & y)\n",
    "\n",
    "# Symmetric difference—that is, elements that are in one set or the other but not both.\n",
    "print(x ^ y)"
   ]
  },
  {
   "cell_type": "markdown",
   "metadata": {},
   "source": [
    "# Frozensets\n",
    "\n",
    "Because sets aren’t immutable and hashable, they can’t belong to other sets. To remedy that situation there is another set type, frozenset, which is just like a set but can’t be changed after creation. Because frozensets are immutable and hashable, they can be members of other sets:"
   ]
  },
  {
   "cell_type": "code",
   "execution_count": 51,
   "metadata": {},
   "outputs": [
    {
     "name": "stdout",
     "output_type": "stream",
     "text": [
      "frozenset({3, 4, 5, 6})\n"
     ]
    }
   ],
   "source": [
    "z = frozenset([3,4,5,6])\n",
    "print(z)"
   ]
  },
  {
   "cell_type": "code",
   "execution_count": 52,
   "metadata": {},
   "outputs": [],
   "source": [
    "#Will throw exceptions because they are immutable\n",
    "#z.add(8)\n",
    "#z.remove(4)"
   ]
  }
 ],
 "metadata": {
  "kernelspec": {
   "display_name": "Python 3",
   "language": "python",
   "name": "python3"
  },
  "language_info": {
   "codemirror_mode": {
    "name": "ipython",
    "version": 3
   },
   "file_extension": ".py",
   "mimetype": "text/x-python",
   "name": "python",
   "nbconvert_exporter": "python",
   "pygments_lexer": "ipython3",
   "version": "3.7.3"
  }
 },
 "nbformat": 4,
 "nbformat_minor": 2
}
