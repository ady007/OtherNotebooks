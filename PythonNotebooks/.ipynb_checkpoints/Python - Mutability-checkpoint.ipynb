{
 "cells": [
  {
   "cell_type": "markdown",
   "metadata": {},
   "source": [
    "# Mutability\n",
    "\n",
    "**Mutable objects:**  \n",
    "list  \n",
    "dict  \n",
    "set  \n",
    "byte array  \n",
    "  \n",
    "**Immutable objects:**  \n",
    "int  \n",
    "float  \n",
    "complex  \n",
    "string  \n",
    "tuple  \n",
    "frozen set  \n",
    "bytes  \n",
    "range  \n",
    "bool  \n",
    "\n",
    "Custom classes are generally mutable. To simulate immutability in a class, one should override attribute setting and deletion to raise exceptions."
   ]
  },
  {
   "cell_type": "code",
   "execution_count": 1,
   "metadata": {},
   "outputs": [
    {
     "name": "stdout",
     "output_type": "stream",
     "text": [
      "4410180192\n",
      "4410179688\n"
     ]
    }
   ],
   "source": [
    "a = \"hello\"\n",
    "print(id(a))\n",
    "\n",
    "a = \"world\"\n",
    "print(id(a))"
   ]
  },
  {
   "cell_type": "code",
   "execution_count": 6,
   "metadata": {},
   "outputs": [
    {
     "name": "stdout",
     "output_type": "stream",
     "text": [
      "4410528584\n",
      "4410528584\n"
     ]
    }
   ],
   "source": [
    "a = [2,3,4]\n",
    "print(id(a))\n",
    "\n",
    "a.append(7)\n",
    "print(id(a))"
   ]
  }
 ],
 "metadata": {
  "kernelspec": {
   "display_name": "Python 3",
   "language": "python",
   "name": "python3"
  },
  "language_info": {
   "codemirror_mode": {
    "name": "ipython",
    "version": 3
   },
   "file_extension": ".py",
   "mimetype": "text/x-python",
   "name": "python",
   "nbconvert_exporter": "python",
   "pygments_lexer": "ipython3",
   "version": "3.7.3"
  }
 },
 "nbformat": 4,
 "nbformat_minor": 2
}
