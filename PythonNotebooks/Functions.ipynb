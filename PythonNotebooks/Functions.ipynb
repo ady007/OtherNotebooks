{
 "cells": [
  {
   "cell_type": "markdown",
   "metadata": {},
   "source": [
    "Functions are defined with the def statement. The order and number of arguments must match those given in the function definition. If a mismatch exists, a TypeError exception is raised. When a function defines a parameter with a default value, that parameter and all the parameters that follow are optional. If values are not assigned to all the optional parame- ters in the function definition, a SyntaxError exception is raised.\n",
    "\n",
    "Default parameter values are always set to the objects that were supplied as values when the function was defined. "
   ]
  },
  {
   "cell_type": "code",
   "execution_count": 2,
   "metadata": {},
   "outputs": [
    {
     "data": {
      "text/plain": [
       "10"
      ]
     },
     "execution_count": 2,
     "metadata": {},
     "output_type": "execute_result"
    }
   ],
   "source": [
    "a = 10\n",
    "def foo(x=a):\n",
    "    return x\n",
    "\n",
    "a = 5 # Reassign 'a'.\n",
    "foo()"
   ]
  },
  {
   "cell_type": "markdown",
   "metadata": {},
   "source": [
    "In addition, the use of mutable objects as default values may lead to unintended behavior"
   ]
  },
  {
   "cell_type": "code",
   "execution_count": 3,
   "metadata": {},
   "outputs": [
    {
     "data": {
      "text/plain": [
       "[1, 2, 3]"
      ]
     },
     "execution_count": 3,
     "metadata": {},
     "output_type": "execute_result"
    }
   ],
   "source": [
    "def foo(x, items=[]):\n",
    "    items.append(x)\n",
    "    return items\n",
    "\n",
    "foo(1)\n",
    "foo(2)\n",
    "foo(3)"
   ]
  },
  {
   "cell_type": "markdown",
   "metadata": {},
   "source": [
    "Notice how the default argument retains modifications made from previous invocations. To prevent this, it is better to use None and add a check as follows:"
   ]
  },
  {
   "cell_type": "code",
   "execution_count": 4,
   "metadata": {},
   "outputs": [],
   "source": [
    "def foo(x, items=None):\n",
    "    if items is None:\n",
    "        items = []\n",
    "    items.append(x)\n",
    "    return items"
   ]
  },
  {
   "cell_type": "markdown",
   "metadata": {},
   "source": [
    "A function can accept a variable number of parameters if an asterisk (*) is added to the last parameter name. In this case, all the remaining arguments are placed into the args variable as a tuple. To pass a tuple args to a function as if they were parameters, the *args syntax can be used in a function call.\n",
    "\n",
    "If the last argument of a function definition begins with \\**, all the additional keyword arguments (those that don’t match any of the other parameter names) are placed in a dictionary and passed to the function.This can be a useful way to write functions that accept a large number of potentially open-ended configuration options that would be too unwieldy to list as parameters."
   ]
  },
  {
   "cell_type": "code",
   "execution_count": null,
   "metadata": {},
   "outputs": [],
   "source": [
    "def fprintf(file, fmt, *args):\n",
    "    file.write(fmt % args)\n",
    "\n",
    "# Use fprintf. args gets (42,\"hello world\", 3.45) \n",
    "fprintf(out,\"%d %s %f\", 42, \"hello world\", 3.45)"
   ]
  },
  {
   "cell_type": "markdown",
   "metadata": {},
   "source": [
    "Function arguments can also be supplied by explicitly naming each parameter and spec- ifying a value.These are known as keyword arguments.\n",
    "\n",
    "def foo(w,x,y,z):\n",
    "    statements\n",
    "\n",
    "Keyword argument invocation \n",
    "\n",
    "foo(x=3, y=22, w='hello', z=[1,2])\n",
    "\n",
    "With keyword arguments, the order of the parameters doesn’t matter. However, unless there are default values, you must explicitly name all of the required function parame- ters. If you omit any of the required parameters or if the name of a keyword doesn’t match any of the parameter names in the function definition, a TypeError exception is raised. Also, since any Python function can be called using the keyword calling style, it is generally a good idea to define functions with descriptive argument names. Positional arguments and keyword arguments can appear in the same function call, provided that all the positional arguments appear first, values are provided for all non- optional arguments, and no argument value is defined more than once. Here’s an example:\n",
    "\n",
    "foo('hello', 3, z=[1,2], y=22)  \n",
    "foo(3, 22, w='hello', z=[1,2]) # TypeError. Multiple values for w"
   ]
  },
  {
   "cell_type": "code",
   "execution_count": 7,
   "metadata": {},
   "outputs": [],
   "source": [
    "# Accept variable number of positional or keyword arguments \n",
    "def spam(*args, **kwargs):\n",
    "    pass\n",
    "# args is a tuple of positional args # kwargs is dictionary of keyword args"
   ]
  },
  {
   "cell_type": "code",
   "execution_count": null,
   "metadata": {},
   "outputs": [],
   "source": []
  }
 ],
 "metadata": {
  "kernelspec": {
   "display_name": "Python 3",
   "language": "python",
   "name": "python3"
  },
  "language_info": {
   "codemirror_mode": {
    "name": "ipython",
    "version": 3
   },
   "file_extension": ".py",
   "mimetype": "text/x-python",
   "name": "python",
   "nbconvert_exporter": "python",
   "pygments_lexer": "ipython3",
   "version": "3.7.3"
  }
 },
 "nbformat": 4,
 "nbformat_minor": 2
}
