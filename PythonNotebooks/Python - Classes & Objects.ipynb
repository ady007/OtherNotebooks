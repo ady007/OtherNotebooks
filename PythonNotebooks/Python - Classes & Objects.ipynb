{
 "cells": [
  {
   "cell_type": "markdown",
   "metadata": {},
   "source": [
    "# Classes & Objects"
   ]
  },
  {
   "cell_type": "markdown",
   "metadata": {},
   "source": [
    "All values used in a program are objects.An object consists of internal data and methods that perform various kinds of operations involving that data.You have already used objects and methods when working with the built-in types such as strings and lists. For example:"
   ]
  },
  {
   "cell_type": "code",
   "execution_count": 2,
   "metadata": {},
   "outputs": [],
   "source": [
    "items = [37, 42] # Create a list object\n",
    "items.append(73) # Call the append() method"
   ]
  },
  {
   "cell_type": "markdown",
   "metadata": {},
   "source": [
    "The dir() function lists the methods available on an object and is a useful tool for interactive experimentation."
   ]
  },
  {
   "cell_type": "code",
   "execution_count": 3,
   "metadata": {
    "scrolled": false
   },
   "outputs": [
    {
     "data": {
      "text/plain": [
       "['__add__',\n",
       " '__class__',\n",
       " '__contains__',\n",
       " '__delattr__',\n",
       " '__delitem__',\n",
       " '__dir__',\n",
       " '__doc__',\n",
       " '__eq__',\n",
       " '__format__',\n",
       " '__ge__',\n",
       " '__getattribute__',\n",
       " '__getitem__',\n",
       " '__gt__',\n",
       " '__hash__',\n",
       " '__iadd__',\n",
       " '__imul__',\n",
       " '__init__',\n",
       " '__init_subclass__',\n",
       " '__iter__',\n",
       " '__le__',\n",
       " '__len__',\n",
       " '__lt__',\n",
       " '__mul__',\n",
       " '__ne__',\n",
       " '__new__',\n",
       " '__reduce__',\n",
       " '__reduce_ex__',\n",
       " '__repr__',\n",
       " '__reversed__',\n",
       " '__rmul__',\n",
       " '__setattr__',\n",
       " '__setitem__',\n",
       " '__sizeof__',\n",
       " '__str__',\n",
       " '__subclasshook__',\n",
       " 'append',\n",
       " 'clear',\n",
       " 'copy',\n",
       " 'count',\n",
       " 'extend',\n",
       " 'index',\n",
       " 'insert',\n",
       " 'pop',\n",
       " 'remove',\n",
       " 'reverse',\n",
       " 'sort']"
      ]
     },
     "execution_count": 3,
     "metadata": {},
     "output_type": "execute_result"
    }
   ],
   "source": [
    "dir(items)"
   ]
  },
  {
   "cell_type": "markdown",
   "metadata": {},
   "source": [
    "When inspecting objects, you will see familiar methods such as append() and insert() listed. However, you will also see special methods that always begin and end with a double underscore.These methods implement various language operations. For example, the __add__() method implements the + operator:"
   ]
  },
  {
   "cell_type": "code",
   "execution_count": 4,
   "metadata": {
    "scrolled": true
   },
   "outputs": [
    {
     "data": {
      "text/plain": [
       "[37, 42, 73, 73, 101]"
      ]
     },
     "execution_count": 4,
     "metadata": {},
     "output_type": "execute_result"
    }
   ],
   "source": [
    "items.__add__([73,101])"
   ]
  },
  {
   "cell_type": "markdown",
   "metadata": {},
   "source": [
    "The class statement is used to define new types of objects and for object-oriented programming. For example, the following class defines a simple stack with push(), pop(), and length() operations:"
   ]
  },
  {
   "cell_type": "code",
   "execution_count": null,
   "metadata": {},
   "outputs": [],
   "source": [
    "class Stack(object): \n",
    "    def __init__(self):\n",
    "        self.stack = [ ]\n",
    "    def push(self,object):\n",
    "        self.stack.append(object)\n",
    "    def pop(self):\n",
    "        return self.stack.pop()\n",
    "    def length(self):\n",
    "        return len(self.stack)"
   ]
  },
  {
   "cell_type": "markdown",
   "metadata": {},
   "source": [
    "In the first line of the class definition, the statement class Stack(object) declares Stack to be an object.The use of parentheses is how Python specifies inheritance—in this case, Stack inherits from object, which is the root of all Python types. Inside the class definition, methods are defined using the def statement.The first argument in each method always refers to the object itself. By convention, self is the name used for this argument.All operations involving the attributes of an object must explicitly refer to the self variable. Methods with leading and trailing double underscores are special meth- ods. For example,__init__ is used to initialize an object after it’s created.\n",
    "\n",
    "Normally, all of the methods defined within a class apply only to instances of that class (that is, the objects that are created). However, different kinds of methods can be defined such as static methods familiar to C++ and Java programmers."
   ]
  },
  {
   "cell_type": "code",
   "execution_count": null,
   "metadata": {
    "scrolled": true
   },
   "outputs": [],
   "source": [
    "class EventHandler(object):\n",
    "    @staticmethod\n",
    "    def dispatcherThread():\n",
    "        while (1):\n",
    "        # Wait for requests"
   ]
  },
  {
   "cell_type": "markdown",
   "metadata": {},
   "source": [
    "# Classes\n",
    "\n",
    "A class in Python is effectively a data type. All the data types built into Python are classes, and Python gives you powerful tools to manipulate every aspect of a class’s behavior.\n",
    "\n",
    "A **class variable** is a variable associated with a class, not an instance of a class, and is accessed by all instances of the class, in order to keep track of some class-level information, such as how many instances of the class have been created at any point in time. Python provides class variables, although using them requires slightly more effort than in most other languages. Also, you need to watch out for an interaction between class and instance variables. They can be invoked by classname.classvariable\n",
    "\n",
    "When Python is looking up an instance variable, if it can’t find an instance variable of that name, it will then try to find and return the value in a class variable of the same name. Only if it can’t find an appropriate class variable will it signal an error. This does make it efficient to implement default values for instance variables; just create a class variable with the same name and appropriate default value, and avoid the time and memory overhead of initializing that instance variable every time a class instance is created. But this also makes it easy to inadvertently refer to an instance variable rather than a class variable, without signaling an error.\n",
    "\n",
    "Just as in Java, you can invoke **static methods** even though no instance of that class has been created, although you can call them using a class instance. To create a static method, use the @staticmethod decorator,\n",
    "\n",
    "**Class methods** are similar to static methods in that they can be invoked before an object of the class has been instantiated or by using an instance of the class. But class methods are implicitly passed the class they belong to as their first parameter, so you can code them more simply,"
   ]
  },
  {
   "cell_type": "code",
   "execution_count": 2,
   "metadata": {},
   "outputs": [
    {
     "name": "stdout",
     "output_type": "stream",
     "text": [
      "aditya.singh@company.com\n",
      "<bound method Employee.fullname of <__main__.Employee object at 0x1075463c8>>\n",
      "aditya singh\n",
      "aditya singh\n",
      "31200\n",
      "Employee: aditya singh\n"
     ]
    }
   ],
   "source": [
    "import pprint\n",
    "pp = pprint.PrettyPrinter(indent=4)\n",
    "\n",
    "class Employee:\n",
    "    \n",
    "    #Class variables\n",
    "    raise_amount = 1.04\n",
    "    num_of_emps = 0\n",
    "    \n",
    "    def __init__(self, first, last, pay):\n",
    "        self.first = first\n",
    "        self.last = last\n",
    "        self.pay = pay\n",
    "        self.email = first+\".\"+last+\"@company.com\"   \n",
    "        #Whenever the class is instantiated, update the counter i.e Class variable. Note that this is going to be\n",
    "        #Same across all instances of this class\n",
    "        Employee.num_of_emps += 1\n",
    "    \n",
    "    def fullname(self):\n",
    "        return self.first + \" \" + self.last\n",
    "    \n",
    "    def apply_raise(self):\n",
    "        self.pay = int(self.pay * self.raise_amount)\n",
    "        \n",
    "    @classmethod\n",
    "    def set_raise_amount(cls, amount):\n",
    "        cls.raise_amount = amount\n",
    "        \n",
    "    @classmethod\n",
    "    def from_string(cls, emp_str):\n",
    "        first, last, pay = emp_str.split(\"-\")\n",
    "        return cls(first, last,pay)\n",
    "    \n",
    "    #Dunder methods\n",
    "    def __str__(self):\n",
    "        return \"Employee: \" + self.first + \" \" + self.last\n",
    "    \n",
    "    def __add__(self, other):\n",
    "        return other.pay + self.pay\n",
    "\n",
    "emp1 = Employee(\"aditya\",\"singh\",30000)\n",
    "print(emp1.email)\n",
    "print(emp1.fullname)\n",
    "print(emp1.fullname())\n",
    "print(Employee.fullname(emp1))\n",
    "emp1.apply_raise()\n",
    "print(emp1.pay)\n",
    "print(emp1)"
   ]
  },
  {
   "cell_type": "code",
   "execution_count": 3,
   "metadata": {},
   "outputs": [
    {
     "name": "stdout",
     "output_type": "stream",
     "text": [
      "{'first': 'aditya', 'last': 'singh', 'pay': 31200, 'email': 'aditya.singh@company.com'}\n",
      "mappingproxy({   '__add__': <function Employee.__add__ at 0x107540620>,\n",
      "                 '__dict__': <attribute '__dict__' of 'Employee' objects>,\n",
      "                 '__doc__': None,\n",
      "                 '__init__': <function Employee.__init__ at 0x1075402f0>,\n",
      "                 '__module__': '__main__',\n",
      "                 '__str__': <function Employee.__str__ at 0x107540598>,\n",
      "                 '__weakref__': <attribute '__weakref__' of 'Employee' objects>,\n",
      "                 'apply_raise': <function Employee.apply_raise at 0x107540378>,\n",
      "                 'from_string': <classmethod object at 0x1075464a8>,\n",
      "                 'fullname': <function Employee.fullname at 0x107540400>,\n",
      "                 'num_of_emps': 1,\n",
      "                 'raise_amount': 1.04,\n",
      "                 'set_raise_amount': <classmethod object at 0x107546358>})\n",
      "1.97\n"
     ]
    }
   ],
   "source": [
    "#Print the object namespace. Notice that there is no raise_amount\n",
    "print(emp1.__dict__)\n",
    "pp.pprint(Employee.__dict__)\n",
    "\n",
    "#If you change a class variable, it updates all objects.\n",
    "Employee.raise_amount=1.97\n",
    "print(emp1.raise_amount)"
   ]
  },
  {
   "cell_type": "code",
   "execution_count": 4,
   "metadata": {},
   "outputs": [
    {
     "name": "stdout",
     "output_type": "stream",
     "text": [
      "1\n",
      "2\n",
      "2\n",
      "81200\n"
     ]
    }
   ],
   "source": [
    "print(Employee.num_of_emps)\n",
    "emp2 = Employee(\"rohit\",\"singh\",50000)\n",
    "print(Employee.num_of_emps)\n",
    "print(emp2.num_of_emps)\n",
    "print(emp1 + emp2)"
   ]
  },
  {
   "cell_type": "code",
   "execution_count": 5,
   "metadata": {},
   "outputs": [
    {
     "name": "stdout",
     "output_type": "stream",
     "text": [
      "<class '__main__.Employee'>\n",
      "<class 'type'>\n"
     ]
    }
   ],
   "source": [
    "print(type(emp1))\n",
    "print(type(Employee))"
   ]
  },
  {
   "cell_type": "code",
   "execution_count": 6,
   "metadata": {},
   "outputs": [
    {
     "name": "stdout",
     "output_type": "stream",
     "text": [
      "1.1\n"
     ]
    }
   ],
   "source": [
    "Employee.set_raise_amount(1.10)\n",
    "print(emp1.raise_amount)"
   ]
  },
  {
   "cell_type": "code",
   "execution_count": 7,
   "metadata": {},
   "outputs": [
    {
     "name": "stdout",
     "output_type": "stream",
     "text": [
      "Aarti\n"
     ]
    }
   ],
   "source": [
    "#Calling the class method which constructs a new object from string and returns it\n",
    "emp3 = Employee.from_string(\"Aarti-Tomar-33000\")\n",
    "print(emp3.first)"
   ]
  },
  {
   "cell_type": "code",
   "execution_count": 8,
   "metadata": {},
   "outputs": [
    {
     "name": "stdout",
     "output_type": "stream",
     "text": [
      "Python\n"
     ]
    }
   ],
   "source": [
    "class Developer(Employee):\n",
    "    def __init__(self, first, last, pay, prog_lang):\n",
    "        super().__init__(first, last, pay)\n",
    "        self.prog_lang = prog_lang\n",
    "\n",
    "dev1 = Developer(\"Rohit\", \"Singh\", 55000, \"Python\")\n",
    "print(dev1.prog_lang)"
   ]
  },
  {
   "cell_type": "code",
   "execution_count": 37,
   "metadata": {},
   "outputs": [
    {
     "name": "stdout",
     "output_type": "stream",
     "text": [
      "True\n",
      "False\n",
      "False\n",
      "False\n"
     ]
    }
   ],
   "source": [
    "print(isinstance(dev1, Developer))\n",
    "print(isinstance(dev1, Employee))\n",
    "print(issubclass(Developer,Employee))\n",
    "print(issubclass(Employee,Developer))"
   ]
  },
  {
   "cell_type": "markdown",
   "metadata": {},
   "source": [
    "Other Dunder Methods which can be overloaded\n",
    "https://docs.python.org/3/reference/datamodel.html#emulating-numeric-types"
   ]
  },
  {
   "cell_type": "markdown",
   "metadata": {
    "collapsed": true
   },
   "source": [
    "The repr function always returns what might be loosely called the formal string representation of a Python object. More specifically, repr returns a string representation of a Python object from which the original object can be rebuilt. For large, complex objects, this may not be the sort of thing you wish to see in debugging output or status reports. Python also provides the built-in str function. In contrast to repr, str is intended to produce printable string representations, and it can be applied to any Python object. str returns what might be called the informal string representation of the object. A string returned by str need not define an object fully and is intended to be read by humans, not by Python code. You won’t notice any difference between repr and str when you first start using them, because until you begin using the object-oriented features of Python, there is no difference. str applied to any built-in Python object always calls repr to calculate its result. It’s only when you start defining your own classes that the difference between str and repr becomes important."
   ]
  },
  {
   "cell_type": "markdown",
   "metadata": {
    "collapsed": true
   },
   "source": [
    "# Another example\n",
    "\n",
    "Based on James Powell's talk @ PyData, 2017 https://www.youtube.com/watch?v=7lmCu8wz8ro"
   ]
  },
  {
   "cell_type": "code",
   "execution_count": 29,
   "metadata": {
    "collapsed": true
   },
   "outputs": [],
   "source": [
    "class Polynomial:\n",
    "    num_of_instances = 0\n",
    "    all_polynomials = []\n",
    "    def __init__(self, *coeffs):\n",
    "        self.coeffs = coeffs\n",
    "        Polynomial.num_of_instances += 1\n",
    "        Polynomial.all_polynomials.append(self)\n",
    "    \n",
    "    def __repr__(self):\n",
    "        return 'Polynomial(*{!r})'.format(self.coeffs)\n",
    "    \n",
    "    def __add__(self,other):\n",
    "        return Polynomial(*(x + y for x, y in zip(self.coeffs, other.coeffs)))\n",
    "    \n",
    "    def __len__(self):\n",
    "        return len(self.coeffs)\n",
    "    \n",
    "    @staticmethod\n",
    "    def list_all_polynomials():\n",
    "        print(Polynomial.all_polynomials)"
   ]
  },
  {
   "cell_type": "code",
   "execution_count": 30,
   "metadata": {},
   "outputs": [
    {
     "name": "stdout",
     "output_type": "stream",
     "text": [
      "Polynomial(*(5, 7, 9))\n"
     ]
    }
   ],
   "source": [
    "p1 = Polynomial(1,2,3)\n",
    "p2 = Polynomial(4,5,6)\n",
    "print(p1 + p2)"
   ]
  },
  {
   "cell_type": "code",
   "execution_count": 31,
   "metadata": {},
   "outputs": [
    {
     "data": {
      "text/plain": [
       "3"
      ]
     },
     "execution_count": 31,
     "metadata": {},
     "output_type": "execute_result"
    }
   ],
   "source": [
    "Polynomial.num_of_instances"
   ]
  },
  {
   "cell_type": "code",
   "execution_count": 32,
   "metadata": {},
   "outputs": [
    {
     "name": "stdout",
     "output_type": "stream",
     "text": [
      "[Polynomial(*(1, 2, 3)), Polynomial(*(4, 5, 6)), Polynomial(*(5, 7, 9))]\n"
     ]
    }
   ],
   "source": [
    "Polynomial.list_all_polynomials()"
   ]
  },
  {
   "cell_type": "code",
   "execution_count": null,
   "metadata": {
    "collapsed": true
   },
   "outputs": [],
   "source": []
  }
 ],
 "metadata": {
  "kernelspec": {
   "display_name": "Python 3",
   "language": "python",
   "name": "python3"
  },
  "language_info": {
   "codemirror_mode": {
    "name": "ipython",
    "version": 3
   },
   "file_extension": ".py",
   "mimetype": "text/x-python",
   "name": "python",
   "nbconvert_exporter": "python",
   "pygments_lexer": "ipython3",
   "version": "3.7.3"
  }
 },
 "nbformat": 4,
 "nbformat_minor": 2
}
