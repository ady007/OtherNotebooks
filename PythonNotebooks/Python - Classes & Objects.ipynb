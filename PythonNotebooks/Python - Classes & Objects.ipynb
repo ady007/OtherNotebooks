{
 "cells": [
  {
   "cell_type": "markdown",
   "metadata": {},
   "source": [
    "# Classes & Objects"
   ]
  },
  {
   "cell_type": "markdown",
   "metadata": {},
   "source": [
    "All values used in a program are objects.An object consists of internal data and methods that perform various kinds of operations involving that data.You have already used objects and methods when working with the built-in types such as strings and lists. For example:"
   ]
  },
  {
   "cell_type": "code",
   "execution_count": 2,
   "metadata": {},
   "outputs": [],
   "source": [
    "items = [37, 42] # Create a list object\n",
    "items.append(73) # Call the append() method"
   ]
  },
  {
   "cell_type": "markdown",
   "metadata": {},
   "source": [
    "The dir() function lists the methods available on an object and is a useful tool for interactive experimentation."
   ]
  },
  {
   "cell_type": "code",
   "execution_count": 3,
   "metadata": {
    "scrolled": false
   },
   "outputs": [
    {
     "data": {
      "text/plain": [
       "['__add__',\n",
       " '__class__',\n",
       " '__contains__',\n",
       " '__delattr__',\n",
       " '__delitem__',\n",
       " '__dir__',\n",
       " '__doc__',\n",
       " '__eq__',\n",
       " '__format__',\n",
       " '__ge__',\n",
       " '__getattribute__',\n",
       " '__getitem__',\n",
       " '__gt__',\n",
       " '__hash__',\n",
       " '__iadd__',\n",
       " '__imul__',\n",
       " '__init__',\n",
       " '__init_subclass__',\n",
       " '__iter__',\n",
       " '__le__',\n",
       " '__len__',\n",
       " '__lt__',\n",
       " '__mul__',\n",
       " '__ne__',\n",
       " '__new__',\n",
       " '__reduce__',\n",
       " '__reduce_ex__',\n",
       " '__repr__',\n",
       " '__reversed__',\n",
       " '__rmul__',\n",
       " '__setattr__',\n",
       " '__setitem__',\n",
       " '__sizeof__',\n",
       " '__str__',\n",
       " '__subclasshook__',\n",
       " 'append',\n",
       " 'clear',\n",
       " 'copy',\n",
       " 'count',\n",
       " 'extend',\n",
       " 'index',\n",
       " 'insert',\n",
       " 'pop',\n",
       " 'remove',\n",
       " 'reverse',\n",
       " 'sort']"
      ]
     },
     "execution_count": 3,
     "metadata": {},
     "output_type": "execute_result"
    }
   ],
   "source": [
    "dir(items)"
   ]
  },
  {
   "cell_type": "markdown",
   "metadata": {},
   "source": [
    "When inspecting objects, you will see familiar methods such as append() and insert() listed. However, you will also see special methods that always begin and end with a double underscore.These methods implement various language operations. For example, the __add__() method implements the + operator:"
   ]
  },
  {
   "cell_type": "code",
   "execution_count": 4,
   "metadata": {
    "scrolled": true
   },
   "outputs": [
    {
     "data": {
      "text/plain": [
       "[37, 42, 73, 73, 101]"
      ]
     },
     "execution_count": 4,
     "metadata": {},
     "output_type": "execute_result"
    }
   ],
   "source": [
    "items.__add__([73,101])"
   ]
  },
  {
   "cell_type": "markdown",
   "metadata": {},
   "source": [
    "The class statement is used to define new types of objects and for object-oriented programming. For example, the following class defines a simple stack with push(), pop(), and length() operations:"
   ]
  },
  {
   "cell_type": "code",
   "execution_count": null,
   "metadata": {},
   "outputs": [],
   "source": [
    "class Stack(object): \n",
    "    def __init__(self):\n",
    "        self.stack = [ ]\n",
    "    def push(self,object):\n",
    "        self.stack.append(object)\n",
    "    def pop(self):\n",
    "        return self.stack.pop()\n",
    "    def length(self):\n",
    "        return len(self.stack)"
   ]
  },
  {
   "cell_type": "markdown",
   "metadata": {},
   "source": [
    "In the first line of the class definition, the statement class Stack(object) declares Stack to be an object.The use of parentheses is how Python specifies inheritance—in this case, Stack inherits from object, which is the root of all Python types. Inside the class definition, methods are defined using the def statement.The first argument in each method always refers to the object itself. By convention, self is the name used for this argument.All operations involving the attributes of an object must explicitly refer to the self variable. Methods with leading and trailing double underscores are special meth- ods. For example,__init__ is used to initialize an object after it’s created.\n",
    "\n",
    "Normally, all of the methods defined within a class apply only to instances of that class (that is, the objects that are created). However, different kinds of methods can be defined such as static methods familiar to C++ and Java programmers."
   ]
  },
  {
   "cell_type": "code",
   "execution_count": null,
   "metadata": {
    "scrolled": true
   },
   "outputs": [],
   "source": [
    "class EventHandler(object):\n",
    "    @staticmethod    #Decorator. Multiple decorators can be used on multiple lines\n",
    "    def dispatcherThread():\n",
    "        while (1):\n",
    "        # Wait for requests"
   ]
  },
  {
   "cell_type": "markdown",
   "metadata": {},
   "source": [
    "# Objects"
   ]
  },
  {
   "cell_type": "markdown",
   "metadata": {},
   "source": [
    "The built-in function id() returns the identity of an object as an integer.This integer usually corresponds to the object’s location in memory, although this is specific to the Python implementation and no such interpretation of the identity should be made. The is operator compares the identity of two objects.The built-in function type() returns the type of an object."
   ]
  },
  {
   "cell_type": "code",
   "execution_count": 6,
   "metadata": {
    "scrolled": true
   },
   "outputs": [
    {
     "name": "stdout",
     "output_type": "stream",
     "text": [
      "4507806224\n",
      "<class 'int'>\n"
     ]
    }
   ],
   "source": [
    "a = 42\n",
    "print(id(a))\n",
    "print(type(a))"
   ]
  },
  {
   "cell_type": "markdown",
   "metadata": {},
   "source": [
    "**Comparing Objects**"
   ]
  },
  {
   "cell_type": "code",
   "execution_count": null,
   "metadata": {
    "scrolled": true
   },
   "outputs": [],
   "source": [
    "# Compare two objects \n",
    "def compare(a,b):\n",
    "    if a is b:\n",
    "        # a and b are the same object statements\n",
    "    if a == b:\n",
    "        # a and b have the same value statements\n",
    "    if type(a) is type(b):\n",
    "        # a and b have the same type statements"
   ]
  },
  {
   "cell_type": "markdown",
   "metadata": {},
   "source": [
    "The type of an object is itself an object known as the object’s class.This object is uniquely defined and is always the same for all instances of a given type.Therefore, the type can be compared using the is operator. All type objects are assigned names that can be used to perform type checking. Most of these names are built-ins, such as list, dict, and file."
   ]
  },
  {
   "cell_type": "code",
   "execution_count": null,
   "metadata": {},
   "outputs": [],
   "source": [
    "if type(s) is list: \n",
    "    s.append(item)"
   ]
  },
  {
   "cell_type": "markdown",
   "metadata": {},
   "source": [
    "Because types can be specialized by defining classes, a better way to check types is to use the built-in isinstance(object, type) function."
   ]
  },
  {
   "cell_type": "code",
   "execution_count": null,
   "metadata": {},
   "outputs": [],
   "source": [
    "if isinstance(s,list):\n",
    "    s.append(item)"
   ]
  },
  {
   "cell_type": "markdown",
   "metadata": {},
   "source": [
    "# Reference Counting And Garbage Collection"
   ]
  },
  {
   "cell_type": "markdown",
   "metadata": {},
   "source": [
    "All objects are reference-counted. An object’s reference count is increased whenever it’s assigned to a new name or placed in a container such as a list, tuple, or dictionary, as shown here:"
   ]
  },
  {
   "cell_type": "code",
   "execution_count": 13,
   "metadata": {},
   "outputs": [],
   "source": [
    "a = 5 # Creates an object with value 37 \n",
    "b = a # Increases reference count on 37 \n",
    "c = []\n",
    "c.append(b) # Increases reference count on 37"
   ]
  },
  {
   "cell_type": "markdown",
   "metadata": {},
   "source": [
    "This example creates a single object containing the value 37. a is merely a name that refers to the newly created object. When b is assigned a, b becomes a new name for the same object and the object’s reference count increases. Likewise, when you place b into a list, the object’s reference count increases again. Throughout the example, only one object contains 37. All other operations are simply creating new references to the object. An object’s reference count is decreased by the del statement or whenever a refer- ence goes out of scope (or is reassigned). The current reference count of an object can be obtained using the sys.getrefcount() function."
   ]
  },
  {
   "cell_type": "code",
   "execution_count": 15,
   "metadata": {
    "scrolled": true
   },
   "outputs": [
    {
     "name": "stdout",
     "output_type": "stream",
     "text": [
      "245\n"
     ]
    }
   ],
   "source": [
    "import sys\n",
    "print(sys.getrefcount(a))"
   ]
  },
  {
   "cell_type": "markdown",
   "metadata": {},
   "source": [
    "In many cases, the reference count is much higher than you might guess. For immutable data such as numbers and strings, the interpreter aggressively shares objects between dif- ferent parts of the program in order to conserve memory. When an object’s reference count reaches zero, it is garbage-collected. However, in some cases a circular dependency may exist among a collection of objects that are no longer in use."
   ]
  },
  {
   "cell_type": "code",
   "execution_count": 16,
   "metadata": {},
   "outputs": [],
   "source": [
    "a={}\n",
    "b={}\n",
    "a['b'] = b # a contains reference to b\n",
    "b['a'] = a # b contains reference to a\n",
    "del a\n",
    "del b"
   ]
  },
  {
   "cell_type": "markdown",
   "metadata": {},
   "source": [
    "In this example, the del statements decrease the reference count of a and b and destroy the names used to refer to the underlying objects. However, because each object con- tains a reference to the other, the reference count doesn’t drop to zero and the objects remain allocated (resulting in a memory leak). To address this problem, the interpreter periodically executes a cycle detector that searches for cycles of inaccessible objects and deletes them. The cycle-detection algorithm runs periodically as the interpreter allocates more and more memory during execution. The exact behavior can be fine-tuned and controlled using functions in the gc module."
   ]
  },
  {
   "cell_type": "markdown",
   "metadata": {},
   "source": [
    "# References & Copies"
   ]
  },
  {
   "cell_type": "markdown",
   "metadata": {},
   "source": [
    "When a program makes an assignment such as a = b, a new reference to b is created. For immutable objects such as numbers and strings, this assignment effectively creates a copy of b. However, the behavior is quite different for mutable objects such as lists and dictionaries."
   ]
  },
  {
   "cell_type": "code",
   "execution_count": 18,
   "metadata": {
    "scrolled": true
   },
   "outputs": [
    {
     "name": "stdout",
     "output_type": "stream",
     "text": [
      "True\n",
      "[1, 2, -100, 4]\n"
     ]
    }
   ],
   "source": [
    "a = [1,2,3,4]\n",
    "b = a\n",
    "print(b is a)\n",
    "b[2]= -100\n",
    "print(a)"
   ]
  },
  {
   "cell_type": "markdown",
   "metadata": {},
   "source": [
    "Because a and b refer to the same object in this example, a change made to one of the variables is reflected in the other.To avoid this, you have to create a copy of an object rather than a new reference."
   ]
  },
  {
   "cell_type": "markdown",
   "metadata": {},
   "source": [
    "# First Class Objects"
   ]
  },
  {
   "cell_type": "markdown",
   "metadata": {},
   "source": [
    "All objects in Python are said to be “first class.”This means that all objects that can be named by an identifier have equal status. It also means that all objects that can be named can be treated as data. For example, here is a simple dictionary containing two values:"
   ]
  },
  {
   "cell_type": "code",
   "execution_count": 22,
   "metadata": {},
   "outputs": [],
   "source": [
    "items = { \n",
    "    'number' : 42,\n",
    "    'text' : \"Hello World\"\n",
    "}"
   ]
  },
  {
   "cell_type": "markdown",
   "metadata": {},
   "source": [
    "The first-class nature of objects can be seen by adding some more unusual items to this dictionary."
   ]
  },
  {
   "cell_type": "code",
   "execution_count": 24,
   "metadata": {
    "scrolled": true
   },
   "outputs": [
    {
     "name": "stdout",
     "output_type": "stream",
     "text": [
      "45\n"
     ]
    }
   ],
   "source": [
    "items[\"func\"] = abs\n",
    "print(items[\"func\"](-45))"
   ]
  },
  {
   "cell_type": "markdown",
   "metadata": {},
   "source": [
    "The fact that everything in Python is first-class is often not fully appreciated by new programmers. However, it can be used to write very compact and flexible code. For example, suppose you had a line of text such as \"GOOG,100,490.10\" and you wanted to convert it into a list of fields with appropriate type-conversion. Here’s a clever way that you might do it by creating a list of types (which are first-class objects) and execut- ing a few simple list processing operations:"
   ]
  },
  {
   "cell_type": "code",
   "execution_count": 25,
   "metadata": {},
   "outputs": [
    {
     "name": "stdout",
     "output_type": "stream",
     "text": [
      "['GOOG', 100, 490.1]\n"
     ]
    }
   ],
   "source": [
    "line = \"GOOG,100,490.10\"\n",
    "field_types = [str, int, float]\n",
    "raw_fields = line.split(',')\n",
    "fields = [ty(val) for ty,val in zip(field_types,raw_fields)]\n",
    "print(fields)"
   ]
  },
  {
   "cell_type": "markdown",
   "metadata": {},
   "source": [
    "# Built-In Types\n",
    "\n",
    "There are approximately a dozen built-in data types that are used to represent most of the data used in programs. These are grouped into a few major categories as shown in Table. \n",
    "\n",
    "# None Type\n",
    "\n",
    "The None type denotes a null object (an object with no value). Python provides exactly one null object, which is written as None in a program.This object is returned by func- tions that don’t explicitly return a value. None is frequently used as the default value of optional arguments, so that the function can detect whether the caller has actually passed a value for that argument. None has no attributes and evaluates to False in Boolean expressions."
   ]
  },
  {
   "cell_type": "code",
   "execution_count": 26,
   "metadata": {},
   "outputs": [
    {
     "name": "stdout",
     "output_type": "stream",
     "text": [
      "<class 'NoneType'>\n"
     ]
    }
   ],
   "source": [
    "print(type(None))"
   ]
  },
  {
   "cell_type": "markdown",
   "metadata": {},
   "source": [
    "# Numeric Types"
   ]
  },
  {
   "cell_type": "code",
   "execution_count": 27,
   "metadata": {
    "scrolled": true
   },
   "outputs": [
    {
     "name": "stdout",
     "output_type": "stream",
     "text": [
      "<class 'float'>\n",
      "<class 'complex'>\n",
      "<class 'bool'>\n",
      "<class 'int'>\n"
     ]
    }
   ],
   "source": [
    "print(type(3.2))\n",
    "print(type(3+2j))\n",
    "print(type(True))\n",
    "print(type(3))"
   ]
  },
  {
   "cell_type": "markdown",
   "metadata": {},
   "source": [
    "Python uses five numeric types: Booleans, integers, long integers, floating-point num- bers, and complex numbers. Except for Booleans, all numeric objects are signed. All numeric types are immutable. Booleans are represented by two values: True and False. The names True and False are respectively mapped to the numerical values of 1 and 0. Integers represent whole numbers in the range of –2147483648 to 2147483647 (the range may be larger on some machines). Long integers represent whole numbers of unlimited range (limited only by available memory).Although there are two integer types, Python tries to make the distinction seamless (in fact, in Python 3, the two types have been unified into a single integer type).Thus, although you will sometimes see ref- erences to long integers in existing Python code, this is mostly an implementation detail that can be ignored—just use the integer type for all integer operations.The one excep- tion is in code that performs explicit type checking for integer values. In Python 2, the expression isinstance(x, int) will return False if x is an integer that has been promoted to a long.\n",
    "\n",
    "Floating-point numbers are represented using the native double-precision (64-bit) representation of floating-point numbers on the machine. Normally this is IEEE 754, which provides approximately 17 digits of precision and an exponent in the range of –308 to 308.This is the same as the double type in C. Python doesn’t support 32-bit single-precision floating-point numbers. If precise control over the space and precision of numbers is an issue in your program, consider using the numpy extension.\n",
    "\n",
    "Complex numbers are represented as a pair of floating-point numbers.The real and imaginary parts of a complex number z are available in z.real and z.imag.The method z.conjugate() calculates the complex conjugate of z (the conjugate of a+bj is a-bj).\n",
    "\n",
    "Numeric types have a number of properties and methods that are meant to simplify operations involving mixed arithmetic. For simplified compatibility with rational numbers (found in the fractions module), integers have the properties x.numerator and x.denominator. An integer or floating-point number y has the properties y.real and y.imag as well as the method y.conjugate() for compatibility with complex numbers. A floating-point number can be converted into a pair of integers representing a fraction using y.as_integer_ratio(). The method y.is_integer() tests if a floating-point number represents an integer value. Methods y.hex()and y.fromhex() can be used to work with floating-point numbers using their low-level binary representation.\n",
    "\n",
    "# Sequence Types\n",
    "\n",
    "Sequences represent ordered sets of objects indexed by non-negative integers and include strings, lists, and tuples. Strings are sequences of characters, and lists and tuples are sequences of arbitrary Python objects. Strings and tuples are immutable; lists allow insertion, deletion, and substitution of elements. All sequences support iteration.\n",
    "\n",
    "Operators and methods that you can apply to all sequence types. Element i of sequence s is selected using the indexing operator s[i], and subse- quences are selected using the slicing operator s[i:j] or extended slicing operator s[i:j:stride] The length of any sequence is returned using the built-in len(s) function.You can find the minimum and maximum values of a sequence by using the built-in min(s) and max(s) functions. However, these functions only work for sequences in which the elements can be ordered (typically numbers and strings). sum(s) sums items in s but only works for numeric data.\n",
    "\n",
    "S[i] -> Returns element i of a sequence  \n",
    "S[i:j] -> Returns a slice  \n",
    "S[i:j:stride] -> Returns an extended slice  \n",
    "len(s) -> Number of elements in s  \n",
    "min(s) -> Minimum value in s  \n",
    "max(s) -> Maximum value in s  \n",
    "sum(s, [,initial]) -> Sum of items in s  \n",
    "all(s) -> Checks whether all items in s are True  \n",
    "any(s) -> Checks whether any item in x is True  \n",
    "\n",
    "**Operators applicable to Mutable sequences**\n",
    "\n",
    "s[i] = v -> Item assignment  \n",
    "s[i:j] = t -> Slice assignment  \n",
    "s[i:j:stride] = t -> Extended slice assignment  \n",
    "del s[i] -> Item deletion  \n",
    "del s[i:j] -> Slice deletion  \n",
    "del s[i:j:stride] -> Extended slice deletion  "
   ]
  },
  {
   "cell_type": "markdown",
   "metadata": {},
   "source": [
    "# Classes\n",
    "\n",
    "A class in Python is effectively a data type. All the data types built into Python are classes, and Python gives you powerful tools to manipulate every aspect of a class’s behavior.\n",
    "\n",
    "A **class variable** is a variable associated with a class, not an instance of a class, and is accessed by all instances of the class, in order to keep track of some class-level information, such as how many instances of the class have been created at any point in time. Python provides class variables, although using them requires slightly more effort than in most other languages. Also, you need to watch out for an interaction between class and instance variables. They can be invoked by classname.classvariable\n",
    "\n",
    "When Python is looking up an instance variable, if it can’t find an instance variable of that name, it will then try to find and return the value in a class variable of the same name. Only if it can’t find an appropriate class variable will it signal an error. This does make it efficient to implement default values for instance variables; just create a class variable with the same name and appropriate default value, and avoid the time and memory overhead of initializing that instance variable every time a class instance is created. But this also makes it easy to inadvertently refer to an instance variable rather than a class variable, without signaling an error.\n",
    "\n",
    "Just as in Java, you can invoke **static methods** even though no instance of that class has been created, although you can call them using a class instance. To create a static method, use the @staticmethod decorator,\n",
    "\n",
    "**Class methods** are similar to static methods in that they can be invoked before an object of the class has been instantiated or by using an instance of the class. But class methods are implicitly passed the class they belong to as their first parameter, so you can code them more simply,"
   ]
  },
  {
   "cell_type": "code",
   "execution_count": 2,
   "metadata": {},
   "outputs": [
    {
     "name": "stdout",
     "output_type": "stream",
     "text": [
      "aditya.singh@company.com\n",
      "<bound method Employee.fullname of <__main__.Employee object at 0x1075463c8>>\n",
      "aditya singh\n",
      "aditya singh\n",
      "31200\n",
      "Employee: aditya singh\n"
     ]
    }
   ],
   "source": [
    "import pprint\n",
    "pp = pprint.PrettyPrinter(indent=4)\n",
    "\n",
    "class Employee:\n",
    "    \n",
    "    #Class variables\n",
    "    raise_amount = 1.04\n",
    "    num_of_emps = 0\n",
    "    \n",
    "    def __init__(self, first, last, pay):\n",
    "        self.first = first\n",
    "        self.last = last\n",
    "        self.pay = pay\n",
    "        self.email = first+\".\"+last+\"@company.com\"   \n",
    "        #Whenever the class is instantiated, update the counter i.e Class variable. Note that this is going to be\n",
    "        #Same across all instances of this class\n",
    "        Employee.num_of_emps += 1\n",
    "    \n",
    "    def fullname(self):\n",
    "        return self.first + \" \" + self.last\n",
    "    \n",
    "    def apply_raise(self):\n",
    "        self.pay = int(self.pay * self.raise_amount)\n",
    "        \n",
    "    @classmethod\n",
    "    def set_raise_amount(cls, amount):\n",
    "        cls.raise_amount = amount\n",
    "        \n",
    "    @classmethod\n",
    "    def from_string(cls, emp_str):\n",
    "        first, last, pay = emp_str.split(\"-\")\n",
    "        return cls(first, last,pay)\n",
    "    \n",
    "    #Dunder methods\n",
    "    def __str__(self):\n",
    "        return \"Employee: \" + self.first + \" \" + self.last\n",
    "    \n",
    "    def __add__(self, other):\n",
    "        return other.pay + self.pay\n",
    "\n",
    "emp1 = Employee(\"aditya\",\"singh\",30000)\n",
    "print(emp1.email)\n",
    "print(emp1.fullname)\n",
    "print(emp1.fullname())\n",
    "print(Employee.fullname(emp1))\n",
    "emp1.apply_raise()\n",
    "print(emp1.pay)\n",
    "print(emp1)"
   ]
  },
  {
   "cell_type": "code",
   "execution_count": 3,
   "metadata": {},
   "outputs": [
    {
     "name": "stdout",
     "output_type": "stream",
     "text": [
      "{'first': 'aditya', 'last': 'singh', 'pay': 31200, 'email': 'aditya.singh@company.com'}\n",
      "mappingproxy({   '__add__': <function Employee.__add__ at 0x107540620>,\n",
      "                 '__dict__': <attribute '__dict__' of 'Employee' objects>,\n",
      "                 '__doc__': None,\n",
      "                 '__init__': <function Employee.__init__ at 0x1075402f0>,\n",
      "                 '__module__': '__main__',\n",
      "                 '__str__': <function Employee.__str__ at 0x107540598>,\n",
      "                 '__weakref__': <attribute '__weakref__' of 'Employee' objects>,\n",
      "                 'apply_raise': <function Employee.apply_raise at 0x107540378>,\n",
      "                 'from_string': <classmethod object at 0x1075464a8>,\n",
      "                 'fullname': <function Employee.fullname at 0x107540400>,\n",
      "                 'num_of_emps': 1,\n",
      "                 'raise_amount': 1.04,\n",
      "                 'set_raise_amount': <classmethod object at 0x107546358>})\n",
      "1.97\n"
     ]
    }
   ],
   "source": [
    "#Print the object namespace. Notice that there is no raise_amount\n",
    "print(emp1.__dict__)\n",
    "pp.pprint(Employee.__dict__)\n",
    "\n",
    "#If you change a class variable, it updates all objects.\n",
    "Employee.raise_amount=1.97\n",
    "print(emp1.raise_amount)"
   ]
  },
  {
   "cell_type": "code",
   "execution_count": 4,
   "metadata": {},
   "outputs": [
    {
     "name": "stdout",
     "output_type": "stream",
     "text": [
      "1\n",
      "2\n",
      "2\n",
      "81200\n"
     ]
    }
   ],
   "source": [
    "print(Employee.num_of_emps)\n",
    "emp2 = Employee(\"rohit\",\"singh\",50000)\n",
    "print(Employee.num_of_emps)\n",
    "print(emp2.num_of_emps)\n",
    "print(emp1 + emp2)"
   ]
  },
  {
   "cell_type": "code",
   "execution_count": 5,
   "metadata": {},
   "outputs": [
    {
     "name": "stdout",
     "output_type": "stream",
     "text": [
      "<class '__main__.Employee'>\n",
      "<class 'type'>\n"
     ]
    }
   ],
   "source": [
    "print(type(emp1))\n",
    "print(type(Employee))"
   ]
  },
  {
   "cell_type": "code",
   "execution_count": 6,
   "metadata": {},
   "outputs": [
    {
     "name": "stdout",
     "output_type": "stream",
     "text": [
      "1.1\n"
     ]
    }
   ],
   "source": [
    "Employee.set_raise_amount(1.10)\n",
    "print(emp1.raise_amount)"
   ]
  },
  {
   "cell_type": "code",
   "execution_count": 7,
   "metadata": {},
   "outputs": [
    {
     "name": "stdout",
     "output_type": "stream",
     "text": [
      "Aarti\n"
     ]
    }
   ],
   "source": [
    "#Calling the class method which constructs a new object from string and returns it\n",
    "emp3 = Employee.from_string(\"Aarti-Tomar-33000\")\n",
    "print(emp3.first)"
   ]
  },
  {
   "cell_type": "code",
   "execution_count": 8,
   "metadata": {},
   "outputs": [
    {
     "name": "stdout",
     "output_type": "stream",
     "text": [
      "Python\n"
     ]
    }
   ],
   "source": [
    "class Developer(Employee):\n",
    "    def __init__(self, first, last, pay, prog_lang):\n",
    "        super().__init__(first, last, pay)\n",
    "        self.prog_lang = prog_lang\n",
    "\n",
    "dev1 = Developer(\"Rohit\", \"Singh\", 55000, \"Python\")\n",
    "print(dev1.prog_lang)"
   ]
  },
  {
   "cell_type": "code",
   "execution_count": 37,
   "metadata": {},
   "outputs": [
    {
     "name": "stdout",
     "output_type": "stream",
     "text": [
      "True\n",
      "False\n",
      "False\n",
      "False\n"
     ]
    }
   ],
   "source": [
    "print(isinstance(dev1, Developer))\n",
    "print(isinstance(dev1, Employee))\n",
    "print(issubclass(Developer,Employee))\n",
    "print(issubclass(Employee,Developer))"
   ]
  },
  {
   "cell_type": "markdown",
   "metadata": {},
   "source": [
    "Other Dunder Methods which can be overloaded\n",
    "https://docs.python.org/3/reference/datamodel.html#emulating-numeric-types"
   ]
  },
  {
   "cell_type": "markdown",
   "metadata": {
    "collapsed": true
   },
   "source": [
    "The repr function always returns what might be loosely called the formal string representation of a Python object. More specifically, repr returns a string representation of a Python object from which the original object can be rebuilt. For large, complex objects, this may not be the sort of thing you wish to see in debugging output or status reports. Python also provides the built-in str function. In contrast to repr, str is intended to produce printable string representations, and it can be applied to any Python object. str returns what might be called the informal string representation of the object. A string returned by str need not define an object fully and is intended to be read by humans, not by Python code. You won’t notice any difference between repr and str when you first start using them, because until you begin using the object-oriented features of Python, there is no difference. str applied to any built-in Python object always calls repr to calculate its result. It’s only when you start defining your own classes that the difference between str and repr becomes important."
   ]
  },
  {
   "cell_type": "markdown",
   "metadata": {
    "collapsed": true
   },
   "source": [
    "# Another example\n",
    "\n",
    "Based on James Powell's talk @ PyData, 2017 https://www.youtube.com/watch?v=7lmCu8wz8ro"
   ]
  },
  {
   "cell_type": "code",
   "execution_count": 29,
   "metadata": {
    "collapsed": true
   },
   "outputs": [],
   "source": [
    "class Polynomial:\n",
    "    num_of_instances = 0\n",
    "    all_polynomials = []\n",
    "    def __init__(self, *coeffs):\n",
    "        self.coeffs = coeffs\n",
    "        Polynomial.num_of_instances += 1\n",
    "        Polynomial.all_polynomials.append(self)\n",
    "    \n",
    "    def __repr__(self):\n",
    "        return 'Polynomial(*{!r})'.format(self.coeffs)\n",
    "    \n",
    "    def __add__(self,other):\n",
    "        return Polynomial(*(x + y for x, y in zip(self.coeffs, other.coeffs)))\n",
    "    \n",
    "    def __len__(self):\n",
    "        return len(self.coeffs)\n",
    "    \n",
    "    @staticmethod\n",
    "    def list_all_polynomials():\n",
    "        print(Polynomial.all_polynomials)"
   ]
  },
  {
   "cell_type": "code",
   "execution_count": 30,
   "metadata": {},
   "outputs": [
    {
     "name": "stdout",
     "output_type": "stream",
     "text": [
      "Polynomial(*(5, 7, 9))\n"
     ]
    }
   ],
   "source": [
    "p1 = Polynomial(1,2,3)\n",
    "p2 = Polynomial(4,5,6)\n",
    "print(p1 + p2)"
   ]
  },
  {
   "cell_type": "code",
   "execution_count": 31,
   "metadata": {},
   "outputs": [
    {
     "data": {
      "text/plain": [
       "3"
      ]
     },
     "execution_count": 31,
     "metadata": {},
     "output_type": "execute_result"
    }
   ],
   "source": [
    "Polynomial.num_of_instances"
   ]
  },
  {
   "cell_type": "code",
   "execution_count": 32,
   "metadata": {},
   "outputs": [
    {
     "name": "stdout",
     "output_type": "stream",
     "text": [
      "[Polynomial(*(1, 2, 3)), Polynomial(*(4, 5, 6)), Polynomial(*(5, 7, 9))]\n"
     ]
    }
   ],
   "source": [
    "Polynomial.list_all_polynomials()"
   ]
  },
  {
   "cell_type": "code",
   "execution_count": null,
   "metadata": {
    "collapsed": true
   },
   "outputs": [],
   "source": []
  }
 ],
 "metadata": {
  "kernelspec": {
   "display_name": "Python 3",
   "language": "python",
   "name": "python3"
  },
  "language_info": {
   "codemirror_mode": {
    "name": "ipython",
    "version": 3
   },
   "file_extension": ".py",
   "mimetype": "text/x-python",
   "name": "python",
   "nbconvert_exporter": "python",
   "pygments_lexer": "ipython3",
   "version": "3.7.3"
  }
 },
 "nbformat": 4,
 "nbformat_minor": 2
}
