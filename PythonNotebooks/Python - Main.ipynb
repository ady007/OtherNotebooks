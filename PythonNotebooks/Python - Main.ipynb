{
 "cells": [
  {
   "cell_type": "markdown",
   "metadata": {},
   "source": [
    "# Overview"
   ]
  },
  {
   "cell_type": "code",
   "execution_count": 2,
   "metadata": {
    "scrolled": true
   },
   "outputs": [
    {
     "data": {
      "text/plain": [
       "True"
      ]
     },
     "execution_count": 2,
     "metadata": {},
     "output_type": "execute_result"
    }
   ],
   "source": [
    "isinstance(2.5, float) "
   ]
  },
  {
   "cell_type": "code",
   "execution_count": 2,
   "metadata": {},
   "outputs": [
    {
     "data": {
      "text/plain": [
       "5"
      ]
     },
     "execution_count": 2,
     "metadata": {},
     "output_type": "execute_result"
    }
   ],
   "source": [
    "2 + 3"
   ]
  },
  {
   "cell_type": "markdown",
   "metadata": {},
   "source": [
    "_ is a special variable in the python shell which holds the result of the last operation"
   ]
  },
  {
   "cell_type": "code",
   "execution_count": 5,
   "metadata": {},
   "outputs": [
    {
     "data": {
      "text/plain": [
       "5"
      ]
     },
     "execution_count": 5,
     "metadata": {},
     "output_type": "execute_result"
    }
   ],
   "source": [
    "_"
   ]
  },
  {
   "cell_type": "markdown",
   "metadata": {},
   "source": [
    "**Dynamic Typing** : Python is a dynamically typed language where variable names are bound to different values, possibly of varying types, during program execution.The assignment operator simply creates an association between a name and a value. Although each value has an associated type such as an integer or string, variable names are untyped and can be made to refer to any type of data during execution.This is different from C, for exam- ple, in which a name represents a fixed type, size, and location in memory into which a value is stored."
   ]
  },
  {
   "cell_type": "code",
   "execution_count": 1,
   "metadata": {
    "scrolled": false
   },
   "outputs": [
    {
     "name": "stdout",
     "output_type": "stream",
     "text": [
      "<class 'int'>\n",
      "<class 'float'>\n",
      "<class 'complex'>\n",
      "<class 'bool'>\n",
      "<class 'str'>\n",
      "<class 'tuple'>\n",
      "<class 'list'>\n",
      "<class 'set'>\n",
      "<class 'frozenset'>\n",
      "<class 'NoneType'>\n"
     ]
    }
   ],
   "source": [
    "print(type(3.2))\n",
    "print(type(3+2j))\n",
    "print(type(True))\n",
    "print(type(\"hello world\"))\n",
    "print(type((3,4)))\n",
    "print(type([3,4]))\n",
    "print(type(set([3,4])))\n",
    "print(type(frozenset([3,4,5,6])))\n",
    "print(type(None))"
   ]
  },
  {
   "cell_type": "code",
   "execution_count": 6,
   "metadata": {},
   "outputs": [
    {
     "name": "stdout",
     "output_type": "stream",
     "text": [
      "  1 1000.00\n"
     ]
    }
   ],
   "source": [
    "year = 1\n",
    "principal = 1000\n",
    "print(\"%3d %0.2f\" % (year, principal)) #Python 3"
   ]
  },
  {
   "cell_type": "markdown",
   "metadata": {},
   "source": [
    "A newline terminates each statement. However, you can use a semicolon to separate statements on the same line"
   ]
  },
  {
   "cell_type": "markdown",
   "metadata": {},
   "source": [
    "print(format(year,\"3d\"),format(principal,\"0.2f\"))"
   ]
  },
  {
   "cell_type": "code",
   "execution_count": 11,
   "metadata": {},
   "outputs": [
    {
     "name": "stdout",
     "output_type": "stream",
     "text": [
      "Computer says Yes\n"
     ]
    }
   ],
   "source": [
    "a = 4\n",
    "b = 5\n",
    "if a < b:\n",
    "  print(\"Computer says Yes\")\n",
    "else:\n",
    "  print(\"Computer says No\")\n",
    "\n",
    "#To create an empty clause, use the pass statement"
   ]
  },
  {
   "cell_type": "markdown",
   "metadata": {},
   "source": [
    "Python does not have a special switch or case statement for testing values. To handle multiple-test cases, use the elif statement, like this:"
   ]
  },
  {
   "cell_type": "code",
   "execution_count": 15,
   "metadata": {},
   "outputs": [],
   "source": [
    "suffix = \".htm\"\n",
    "if suffix == \".htm\": \n",
    "    content = \"text/html\"\n",
    "elif suffix == \".jpg\": \n",
    "    content = \"image/jpeg\"\n",
    "elif suffix == \".png\": \n",
    "    content = \"image/png\"\n",
    "else:\n",
    "    raise RuntimeError(\"Unknown content type\")"
   ]
  },
  {
   "cell_type": "markdown",
   "metadata": {},
   "source": [
    "To denote truth values, use the Boolean values True and False. All relational operators such as < and > return True or False as results."
   ]
  },
  {
   "cell_type": "code",
   "execution_count": 18,
   "metadata": {},
   "outputs": [],
   "source": [
    "s = ['spam', 'hey']\n",
    "if 'spam' in s:\n",
    "    has_spam = True\n",
    "else:\n",
    "    has_spam = False"
   ]
  },
  {
   "cell_type": "markdown",
   "metadata": {},
   "source": [
    "The in operator used in this example is commonly used to check whether a value is contained inside of another object such as a string, list, or dictionary. It also returns True or False, so the preceding example could be shortened to this:"
   ]
  },
  {
   "cell_type": "code",
   "execution_count": 20,
   "metadata": {},
   "outputs": [],
   "source": [
    "has_spam = 'spam' in s"
   ]
  },
  {
   "cell_type": "markdown",
   "metadata": {},
   "source": [
    "The following program opens a file and reads its contents line by line. The open() function returns a new file object. By invoking methods on this object, you can perform various file operations.The readline() method reads a single line of input, including the terminating newline.The empty string is returned at the end of the file."
   ]
  },
  {
   "cell_type": "code",
   "execution_count": null,
   "metadata": {},
   "outputs": [],
   "source": [
    "f = open(\"foo.txt\")\n",
    "line = f.readline()\n",
    "while line:\n",
    "    print(line)\n",
    "    line = f.readline()\n",
    "f.close()"
   ]
  },
  {
   "cell_type": "markdown",
   "metadata": {},
   "source": [
    "In the example, the program is simply looping over all the lines in the file foo.txt. Whenever a program loops over a collection of data like this (for instance input lines, numbers, strings, etc.), it is commonly known as iteration. Because iteration is such a com- mon operation, Python provides a dedicated statement, for, that is used to iterate over items. For instance, the same program can be written much more succinctly as follows:"
   ]
  },
  {
   "cell_type": "code",
   "execution_count": null,
   "metadata": {
    "scrolled": true
   },
   "outputs": [],
   "source": [
    "for line in open(\"foo.txt\"):\n",
    "    print(line)"
   ]
  },
  {
   "cell_type": "markdown",
   "metadata": {},
   "source": [
    "To make the output of a program go to a file"
   ]
  },
  {
   "cell_type": "code",
   "execution_count": null,
   "metadata": {},
   "outputs": [],
   "source": [
    "f = open(\"out\",\"w\")\n",
    "print(\"%3d %0.2f\" % (year,principal),file=f)\n",
    "#OR\n",
    "f.write(\"%3d %0.2f\\n\" % (year,principal))"
   ]
  },
  {
   "cell_type": "markdown",
   "metadata": {},
   "source": [
    "Although these examples have worked with files, the same techniques apply to the stan- dard output and input streams of the interpreter. For example, if you wanted to read user input interactively, you can read from the file sys.stdin. If you want to write data to the screen, you can write to sys.stdout, which is the same file used to output data produced by the print statement."
   ]
  },
  {
   "cell_type": "code",
   "execution_count": 29,
   "metadata": {},
   "outputs": [
    {
     "name": "stdout",
     "output_type": "stream",
     "text": [
      "Enter your name :"
     ]
    }
   ],
   "source": [
    "import sys\n",
    "sys.stdout.write(\"Enter your name :\")\n",
    "name = sys.stdin.readline()"
   ]
  },
  {
   "cell_type": "markdown",
   "metadata": {},
   "source": [
    "In Python 3, the raw_input() function is called input(), but it works in exactly the same manner."
   ]
  },
  {
   "cell_type": "code",
   "execution_count": 31,
   "metadata": {},
   "outputs": [
    {
     "name": "stdout",
     "output_type": "stream",
     "text": [
      "Enter your name :aditya\n"
     ]
    }
   ],
   "source": [
    "name = input(\"Enter your name :\")"
   ]
  },
  {
   "cell_type": "markdown",
   "metadata": {},
   "source": [
    "# Python Lists"
   ]
  },
  {
   "cell_type": "markdown",
   "metadata": {},
   "source": [
    "Lists are sequences of arbitrary objects.You create a list by enclosing values in square brackets, as follows. Lists can contain any kind of Python object, including other lists."
   ]
  },
  {
   "cell_type": "code",
   "execution_count": 39,
   "metadata": {},
   "outputs": [],
   "source": [
    "mylist = [ \"Dave\", \"Mark\", \"Ann\", \"Phil\" ]"
   ]
  },
  {
   "cell_type": "code",
   "execution_count": 40,
   "metadata": {},
   "outputs": [
    {
     "name": "stdout",
     "output_type": "stream",
     "text": [
      "[2, 3, 5, 7, 11, 13, 17]\n"
     ]
    }
   ],
   "source": [
    "mylist = [2,3,5,7,11,13]\n",
    "mylist.append(17)\n",
    "print(mylist)\n",
    "\n",
    "#List assignment index out of range exception\n",
    "#mylist[7]=10"
   ]
  },
  {
   "cell_type": "markdown",
   "metadata": {},
   "source": [
    "**Lists have a 0 based index. But when you go below 0, python again goes to the end of the list. But you can wrap around the list only once.**"
   ]
  },
  {
   "cell_type": "code",
   "execution_count": 3,
   "metadata": {},
   "outputs": [
    {
     "data": {
      "text/plain": [
       "13"
      ]
     },
     "execution_count": 3,
     "metadata": {},
     "output_type": "execute_result"
    }
   ],
   "source": [
    "mylist[-2]"
   ]
  },
  {
   "cell_type": "code",
   "execution_count": 4,
   "metadata": {},
   "outputs": [
    {
     "name": "stdout",
     "output_type": "stream",
     "text": [
      "[5, 7, 11]\n",
      "[2, 3, 5, 7, 11]\n",
      "[11, 13, 17]\n"
     ]
    }
   ],
   "source": [
    "print(mylist[2:5])\n",
    "print(mylist[:5]) #Slice index 0 to 5\n",
    "print(mylist[4:]) #Slice from 4(inclusive) to the end of the list\n",
    "\n",
    "test_list = mylist[:] #Copy the list and return a new one"
   ]
  },
  {
   "cell_type": "markdown",
   "metadata": {},
   "source": [
    "**You can also replace a range within a list**"
   ]
  },
  {
   "cell_type": "code",
   "execution_count": 5,
   "metadata": {},
   "outputs": [
    {
     "name": "stdout",
     "output_type": "stream",
     "text": [
      "[2, 3, 'python', 'java', 'c++', 11, 13, 17]\n",
      "[2, 3, 'java', 'c++', 11, 13, 17]\n"
     ]
    }
   ],
   "source": [
    "#Slice assignment. Replace a part of the list with a new list\n",
    "mylist[2:4] = [\"python\", \"java\",\"c++\"]\n",
    "print(mylist)\n",
    "\n",
    "#Deleting item at a particular location\n",
    "del mylist[2]\n",
    "print(mylist)"
   ]
  },
  {
   "cell_type": "markdown",
   "metadata": {},
   "source": [
    "**You can slice a list by using [x:y]. It will return a new list starting from element with index x upto element with index y-1**"
   ]
  },
  {
   "cell_type": "code",
   "execution_count": 6,
   "metadata": {},
   "outputs": [
    {
     "data": {
      "text/plain": [
       "[1, 2, 3, 'a', 'b', 'c']"
      ]
     },
     "execution_count": 6,
     "metadata": {},
     "output_type": "execute_result"
    }
   ],
   "source": [
    "#Concatenation\n",
    "[1,2,3] + ['a','b','c']"
   ]
  },
  {
   "cell_type": "code",
   "execution_count": 7,
   "metadata": {},
   "outputs": [
    {
     "name": "stdout",
     "output_type": "stream",
     "text": [
      "[2, 2, 2, 2]\n",
      "['a', 'b', 'a', 'b', 'a', 'b']\n"
     ]
    }
   ],
   "source": [
    "#Repetition\n",
    "print([2]*4)\n",
    "print([\"a\",\"b\"]*3)"
   ]
  },
  {
   "cell_type": "code",
   "execution_count": 8,
   "metadata": {},
   "outputs": [
    {
     "data": {
      "text/plain": [
       "True"
      ]
     },
     "execution_count": 8,
     "metadata": {},
     "output_type": "execute_result"
    }
   ],
   "source": [
    "#Membership\n",
    "\"aditya\" in [\"hello\",\"aditya\",2.4,\"world\"]"
   ]
  },
  {
   "cell_type": "markdown",
   "metadata": {},
   "source": [
    "# Builtin List Functions"
   ]
  },
  {
   "cell_type": "code",
   "execution_count": 9,
   "metadata": {},
   "outputs": [
    {
     "name": "stdout",
     "output_type": "stream",
     "text": [
      "3\n",
      "3\n",
      "singh\n"
     ]
    }
   ],
   "source": [
    "print(len([2,3,4]))\n",
    "print(max([1,2,3,-4,-5]))\n",
    "print(max([\"aditya\",\"singh\",\"c\"]))\n",
    "# max/min should all be strings or numbers, otherwise it will throw an error"
   ]
  },
  {
   "cell_type": "code",
   "execution_count": 10,
   "metadata": {
    "scrolled": true
   },
   "outputs": [
    {
     "name": "stdout",
     "output_type": "stream",
     "text": [
      "[0, 2, 3, 3, 5, 5, 6, 8, 8]\n",
      "[6, 8, 2, 5, 3, 8, 3, 5, 0]\n",
      "[8, 8, 6, 5, 5, 3, 3, 2, 0]\n"
     ]
    }
   ],
   "source": [
    "k = [6,8,2,5,3,8,3,5,0]\n",
    "#Returns a new list with sorted items. Unlike the sort() list method which sorts the list in-place\n",
    "print(sorted(k))\n",
    "print(k)\n",
    "print(sorted(k, reverse=True))"
   ]
  },
  {
   "cell_type": "markdown",
   "metadata": {},
   "source": [
    "For more complex custom sorting, sorted() takes an optional \"key=\" specifying a \"key\" function that transforms each element before comparison. The key function takes in 1 value and returns 1 value, and the returned \"proxy\" value is used for the comparisons within the sort. For example with a list of strings, specifying key=len (the built in len() function) sorts the strings by length, from shortest to longest. The sort calls len() for each string to get the list of proxy length values, and then sorts with those proxy values."
   ]
  },
  {
   "cell_type": "code",
   "execution_count": 11,
   "metadata": {},
   "outputs": [
    {
     "name": "stdout",
     "output_type": "stream",
     "text": [
      "['d', 'bb', 'ccc', 'aaaa']\n"
     ]
    }
   ],
   "source": [
    "strs = ['ccc', 'aaaa', 'd', 'bb']\n",
    "print(sorted(strs, key=len))"
   ]
  },
  {
   "cell_type": "markdown",
   "metadata": {},
   "source": [
    "![title](https://developers.google.com/edu/python/images/sorted-key.png)"
   ]
  },
  {
   "cell_type": "code",
   "execution_count": 12,
   "metadata": {},
   "outputs": [
    {
     "name": "stdout",
     "output_type": "stream",
     "text": [
      "4\n"
     ]
    }
   ],
   "source": [
    "#Max and min method similar to sort - list must have objects of same type\n",
    "\n",
    "print(min([4,5,6,7]))\n",
    "\n",
    "#Will throw exception\n",
    "#print(max([4,8,\"two\"]))"
   ]
  },
  {
   "cell_type": "code",
   "execution_count": 4,
   "metadata": {
    "scrolled": true
   },
   "outputs": [
    {
     "name": "stdout",
     "output_type": "stream",
     "text": [
      "[7, 6, 5, 4, 3, 2, 1]\n"
     ]
    }
   ],
   "source": [
    "#Reverse the list in-place\n",
    "testlist = [1,2,3,4,5,6,7]\n",
    "testlist.reverse()\n",
    "print(testlist)"
   ]
  },
  {
   "cell_type": "markdown",
   "metadata": {},
   "source": [
    "# List Methods"
   ]
  },
  {
   "cell_type": "code",
   "execution_count": 13,
   "metadata": {},
   "outputs": [
    {
     "name": "stdout",
     "output_type": "stream",
     "text": [
      "[2, 3, 4, [4, 5]]\n",
      "[2, 3, 4, 4, 5]\n"
     ]
    }
   ],
   "source": [
    "#append() vs extend()\n",
    "lista = [2,3,4]\n",
    "lista.append([4,5])\n",
    "print(lista)\n",
    "\n",
    "lista = [2,3,4]\n",
    "lista.extend([4,5])\n",
    "print(lista)"
   ]
  },
  {
   "cell_type": "code",
   "execution_count": 14,
   "metadata": {
    "scrolled": false
   },
   "outputs": [
    {
     "name": "stdout",
     "output_type": "stream",
     "text": [
      "[2, 3, 'java', 'c++', 11, 13, 17]\n",
      "[2, 3, 'java', 'c++', 'new_element', 11, 13, 17]\n",
      "[2, 3, 'java', 'c++', 'new_element', 11, 13, 17, 6, 7]\n"
     ]
    }
   ],
   "source": [
    "print(mylist)\n",
    "#new_element is becomes element at index 4, all elements are pushed to the right. Insert can handle negative indices\n",
    "mylist.insert(4,\"new_element\")\n",
    "print(mylist)\n",
    "\n",
    "#extend is concatenation function similar to + operator\n",
    "mylist.extend([6,7])\n",
    "print(mylist)"
   ]
  },
  {
   "cell_type": "code",
   "execution_count": 15,
   "metadata": {},
   "outputs": [
    {
     "name": "stdout",
     "output_type": "stream",
     "text": [
      "1\n",
      "[2, 3, 'c++', 'new_element', 11, 13, 17, 6, 7]\n"
     ]
    }
   ],
   "source": [
    "#Returns index of the item if it exists, otherwise throws ValueError. \n",
    "#If multiple elements exist, it returns the index first occurrance\n",
    "lista = [\"java\",\"c++\",\"python\",\"perl\",\"golang\",\"javascript\",\"c++\"]\n",
    "print(lista.index(\"c++\"))\n",
    "\n",
    "\n",
    "#Removes the first instance of the element if found, else throws ValueError\n",
    "mylist.remove(\"java\")\n",
    "print(mylist)"
   ]
  },
  {
   "cell_type": "code",
   "execution_count": 16,
   "metadata": {},
   "outputs": [
    {
     "name": "stdout",
     "output_type": "stream",
     "text": [
      "None\n",
      "[0, 2, 3, 4, 5, 5, 7, 7, 8]\n",
      "[8, 7, 7, 5, 5, 4, 3, 2, 0]\n"
     ]
    }
   ],
   "source": [
    "#Sorts the list in place (does not return it)\n",
    "newlist = [4,7,0,2,5,8,3,5,7]\n",
    "#The sort() method returns None. So don't try to use it directly\n",
    "print(newlist.sort())\n",
    "print(newlist)\n",
    "\n",
    "#Reverses the list in place (does not return it)\n",
    "newlist.reverse()\n",
    "print(newlist)"
   ]
  },
  {
   "cell_type": "markdown",
   "metadata": {},
   "source": [
    "The default key method used by sort requires that all items in the list be of comparable types. That means that using the sort method on a list containing both numbers and strings will raise an exception"
   ]
  },
  {
   "cell_type": "code",
   "execution_count": 17,
   "metadata": {},
   "outputs": [
    {
     "name": "stdout",
     "output_type": "stream",
     "text": [
      "5\n",
      "[8, 7, 7, 5, 4, 3, 2, 0]\n",
      "0\n",
      "[8, 7, 7, 5, 4, 3, 2]\n",
      "2\n"
     ]
    }
   ],
   "source": [
    "#Pops the element at the index and returns it.\n",
    "print(newlist.pop(3))\n",
    "print(newlist)\n",
    "\n",
    "print(newlist.pop())\n",
    "print(newlist)\n",
    "\n",
    "#Count returns the number of times a specific element occurs in a list\n",
    "print(newlist.count(7))"
   ]
  },
  {
   "cell_type": "code",
   "execution_count": 18,
   "metadata": {},
   "outputs": [
    {
     "name": "stdout",
     "output_type": "stream",
     "text": [
      "[8, 7, 7, 5, 4, 3, 2]\n",
      "2\n"
     ]
    }
   ],
   "source": [
    "#Create a copy of the list and return the new list\n",
    "copiedlist = newlist.copy()\n",
    "print(copiedlist)\n",
    "\n",
    "#Number of times a given element appears in a list\n",
    "print(copiedlist.count(7))"
   ]
  },
  {
   "cell_type": "code",
   "execution_count": 19,
   "metadata": {},
   "outputs": [
    {
     "name": "stdout",
     "output_type": "stream",
     "text": [
      "True\n",
      "False\n"
     ]
    }
   ],
   "source": [
    "#Check membership\n",
    "\n",
    "print(3 in [4,5,3])\n",
    "print(3 in [\"one\", \"two\", \"three\"])"
   ]
  },
  {
   "cell_type": "markdown",
   "metadata": {},
   "source": [
    "# Strings\n",
    "\n",
    "Strings are also **immutable**. The operators and functions that work with them return new strings derived from the original. The operators (in, +, and * ) and built-in functions (len, max, and min) operate on strings as they do on lists and tuples. Index and slice notation works the same for obtaining elements or slices but can’t be used to\n",
    "add, remove, or replace elements."
   ]
  },
  {
   "cell_type": "markdown",
   "metadata": {},
   "source": [
    "To loop over characters in a string , use the in keyword just like a list\n",
    "\"in\" can also be used to check substring"
   ]
  },
  {
   "cell_type": "code",
   "execution_count": 20,
   "metadata": {
    "scrolled": true
   },
   "outputs": [
    {
     "data": {
      "text/plain": [
       "['the', 'quick', 'brown', 'fox', 'jumps', 'over', 'the', 'lazy', 'dog']"
      ]
     },
     "execution_count": 20,
     "metadata": {},
     "output_type": "execute_result"
    }
   ],
   "source": [
    "x = \"the quick brown fox jumps over the lazy dog\"\n",
    "x.split()"
   ]
  },
  {
   "cell_type": "code",
   "execution_count": 3,
   "metadata": {},
   "outputs": [
    {
     "data": {
      "text/plain": [
       "2"
      ]
     },
     "execution_count": 3,
     "metadata": {},
     "output_type": "execute_result"
    }
   ],
   "source": [
    "# find the index of a \"c\" in a string \"abcde\"\n",
    "\"abcde\".index(\"c\")"
   ]
  },
  {
   "cell_type": "code",
   "execution_count": 97,
   "metadata": {},
   "outputs": [
    {
     "data": {
      "text/plain": [
       "['sdsdgfgdfgdf', 'sdfsdfsdf']"
      ]
     },
     "execution_count": 97,
     "metadata": {},
     "output_type": "execute_result"
    }
   ],
   "source": [
    "y = \"sdsdgfgdfgdf_sdfsdfsdf\"\n",
    "y.split('_')"
   ]
  },
  {
   "cell_type": "code",
   "execution_count": 98,
   "metadata": {},
   "outputs": [
    {
     "data": {
      "text/plain": [
       "'sdsdgfg*g*_s*s*s*'"
      ]
     },
     "execution_count": 98,
     "metadata": {},
     "output_type": "execute_result"
    }
   ],
   "source": [
    "#Returns a new string\n",
    "y.replace('df','*')"
   ]
  },
  {
   "cell_type": "code",
   "execution_count": 100,
   "metadata": {},
   "outputs": [
    {
     "data": {
      "text/plain": [
       "'d'"
      ]
     },
     "execution_count": 100,
     "metadata": {},
     "output_type": "execute_result"
    }
   ],
   "source": [
    "y[3]"
   ]
  },
  {
   "cell_type": "code",
   "execution_count": 102,
   "metadata": {},
   "outputs": [],
   "source": [
    "#Will throw exception because strings are immutable\n",
    "#y[3]=\"k\""
   ]
  },
  {
   "cell_type": "markdown",
   "metadata": {},
   "source": [
    "The [ ] syntax and the len() function actually work on any sequence type -- strings, lists, etc.."
   ]
  },
  {
   "cell_type": "markdown",
   "metadata": {},
   "source": [
    "# Other Common String Methods"
   ]
  },
  {
   "cell_type": "markdown",
   "metadata": {},
   "source": [
    "Strings are stored as sequences of characters indexed by integers, starting at zero.To extract a single character, use the indexing operator s[i] like this:"
   ]
  },
  {
   "cell_type": "code",
   "execution_count": 32,
   "metadata": {},
   "outputs": [],
   "source": [
    "a = \"Hello World\"\n",
    "b = a[4] # b = 'o'"
   ]
  },
  {
   "cell_type": "markdown",
   "metadata": {},
   "source": [
    "To extract a substring, use the slicing operator s[i:j].This extracts all characters from s whose index k is in the range i <= k < j. If either index is omitted, the beginning or end of the string is assumed, respectively:"
   ]
  },
  {
   "cell_type": "code",
   "execution_count": 34,
   "metadata": {},
   "outputs": [],
   "source": [
    "c = a[:5]\n",
    "d = a[6:]\n",
    "e = a[3:8]\n",
    "# c = \"Hello\" # d = \"World\" # e = \"lo Wo\""
   ]
  },
  {
   "cell_type": "markdown",
   "metadata": {},
   "source": [
    "Strings are concatenated with the plus (+) operator:\n",
    "    \n",
    "Python never implicitly interprets the contents of a string as numerical data (i.e., as in other languages such as Perl or PHP). For example, + always concatenates strings:\n",
    "\n",
    "To perform mathematical calculations, strings first have to be converted into a numeric value using a function such as int() or float(). For example:"
   ]
  },
  {
   "cell_type": "code",
   "execution_count": 36,
   "metadata": {},
   "outputs": [],
   "source": [
    "g = a + \" This is a test\"\n",
    "\n",
    "x = \"37\"\n",
    "y = \"42\"\n",
    "z = x + y # z = \"3742\" (String Concatenation)\n",
    "\n",
    "z = int(x) + int(y) # z = 79 (Integer +)"
   ]
  },
  {
   "cell_type": "markdown",
   "metadata": {},
   "source": [
    "Non-string values can be converted into a string representation by using the str(),\n",
    "repr(), or format() function."
   ]
  },
  {
   "cell_type": "code",
   "execution_count": null,
   "metadata": {},
   "outputs": [],
   "source": [
    "s = \"The value of x is \" + str(x)\n",
    "s = \"The value of x is \" + repr(x)\n",
    "s = \"The value of x is \" + format(x,\"4d\")"
   ]
  },
  {
   "cell_type": "code",
   "execution_count": 55,
   "metadata": {},
   "outputs": [
    {
     "name": "stdout",
     "output_type": "stream",
     "text": [
      "  sdfaafserfdsf   \n",
      "  SDFAAFSERFDSF   \n",
      "sdfAAFSERfdsf\n",
      "sdfAAFSERfdsf   \n",
      "  sdfAAFSERfdsf   \n"
     ]
    }
   ],
   "source": [
    "k =\"  sdfAAFSERfdsf   \"\n",
    "print(k.lower())\n",
    "print(k.upper())\n",
    "print(k.strip())\n",
    "print(k.lstrip())\n",
    "print(k)"
   ]
  },
  {
   "cell_type": "code",
   "execution_count": 67,
   "metadata": {},
   "outputs": [
    {
     "name": "stdout",
     "output_type": "stream",
     "text": [
      "True\n",
      "True\n",
      "True\n",
      "False\n",
      "False\n",
      "True\n"
     ]
    }
   ],
   "source": [
    "print(\"   \".isspace())\n",
    "print(\"abc\".isalpha())\n",
    "print(\"hello \".islower())\n",
    "print(\"helLo \".islower())\n",
    "print(\"helLo \".isupper())\n",
    "print(\"HELLO\".isupper())"
   ]
  },
  {
   "cell_type": "code",
   "execution_count": 26,
   "metadata": {},
   "outputs": [
    {
     "data": {
      "text/plain": [
       "True"
      ]
     },
     "execution_count": 26,
     "metadata": {},
     "output_type": "execute_result"
    }
   ],
   "source": [
    "m = \"323432\"\n",
    "m.isdigit()"
   ]
  },
  {
   "cell_type": "code",
   "execution_count": 27,
   "metadata": {},
   "outputs": [
    {
     "name": "stdout",
     "output_type": "stream",
     "text": [
      "True\n",
      "True\n"
     ]
    }
   ],
   "source": [
    "print(m.startswith(\"32\"))\n",
    "print(m.endswith(\"32\"))"
   ]
  },
  {
   "cell_type": "code",
   "execution_count": 28,
   "metadata": {},
   "outputs": [
    {
     "name": "stdout",
     "output_type": "stream",
     "text": [
      "-1\n",
      "3\n",
      "334Singh34_\n"
     ]
    }
   ],
   "source": [
    "a = \"334Aditya34_\"\n",
    "print(a.find(\"42\"))\n",
    "print(a.find(\"Aditya\"))\n",
    "print(a.replace(\"Aditya\",\"Singh\"))"
   ]
  },
  {
   "cell_type": "code",
   "execution_count": 29,
   "metadata": {},
   "outputs": [
    {
     "data": {
      "text/plain": [
       "'Aditya_Singh_Hello_World'"
      ]
     },
     "execution_count": 29,
     "metadata": {},
     "output_type": "execute_result"
    }
   ],
   "source": [
    "k = [\"Aditya\",\"Singh\",\"Hello\",\"World\"]\n",
    "g = \"_\"\n",
    "g.join(k)"
   ]
  },
  {
   "cell_type": "code",
   "execution_count": 30,
   "metadata": {},
   "outputs": [
    {
     "data": {
      "text/plain": [
       "'a_b'"
      ]
     },
     "execution_count": 30,
     "metadata": {},
     "output_type": "execute_result"
    }
   ],
   "source": [
    "\"_\".join([\"a\",\"b\"])"
   ]
  },
  {
   "cell_type": "code",
   "execution_count": 31,
   "metadata": {},
   "outputs": [
    {
     "data": {
      "text/plain": [
       "3"
      ]
     },
     "execution_count": 31,
     "metadata": {},
     "output_type": "execute_result"
    }
   ],
   "source": [
    "k=\"fjfhshellosuweyriwriehellodfkdfkhello\"\n",
    "k.count(\"hello\")"
   ]
  },
  {
   "cell_type": "code",
   "execution_count": 32,
   "metadata": {},
   "outputs": [
    {
     "data": {
      "text/plain": [
       "5"
      ]
     },
     "execution_count": 32,
     "metadata": {},
     "output_type": "execute_result"
    }
   ],
   "source": [
    "k.index(\"hello\")"
   ]
  },
  {
   "cell_type": "code",
   "execution_count": 33,
   "metadata": {},
   "outputs": [
    {
     "name": "stdout",
     "output_type": "stream",
     "text": [
      "5\n",
      "-1\n"
     ]
    }
   ],
   "source": [
    "print(k.find(\"hello\"))\n",
    "print(k.find(\"world\"))"
   ]
  },
  {
   "cell_type": "code",
   "execution_count": 34,
   "metadata": {},
   "outputs": [
    {
     "data": {
      "text/plain": [
       "['h', 'e', 'l', 'l', 'o', ',', ' ', 'w', 'o', 'r', 'l', 'd']"
      ]
     },
     "execution_count": 34,
     "metadata": {},
     "output_type": "execute_result"
    }
   ],
   "source": [
    "list(\"hello, world\")"
   ]
  },
  {
   "cell_type": "code",
   "execution_count": 69,
   "metadata": {},
   "outputs": [
    {
     "name": "stdout",
     "output_type": "stream",
     "text": [
      "aytidA\n"
     ]
    }
   ],
   "source": [
    "k = list(\"Aditya\")\n",
    "k.reverse()\n",
    "print(\"\".join(k))"
   ]
  },
  {
   "cell_type": "code",
   "execution_count": 71,
   "metadata": {},
   "outputs": [
    {
     "data": {
      "text/plain": [
       "'Ambrosia is the food of the gods'"
      ]
     },
     "execution_count": 71,
     "metadata": {},
     "output_type": "execute_result"
    }
   ],
   "source": [
    "\"{0} is the {1} of {2}\".format(\"Ambrosia\", \"food\", \"the gods\")"
   ]
  },
  {
   "cell_type": "code",
   "execution_count": 72,
   "metadata": {},
   "outputs": [
    {
     "data": {
      "text/plain": [
       "'Ambrosia is the food of the gods'"
      ]
     },
     "execution_count": 72,
     "metadata": {},
     "output_type": "execute_result"
    }
   ],
   "source": [
    "#printf style formatting\n",
    "\"%s is the %s of %s\" % (\"Ambrosia\", \"food\", \"the gods\")"
   ]
  },
  {
   "cell_type": "markdown",
   "metadata": {},
   "source": [
    "# Tuples\n",
    "\n",
    "Tuples are like lists that can’t be modified—you can think of them as a restricted type of list or as a basic record type. **Tuples are immutable** To create a tuple, just list the values within parenthesis separated by commas. The \"empty\" tuple is just an empty pair of parenthesis. Accessing the elements in a tuple is just like a list -- len(), [ ], for, in, etc. all work the same.  \n",
    "\n",
    "To create a size-1 tuple, the lone element must be followed by a comma."
   ]
  },
  {
   "cell_type": "code",
   "execution_count": 36,
   "metadata": {},
   "outputs": [
    {
     "name": "stdout",
     "output_type": "stream",
     "text": [
      "3\n",
      "hi\n"
     ]
    }
   ],
   "source": [
    "t = (1, 2, 'hi')\n",
    "print(len(t))\n",
    "print(t[2])\n",
    "t = (1, 2, 'bye')\n",
    "\n",
    "#This will throw an error\n",
    "#tuple[2] = 'bye'"
   ]
  },
  {
   "cell_type": "code",
   "execution_count": 37,
   "metadata": {},
   "outputs": [
    {
     "name": "stdout",
     "output_type": "stream",
     "text": [
      "Hello\n",
      "<class 'str'>\n",
      "World\n",
      "<class 'str'>\n"
     ]
    }
   ],
   "source": [
    "(x,y,z) = (\"Hello\",\"World\",\"Python\")\n",
    "print(x)\n",
    "print(type(x))\n",
    "\n",
    "#Works for lists too\n",
    "[a,b,c]=[\"Hello\",\"World\",\"Python\"]\n",
    "print(b)\n",
    "print(type(b))\n",
    "\n",
    "#If they are not of the same size, it will throw an error"
   ]
  },
  {
   "cell_type": "code",
   "execution_count": 38,
   "metadata": {},
   "outputs": [
    {
     "name": "stdout",
     "output_type": "stream",
     "text": [
      "2 3\n"
     ]
    }
   ],
   "source": [
    "#Swapping variables\n",
    "var1 = 3\n",
    "var2 = 2\n",
    "var1, var2 = var2, var1\n",
    "print(var1, var2)"
   ]
  },
  {
   "cell_type": "code",
   "execution_count": 39,
   "metadata": {},
   "outputs": [
    {
     "name": "stdout",
     "output_type": "stream",
     "text": [
      "[1, 2, 3, 4]\n",
      "(1, 2, 3, 4)\n"
     ]
    }
   ],
   "source": [
    "#Creating a list from a tuple and tuple from a list\n",
    "print(list((1, 2, 3, 4)))\n",
    "print(tuple([1, 2, 3, 4]))"
   ]
  },
  {
   "cell_type": "markdown",
   "metadata": {},
   "source": [
    "# Packing & Unpacking\n",
    "\n",
    "To make things even more convenient, Python 3 has an extended unpacking feature, allowing an element marked with a * to absorb any number elements not matching the other elements. Again, some examples will make this clearer:\n",
    "\n",
    "--> x = (1, 2, 3, 4)  \n",
    "--> a, b, *c = x  \n",
    "--> a, b, c  \n",
    "(1, 2, [3, 4])  \n",
    "--> a, *b, c = x  \n",
    "--> a, b, c  \n",
    "(1, [2, 3], 4)  \n",
    "--> *a, b, c = x  \n",
    "--> a, b, c  \n",
    "([1, 2], 3, 4)  \n",
    "--> a, b, c, d, *e = x  \n",
    "--> a, b, c, d, e  \n",
    "(1, 2, 3, 4, [])  \n",
    "  \n",
    "Note that the starred element receives all the surplus items as a list, and that if there are no surplus elements, it receives an empty list. \n",
    "  \n",
    "Packing and unpacking can be performed using list delimiters as well:  \n",
    "  \n",
    "--> [a, b] = [1, 2]  \n",
    "--> [c, d] = 3, 4  \n",
    "--> [e, f] = (5, 6)  \n",
    "--> (g, h) = 7, 8  \n",
    "--> i, j = [9, 10]  \n",
    "--> k, l = (11, 12)  \n",
    "--> a  \n",
    "1  \n",
    "--> [b, c, d]  \n",
    "[2, 3, 4]  \n",
    "--> (e, f, g)  \n",
    "(5, 6, 7)  \n",
    "--> h, i, j, k, l  \n",
    "(8, 9, 10, 11, 12)  "
   ]
  },
  {
   "cell_type": "markdown",
   "metadata": {},
   "source": [
    "# List Comprehensions\n",
    "\n",
    "The syntax is [ expr for var in list ] -- the for var in list looks like a regular for-loop, but without the colon (:). The expr to its left is evaluated once for each element to give the values for the new list. Here is an example with strings, where each string is changed to upper case with '!!!' appended:\n",
    "  \n",
    "new_list = [expression for variable in old_list if expression]  "
   ]
  },
  {
   "cell_type": "code",
   "execution_count": 40,
   "metadata": {},
   "outputs": [
    {
     "name": "stdout",
     "output_type": "stream",
     "text": [
      "[1, 4, 9, 16]\n"
     ]
    }
   ],
   "source": [
    "nums = [1, 2, 3, 4]\n",
    "squares = [ n * n for n in nums ]\n",
    "print(squares)"
   ]
  },
  {
   "cell_type": "code",
   "execution_count": 41,
   "metadata": {},
   "outputs": [
    {
     "name": "stdout",
     "output_type": "stream",
     "text": [
      "['HELLO!!!', 'AND!!!', 'GOODBYE!!!']\n"
     ]
    }
   ],
   "source": [
    "strs = ['hello', 'and', 'goodbye']\n",
    "shouting = [ s.upper() + '!!!' for s in strs ]\n",
    "print(shouting)"
   ]
  },
  {
   "cell_type": "markdown",
   "metadata": {},
   "source": [
    "You can add an if test to the right of the for-loop to narrow the result. The if test is evaluated for each element, including only the elements where the test is true."
   ]
  },
  {
   "cell_type": "code",
   "execution_count": 42,
   "metadata": {},
   "outputs": [
    {
     "name": "stdout",
     "output_type": "stream",
     "text": [
      "[2, 1]\n"
     ]
    }
   ],
   "source": [
    "nums = [2, 8, 1, 6]\n",
    "small = [ n for n in nums if n <= 2 ]\n",
    "print(small)"
   ]
  },
  {
   "cell_type": "markdown",
   "metadata": {},
   "source": [
    "# Dictionaries\n",
    "\n",
    "Strings, numbers, and tuples work as keys, and any type can be a value. Other types may or may not work correctly as keys (strings and tuples work cleanly since they are immutable). Looking up a value which is not in the dict throws a KeyError -- use \"in\" to check if the key is in the dict, or use dict.get(key) which returns the value or None if the key is not present (or get(key, not-found) allows you to specify what value to return in the not-found case)."
   ]
  },
  {
   "cell_type": "code",
   "execution_count": 54,
   "metadata": {},
   "outputs": [
    {
     "name": "stdout",
     "output_type": "stream",
     "text": [
      "<class 'dict'>\n",
      "2\n",
      "hello\n"
     ]
    }
   ],
   "source": [
    "mydict = {}\n",
    "print(type(mydict))\n",
    "\n",
    "mydict = {\"hello\":2, \"world\":1}\n",
    "print(mydict[\"hello\"])\n",
    "\n",
    "mynewdict = {2:\"hello\",3:\"world\"}\n",
    "print(mynewdict[2])"
   ]
  },
  {
   "cell_type": "code",
   "execution_count": 44,
   "metadata": {},
   "outputs": [
    {
     "name": "stdout",
     "output_type": "stream",
     "text": [
      "{2: 'aditya', 3: 'world'}\n"
     ]
    }
   ],
   "source": [
    "mynewdict[2]=\"aditya\"\n",
    "print(mynewdict)"
   ]
  },
  {
   "cell_type": "code",
   "execution_count": 45,
   "metadata": {},
   "outputs": [
    {
     "data": {
      "text/plain": [
       "dict_keys([2, 3])"
      ]
     },
     "execution_count": 45,
     "metadata": {},
     "output_type": "execute_result"
    }
   ],
   "source": [
    "mynewdict.keys()"
   ]
  },
  {
   "cell_type": "code",
   "execution_count": 46,
   "metadata": {},
   "outputs": [
    {
     "data": {
      "text/plain": [
       "dict_values(['aditya', 'world'])"
      ]
     },
     "execution_count": 46,
     "metadata": {},
     "output_type": "execute_result"
    }
   ],
   "source": [
    "mynewdict.values()"
   ]
  },
  {
   "cell_type": "code",
   "execution_count": 81,
   "metadata": {},
   "outputs": [
    {
     "name": "stdout",
     "output_type": "stream",
     "text": [
      "(2, 'hello')\n",
      "(3, 'world')\n"
     ]
    }
   ],
   "source": [
    "#items() returns a iterable which returns a list of key-value tuples\n",
    "for item in mynewdict.items():\n",
    "    print(item)"
   ]
  },
  {
   "cell_type": "code",
   "execution_count": 82,
   "metadata": {},
   "outputs": [
    {
     "data": {
      "text/plain": [
       "[(2, 'hello'), (3, 'world')]"
      ]
     },
     "execution_count": 82,
     "metadata": {},
     "output_type": "execute_result"
    }
   ],
   "source": [
    "list(mynewdict.items())"
   ]
  },
  {
   "cell_type": "code",
   "execution_count": 83,
   "metadata": {},
   "outputs": [
    {
     "name": "stdout",
     "output_type": "stream",
     "text": [
      "{3: 'hello', 4: 'world'}\n"
     ]
    }
   ],
   "source": [
    "testdict = {}\n",
    "testdict[3] = \"hello\"\n",
    "testdict[4] = \"world\"\n",
    "print(testdict)"
   ]
  },
  {
   "cell_type": "code",
   "execution_count": 85,
   "metadata": {},
   "outputs": [
    {
     "data": {
      "text/plain": [
       "True"
      ]
     },
     "execution_count": 85,
     "metadata": {},
     "output_type": "execute_result"
    }
   ],
   "source": [
    "#you can test the dictionary for the presence of a key with the in keyword\n",
    "3 in testdict"
   ]
  },
  {
   "cell_type": "code",
   "execution_count": 87,
   "metadata": {},
   "outputs": [
    {
     "data": {
      "text/plain": [
       "'No such key in dictionary'"
      ]
     },
     "execution_count": 87,
     "metadata": {},
     "output_type": "execute_result"
    }
   ],
   "source": [
    "testdict.get(5, \"No such key in dictionary\")"
   ]
  },
  {
   "cell_type": "code",
   "execution_count": 90,
   "metadata": {},
   "outputs": [
    {
     "name": "stdout",
     "output_type": "stream",
     "text": [
      "No translation\n"
     ]
    }
   ],
   "source": [
    "#Similarly, if you want to safely get a key’s value and make sure it’s set to a default \n",
    "#in the dictionary, you can use the setdefault method:\n",
    "print(testdict.setdefault(5, 'No translation'))"
   ]
  },
  {
   "cell_type": "code",
   "execution_count": 92,
   "metadata": {},
   "outputs": [
    {
     "name": "stdout",
     "output_type": "stream",
     "text": [
      "{3: 'hello', 4: 'world', 5: 'No translation'}\n"
     ]
    }
   ],
   "source": [
    "print(testdict)"
   ]
  },
  {
   "cell_type": "markdown",
   "metadata": {},
   "source": [
    "You can obtain a copy of a dictionary using the copy method. This makes a shallow copy of the dictionary. This will likely be all you need in most situations. For dictionaries that contain any modifiable objects as values (that is, lists or other dictionaries), you may want to make a deep copy using the copy.deepcopy function."
   ]
  },
  {
   "cell_type": "code",
   "execution_count": 94,
   "metadata": {},
   "outputs": [
    {
     "name": "stdout",
     "output_type": "stream",
     "text": [
      "{0: 'zero', 1: 'One', 2: 'Two'}\n"
     ]
    }
   ],
   "source": [
    "#The update method updates a first dictionary with all the key/value pairs of a second dictionary. \n",
    "#For keys that are common to both, the values from the second dictionary override those of the first:\n",
    "z = {1: 'One', 2: 'Two'}\n",
    "x = {0: 'zero', 1: 'one'}\n",
    "x.update(z)\n",
    "print(x)"
   ]
  },
  {
   "cell_type": "code",
   "execution_count": 103,
   "metadata": {},
   "outputs": [
    {
     "name": "stdout",
     "output_type": "stream",
     "text": [
      "The word To occurs 1 times in the string\n",
      "The word be occurs 2 times in the string\n",
      "The word or occurs 1 times in the string\n",
      "The word not occurs 1 times in the string\n",
      "The word to occurs 1 times in the string\n"
     ]
    }
   ],
   "source": [
    "#Count the number of times every word occurs in a string\n",
    "sample_string = \"To be or not to be\"\n",
    "occurrences = {}\n",
    "for word in sample_string.split():\n",
    "    occurrences[word] = occurrences.get(word, 0) + 1\n",
    "for word in occurrences:\n",
    "    print(\"The word\", word, \"occurs\", occurrences[word], \"times in the string\")"
   ]
  },
  {
   "cell_type": "markdown",
   "metadata": {},
   "source": [
    "Any Python object that is immutable and hashable can be used as a key to a dictionary.Unfortunately, the requirement that keys be immutable and hashable means that lists can’t be used as dictionary keys. But there are many instances when it would be convenient to have a listlike key. Python solves this difficulty by providing tuples, which are basically immutable lists—they’re created and used similar to lists, except that when you have them, you can’t modify them. But there’s one further restriction: keys must also be hashable, which takes things a step further than just immutable. To be hashable, a value must have a hash value (provided by a __hash__ method) that never changes throughout the life of the value. That means that tuples containing mutable values, although they themselves are immutable, aren’t hashable. Only tuples that don’t contain any mutable objects nested within them are hashable and valid to use as keys for dictionaries.\n",
    "\n",
    "![title](https://preview.ibb.co/frdsjH/Screen_Shot_2018_04_29_at_2_27_36_AM.png)"
   ]
  },
  {
   "cell_type": "code",
   "execution_count": 109,
   "metadata": {},
   "outputs": [
    {
     "name": "stdout",
     "output_type": "stream",
     "text": [
      "{('a', 'b'): 4}\n"
     ]
    }
   ],
   "source": [
    "mydict = {}\n",
    "mydict[(\"a\",\"b\")] = 4\n",
    "\n",
    "# TypeError: unhashable type: 'list'\n",
    "# mydict[(\"b\",[1,2])] = 4\n",
    "\n",
    "print(mydict)"
   ]
  },
  {
   "cell_type": "markdown",
   "metadata": {},
   "source": [
    "You can also use the get method to retrieve the values in a dict. The only difference is that in the get method, you can set a default value. In direct referencing, if the key is not present, the interpreter throws KeyError.\n",
    "\n",
    "print(alphabets.get(1))\n",
    "print(alphabets.get(2, \"default\"))\n",
    "\n",
    "**Looping over a dictionary items\n",
    "\n",
    "for key, value in person1_information.items():"
   ]
  },
  {
   "cell_type": "code",
   "execution_count": 6,
   "metadata": {},
   "outputs": [],
   "source": [
    "#Delete items from a dictionary\n",
    "\n",
    "#initialise a dictionary with the keys “city”, “name”, “food”\n",
    "\n",
    "person1_information = {'city': 'San Francisco', 'name': 'Sam', \"food\": \"shrimps\"}\n",
    "del person1_information[\"food\"]"
   ]
  },
  {
   "cell_type": "markdown",
   "metadata": {},
   "source": [
    "A disadvantage is that it gives KeyError if you try to delete a nonexistent key. So, instead of the del statement you can use the pop method. This method takes in the key as the parameter. As a second argument, you can pass the default value if the key is not present.\n",
    "\n",
    "print(person1_information.pop(\"food\", None))\n",
    "\n",
    "You can test the presence of a key using the has_key method.\n",
    "\n",
    "A dictionary in Python doesn't preserve the order."
   ]
  },
  {
   "cell_type": "markdown",
   "metadata": {},
   "source": [
    "# Dictionary comprehension"
   ]
  },
  {
   "cell_type": "markdown",
   "metadata": {},
   "source": [
    "new_dict = {expression:expression for variable in list if expression}"
   ]
  },
  {
   "cell_type": "markdown",
   "metadata": {},
   "source": [
    "# Sets\n",
    "\n",
    "\n",
    "https://www.hackerearth.com/practice/python/working-with-data/set/tutorial/\n",
    "\n",
    "\n",
    "A set in Python is an unordered collection of objects used in situations where membership and uniqueness in the set are main things you need to know about that object. Just as with dictionary keys, the items in a set must be immutable and hashable. This means that ints, floats, strings, and tuples can be members of a set, but lists, dictionaries, and sets themselves can’t.  \n",
    "  \n",
    "In addition to the operations that apply to collections in general, like in, len, and being able to use a for loop to iterate over all of their elements, sets also have several set-specific operations:"
   ]
  },
  {
   "cell_type": "code",
   "execution_count": 48,
   "metadata": {},
   "outputs": [
    {
     "name": "stdout",
     "output_type": "stream",
     "text": [
      "{3, 4, 5, 7, 8}\n",
      "<class 'set'>\n"
     ]
    }
   ],
   "source": [
    "#When a sequence is made into a set, duplicates are removed\n",
    "x = set([4,4,7,3,5,8])\n",
    "print(x)\n",
    "print(type(x))"
   ]
  },
  {
   "cell_type": "code",
   "execution_count": 49,
   "metadata": {
    "scrolled": true
   },
   "outputs": [
    {
     "name": "stdout",
     "output_type": "stream",
     "text": [
      "{3, 4, 5, 7, 8, 'hello'}\n",
      "{3, 4, 5, 8, 'hello'}\n",
      "False\n",
      "True\n"
     ]
    }
   ],
   "source": [
    "x.add(\"hello\")\n",
    "print(x)\n",
    "x.remove(7)\n",
    "print(x)\n",
    "print(1 in x)\n",
    "print(4 in x)"
   ]
  },
  {
   "cell_type": "code",
   "execution_count": 50,
   "metadata": {
    "scrolled": false
   },
   "outputs": [
    {
     "name": "stdout",
     "output_type": "stream",
     "text": [
      "{3, 4, 5, 6, 7, 8, 9}\n",
      "{6}\n",
      "{3, 4, 5, 7, 8, 9}\n"
     ]
    }
   ],
   "source": [
    "x = set([3,4,5,6])\n",
    "y = set([6,7,8,9])\n",
    "\n",
    "#Set Union\n",
    "print(x | y)\n",
    "\n",
    "#Set Intersection\n",
    "print(x & y)\n",
    "\n",
    "# Symmetric difference—that is, elements that are in one set or the other but not both.\n",
    "print(x ^ y)"
   ]
  },
  {
   "cell_type": "markdown",
   "metadata": {},
   "source": [
    "# Frozensets\n",
    "\n",
    "Because sets aren’t immutable and hashable, they can’t belong to other sets. To remedy that situation there is another set type, frozenset, which is just like a set but can’t be changed after creation. Because frozensets are immutable and hashable, they can be members of other sets:"
   ]
  },
  {
   "cell_type": "code",
   "execution_count": 51,
   "metadata": {},
   "outputs": [
    {
     "name": "stdout",
     "output_type": "stream",
     "text": [
      "frozenset({3, 4, 5, 6})\n"
     ]
    }
   ],
   "source": [
    "z = frozenset([3,4,5,6])\n",
    "print(z)"
   ]
  },
  {
   "cell_type": "code",
   "execution_count": 52,
   "metadata": {},
   "outputs": [],
   "source": [
    "#Will throw exceptions because they are immutable\n",
    "#z.add(8)\n",
    "#z.remove(4)"
   ]
  }
 ],
 "metadata": {
  "kernelspec": {
   "display_name": "Python 3",
   "language": "python",
   "name": "python3"
  },
  "language_info": {
   "codemirror_mode": {
    "name": "ipython",
    "version": 3
   },
   "file_extension": ".py",
   "mimetype": "text/x-python",
   "name": "python",
   "nbconvert_exporter": "python",
   "pygments_lexer": "ipython3",
   "version": "3.7.3"
  }
 },
 "nbformat": 4,
 "nbformat_minor": 2
}
